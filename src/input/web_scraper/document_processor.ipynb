{
 "cells": [
  {
   "cell_type": "code",
   "execution_count": 2,
   "id": "initial_id",
   "metadata": {
    "ExecuteTime": {
     "end_time": "2024-11-02T01:13:52.806185Z",
     "start_time": "2024-11-02T01:13:52.797924Z"
    },
    "collapsed": true
   },
   "outputs": [],
   "source": [
    "import os \n",
    "import json"
   ]
  },
  {
   "cell_type": "code",
   "execution_count": 3,
   "id": "8b1abc7d",
   "metadata": {},
   "outputs": [],
   "source": [
    "PATH = \"/home/drissdo/Desktop/VN_LAW_QA_SYSTEM/data/processed/structured_data_doc.json\""
   ]
  },
  {
   "cell_type": "code",
   "execution_count": null,
   "id": "bbc83b78",
   "metadata": {},
   "outputs": [],
   "source": [
    "with open()"
   ]
  }
 ],
 "metadata": {
  "kernelspec": {
   "display_name": "thesis",
   "language": "python",
   "name": "python3"
  },
  "language_info": {
   "codemirror_mode": {
    "name": "ipython",
    "version": 3
   },
   "file_extension": ".py",
   "mimetype": "text/x-python",
   "name": "python",
   "nbconvert_exporter": "python",
   "pygments_lexer": "ipython3",
   "version": "3.9.19"
  }
 },
 "nbformat": 4,
 "nbformat_minor": 5
}

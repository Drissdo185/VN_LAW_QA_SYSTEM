{
 "cells": [
  {
   "cell_type": "code",
   "execution_count": 1,
   "id": "initial_id",
   "metadata": {
    "ExecuteTime": {
     "end_time": "2024-11-02T02:43:56.294344Z",
     "start_time": "2024-11-02T02:43:56.291405Z"
    },
    "collapsed": true
   },
   "outputs": [],
   "source": [
    "import requests\n",
    "from bs4 import BeautifulSoup\n",
    "import json \n",
    "import logging\n",
    "import os\n",
    "from urllib.parse import urlencode\n",
    "from datetime import datetime\n",
    "import time"
   ]
  },
  {
   "cell_type": "code",
   "execution_count": 2,
   "id": "e78d23c319ff1106",
   "metadata": {
    "ExecuteTime": {
     "end_time": "2024-11-02T02:43:56.304897Z",
     "start_time": "2024-11-02T02:43:56.301673Z"
    }
   },
   "outputs": [],
   "source": [
    "headers = {\n",
    "    'User-Agent': 'Mozilla/5.0 (Windows NT 10.0; Win64; x64) AppleWebKit/537.36 (KHTML, like Gecko) Chrome/91.0.4472.124 Safari/537.36',\n",
    "    'Accept': 'text/html,application/xhtml+xml,application/xml;q=0.9,image/webp,*/*;q=0.8',\n",
    "    'Accept-Language': 'en-US,en;q=0.5',\n",
    "    'Connection': 'keep-alive',\n",
    "}"
   ]
  },
  {
   "cell_type": "code",
   "execution_count": 3,
   "id": "4154eb46284c6253",
   "metadata": {
    "ExecuteTime": {
     "end_time": "2024-11-02T02:43:56.437109Z",
     "start_time": "2024-11-02T02:43:56.430278Z"
    }
   },
   "outputs": [],
   "source": [
    "base_url = \"https://luatvietnam.vn/tim-van-ban.html?Keywords=&SearchOptions=1&SearchByDate=IssueDate&DateFrom=&DateTo=&DocTypeId=11&OrganId=0&EffectStatusId=4&FieldId=28&LanguageId=0&SignerId=0&SignerName=&pSize=50\""
   ]
  },
  {
   "cell_type": "code",
   "execution_count": 4,
   "id": "975140a9d3572929",
   "metadata": {
    "ExecuteTime": {
     "end_time": "2024-11-02T03:33:25.728388Z",
     "start_time": "2024-11-02T03:33:25.522729Z"
    }
   },
   "outputs": [],
   "source": [
    "reponse = requests.get(base_url,headers=headers)"
   ]
  },
  {
   "cell_type": "code",
   "execution_count": 5,
   "id": "c204f2f6b10d1163",
   "metadata": {
    "ExecuteTime": {
     "end_time": "2024-11-02T03:42:47.807587Z",
     "start_time": "2024-11-02T03:42:47.800238Z"
    }
   },
   "outputs": [],
   "source": [
    "soup = BeautifulSoup(reponse.content, 'html.parser')"
   ]
  },
  {
   "cell_type": "code",
   "execution_count": 6,
   "id": "cd350652",
   "metadata": {},
   "outputs": [],
   "source": [
    "block_contents = soup.find_all('div', class_='block-content')"
   ]
  },
  {
   "cell_type": "code",
   "execution_count": 7,
   "id": "c00b148d",
   "metadata": {},
   "outputs": [],
   "source": [
    "articles = block_contents[1].find_all('article', class_='doc-article')\n"
   ]
  },
  {
   "cell_type": "code",
   "execution_count": 11,
   "id": "f9634ac3",
   "metadata": {},
   "outputs": [],
   "source": [
    "hrefs =[]\n",
    "for article in articles:\n",
    "    doc_titles = article.find_all(class_='doc-title')\n",
    "    \n",
    "    for doc_title in doc_titles:\n",
    "        links = doc_title.find_all('a', href=True)\n",
    "        hrefs.extend([link['href'] for link in links])\n"
   ]
  },
  {
   "cell_type": "code",
   "execution_count": 19,
   "id": "c8ad6232",
   "metadata": {},
   "outputs": [],
   "source": [
    "new = hrefs[:50]"
   ]
  },
  {
   "cell_type": "code",
   "execution_count": 21,
   "id": "d081876c",
   "metadata": {},
   "outputs": [],
   "source": [
    "import re\n",
    "import json\n",
    "from datetime import datetime\n",
    "import logging\n",
    "\n",
    "# Cấu hình logging\n",
    "logging.basicConfig(\n",
    "    level=logging.DEBUG,\n",
    "    format='%(asctime)s - %(levelname)s - %(message)s',\n",
    "    handlers=[\n",
    "        logging.FileHandler('law_parser.log', encoding='utf-8'),\n",
    "        logging.StreamHandler()\n",
    "    ]\n",
    ")\n",
    "\n",
    "result = {\n",
    "    \"title\": \"\",\n",
    "    \"id_doc\": \"\",\n",
    "    \"location\": \"Hà Nội\",\n",
    "    \"doc_type\": \"Giao Thông\",\n",
    "    \"date\": \"\",\n",
    "    \"base\": [],\n",
    "    \"signs\": [],\n",
    "    \"data\": {},\n",
    "    \"department\": \"Quốc hội\",\n",
    "    \"doc_type_en\": \"The law\"\n",
    "}\n",
    "\n",
    "def parse_law_structure(docitems):\n",
    "    signs_text = []\n",
    "    date_found = False\n",
    "    all_content = []\n",
    "    \n",
    "    logging.info(f\"Bắt đầu parse với số lượng docitems: {len(docitems)}\")\n",
    "    \n",
    "    for item in docitems:\n",
    "        text = item.get_text(strip=True)\n",
    "        \n",
    "        # Xử lý phần chữ ký và ngày tháng\n",
    "        if \"Luật này được Quốc hội\" in text or \"CHỦ TỊCH\" in text:\n",
    "            date_found = True\n",
    "            signs_text.append(text)\n",
    "            continue\n",
    "            \n",
    "        if date_found:\n",
    "            signs_text.append(text)\n",
    "            continue\n",
    "\n",
    "        # Collect all content\n",
    "        if text:\n",
    "            all_content.append(text)\n",
    "    \n",
    "    # Save all content to data\n",
    "    result['data'] = {\n",
    "        \"content\": \"\\n\".join(all_content)\n",
    "    }\n",
    "\n",
    "    # Xử lý phần chữ ký\n",
    "    if signs_text:\n",
    "        full_signs = ' '.join(signs_text)\n",
    "        \n",
    "        name_match = re.search(r'Đã ký:?\\s*([^.]+)', full_signs)\n",
    "        if name_match:\n",
    "            name = name_match.group(1).strip()\n",
    "            result[\"signs\"] = [name]\n",
    "            \n",
    "        date_match = re.search(r'Luật này được.*?thông qua ngày (\\d+) tháng (\\d+) năm (\\d+)', full_signs)\n",
    "        if date_match:\n",
    "            ngay, thang, nam = date_match.groups()\n",
    "            result[\"date\"] = f\"{ngay}/{thang}/{nam}\"\n",
    "\n"
   ]
  },
  {
   "cell_type": "code",
   "execution_count": 15,
   "id": "8ea3d36a",
   "metadata": {},
   "outputs": [],
   "source": [
    "# for i in range(0,25):\n",
    "#     herf = documents[i]['href']\n",
    "#     tem_url = \"https://luatvietnam.vn\" + herf\n",
    "#     reponse = requests.get(tem_url, headers=headers)\n",
    "#     soup = BeautifulSoup(reponse.content, 'html.parser')\n",
    "#     main = soup.select_one('main.main')\n",
    "#     if not main:\n",
    "#         print(\"Could not find main content section\")  \n",
    "#     main_content = main.select_one('div.main-content')\n",
    "#     wrapper = main_content.select_one('div.wrapper')\n",
    "#     content_left = wrapper.select_one('div.content-left')\n",
    "#     document = content_left.select_one('article.the-document')\n",
    "#     tab_content = document.select_one('div.tab-content.fix-border')\n",
    "#     tab_noi_dung = tab_content.select_one('div#chidanthaydoi')\n",
    "\n",
    "    \n",
    "#     # Xử lý title và id_doc\n",
    "#     data_title = tab_content.get('data-title')\n",
    "#     if data_title:\n",
    "#         match = re.search(r'\\b(\\d{2}/\\d{4}/QH\\d{2})\\b', data_title)\n",
    "#         title_part = data_title.split(', số')[0].strip()\n",
    "#         result[\"title\"] = title_part\n",
    "#         if match:\n",
    "#             document_number = match.group(1)\n",
    "#             result[\"id_doc\"] = document_number\n",
    "\n",
    "#     # Parse docitems\n",
    "#     docitems = tab_noi_dung.find_all(\"div\", class_=lambda x: x and x.startswith(\"docitem\"))\n",
    "#     parse_law_structure(docitems)\n",
    "\n",
    "#     # Save to JSON file\n",
    "#     timestamp = datetime.now().strftime(\"%Y%m%d_%H%M%S\")\n",
    "#     filename = f\"{result['title'].replace(' ', '_')}.json\"\n",
    "#     special = \"Điều_chỉnh_luật.json\"\n",
    "#     if \"_số\" in filename:\n",
    "#         clean_name = re.sub(r'_số.*\\.json$', '.json', filename)\n",
    "#         filename = clean_name\n",
    "\n",
    "\n",
    "#     try:\n",
    "#         with open(filename, 'w', encoding='utf-8') as f:\n",
    "#             json.dump(result, f, ensure_ascii=False, indent=2)\n",
    "#         print(f\"Đã lưu thành công vào file: {filename}\")\n",
    "#     except Exception as e:\n",
    "#         print(f\"Lỗi khi lưu file: {str(e)}\")\n"
   ]
  },
  {
   "cell_type": "code",
   "execution_count": 23,
   "id": "b47e1ef0",
   "metadata": {},
   "outputs": [
    {
     "name": "stderr",
     "output_type": "stream",
     "text": [
      "2024-11-11 21:39:06,228 - DEBUG - Starting new HTTPS connection (1): luatvietnam.vn:443\n",
      "2024-11-11 21:39:06,446 - DEBUG - https://luatvietnam.vn:443 \"GET /thue/nghi-dinh-130-2024-nd-cp-thu-phi-duong-bo-cao-toc-voi-phuong-tien-luu-thong-tren-tuyen-duong-bo-cao-toc-368350-d1.html HTTP/11\" 200 None\n",
      "2024-11-11 21:39:06,541 - INFO - Bắt đầu parse với số lượng docitems: 111\n",
      "2024-11-11 21:39:06,543 - DEBUG - Starting new HTTPS connection (1): luatvietnam.vn:443\n",
      "2024-11-11 21:39:06,720 - DEBUG - https://luatvietnam.vn:443 \"GET /doanh-nghiep/nghi-dinh-121-2024-nd-cp-sua-doi-nd-139-2018-nd-cp-quy-dinh-kinh-doanh-dich-vu-kiem-dinh-xe-co-gioi-367481-d1.html HTTP/11\" 200 None\n"
     ]
    },
    {
     "name": "stdout",
     "output_type": "stream",
     "text": [
      "Đã lưu thành công vào file: Nghi_dinh_giao_thong_0.json\n"
     ]
    },
    {
     "name": "stderr",
     "output_type": "stream",
     "text": [
      "2024-11-11 21:39:06,770 - INFO - Bắt đầu parse với số lượng docitems: 20\n",
      "2024-11-11 21:39:06,772 - DEBUG - Starting new HTTPS connection (1): luatvietnam.vn:443\n",
      "2024-11-11 21:39:06,935 - DEBUG - https://luatvietnam.vn:443 \"GET /tai-chinh/nghi-dinh-119-2024-nd-cp-cua-chinh-phu-quy-dinh-ve-thanh-toan-dien-tu-giao-thong-duong-bo-367223-d1.html HTTP/11\" 200 None\n"
     ]
    },
    {
     "name": "stdout",
     "output_type": "stream",
     "text": [
      "Đã lưu thành công vào file: Nghi_dinh_giao_thong_1.json\n"
     ]
    },
    {
     "name": "stderr",
     "output_type": "stream",
     "text": [
      "2024-11-11 21:39:07,019 - INFO - Bắt đầu parse với số lượng docitems: 288\n",
      "2024-11-11 21:39:07,021 - DEBUG - Starting new HTTPS connection (1): luatvietnam.vn:443\n"
     ]
    },
    {
     "name": "stdout",
     "output_type": "stream",
     "text": [
      "Đã lưu thành công vào file: Nghi_dinh_giao_thong_2.json\n"
     ]
    },
    {
     "name": "stderr",
     "output_type": "stream",
     "text": [
      "2024-11-11 21:39:07,263 - DEBUG - https://luatvietnam.vn:443 \"GET /giao-thong/nghi-dinh-57-2024-nd-cp-quan-ly-hoat-dong-nao-vet-trong-vung-nuoc-cang-bien-va-vung-nuoc-duong-thuy-noi-dia-337354-d1.html HTTP/11\" 200 None\n",
      "2024-11-11 21:39:07,466 - INFO - Bắt đầu parse với số lượng docitems: 326\n",
      "2024-11-11 21:39:07,469 - DEBUG - Starting new HTTPS connection (1): luatvietnam.vn:443\n",
      "2024-11-11 21:39:07,633 - DEBUG - https://luatvietnam.vn:443 \"GET /giao-thong/nghi-dinh-44-2024-nd-cp-quy-dinh-quan-ly-va-khai-thac-tai-san-ket-cau-ha-tang-giao-thong-duong-bo-320616-d1.html HTTP/11\" 200 None\n"
     ]
    },
    {
     "name": "stdout",
     "output_type": "stream",
     "text": [
      "Đã lưu thành công vào file: Nghi_dinh_giao_thong_3.json\n"
     ]
    },
    {
     "name": "stderr",
     "output_type": "stream",
     "text": [
      "2024-11-11 21:39:07,821 - INFO - Bắt đầu parse với số lượng docitems: 661\n",
      "2024-11-11 21:39:07,828 - DEBUG - Starting new HTTPS connection (1): luatvietnam.vn:443\n"
     ]
    },
    {
     "name": "stdout",
     "output_type": "stream",
     "text": [
      "Đã lưu thành công vào file: Nghi_dinh_giao_thong_4.json\n"
     ]
    },
    {
     "name": "stderr",
     "output_type": "stream",
     "text": [
      "2024-11-11 21:39:08,030 - DEBUG - https://luatvietnam.vn:443 \"GET /giao-thong/nghi-dinh-41-2024-nd-cp-sua-doi-cac-nd-ve-quan-ly-hoat-dong-van-tai-bang-xe-o-to-317978-d1.html HTTP/11\" 200 None\n",
      "2024-11-11 21:39:08,745 - INFO - Bắt đầu parse với số lượng docitems: 177\n",
      "2024-11-11 21:39:08,751 - DEBUG - Starting new HTTPS connection (1): luatvietnam.vn:443\n",
      "2024-11-11 21:39:08,909 - DEBUG - https://luatvietnam.vn:443 \"GET /giao-thong/nghi-dinh-34-2024-nd-cp-danh-muc-van-chuyen-hang-hoa-nguy-hiem-bang-phuong-tien-giao-thong-co-gioi-309573-d1.html HTTP/11\" 200 None\n"
     ]
    },
    {
     "name": "stdout",
     "output_type": "stream",
     "text": [
      "Đã lưu thành công vào file: Nghi_dinh_giao_thong_5.json\n"
     ]
    },
    {
     "name": "stderr",
     "output_type": "stream",
     "text": [
      "2024-11-11 21:39:10,713 - INFO - Bắt đầu parse với số lượng docitems: 255\n",
      "2024-11-11 21:39:10,738 - DEBUG - Starting new HTTPS connection (1): luatvietnam.vn:443\n",
      "2024-11-11 21:39:10,928 - DEBUG - https://luatvietnam.vn:443 \"GET /giao-thong/nghi-dinh-30-2024-nd-cp-quan-ly-phuong-tien-co-gioi-nguoi-nuoc-ngoai-dua-vao-vn-du-lich-302837-d1.html HTTP/11\" 200 None\n"
     ]
    },
    {
     "name": "stdout",
     "output_type": "stream",
     "text": [
      "Đã lưu thành công vào file: Nghi_dinh_giao_thong_6.json\n"
     ]
    },
    {
     "name": "stderr",
     "output_type": "stream",
     "text": [
      "2024-11-11 21:39:11,039 - INFO - Bắt đầu parse với số lượng docitems: 93\n",
      "2024-11-11 21:39:11,045 - DEBUG - Starting new HTTPS connection (1): luatvietnam.vn:443\n"
     ]
    },
    {
     "name": "stdout",
     "output_type": "stream",
     "text": [
      "Đã lưu thành công vào file: Nghi_dinh_giao_thong_7.json\n"
     ]
    },
    {
     "name": "stderr",
     "output_type": "stream",
     "text": [
      "2024-11-11 21:39:11,259 - DEBUG - https://luatvietnam.vn:443 \"GET /giao-thong/nghi-dinh-20-2024-nd-cp-sua-doi-nghi-dinh-05-2021-nd-cp-va-nghi-dinh-64-2022-nd-cp-298708-d1.html HTTP/11\" 200 None\n",
      "2024-11-11 21:39:11,349 - INFO - Bắt đầu parse với số lượng docitems: 40\n",
      "2024-11-11 21:39:11,351 - DEBUG - Starting new HTTPS connection (1): luatvietnam.vn:443\n",
      "2024-11-11 21:39:11,514 - DEBUG - https://luatvietnam.vn:443 \"GET /giao-thong/nghi-dinh-15-2024-nd-cp-sua-doi-nghi-dinh-30-2013-nd-cp-va-nghi-dinh-92-2016-nd-cp-296566-d1.html HTTP/11\" 200 None\n"
     ]
    },
    {
     "name": "stdout",
     "output_type": "stream",
     "text": [
      "Đã lưu thành công vào file: Nghi_dinh_giao_thong_8.json\n"
     ]
    },
    {
     "name": "stderr",
     "output_type": "stream",
     "text": [
      "2024-11-11 21:39:11,764 - INFO - Bắt đầu parse với số lượng docitems: 24\n",
      "2024-11-11 21:39:11,765 - DEBUG - Starting new HTTPS connection (1): luatvietnam.vn:443\n",
      "2024-11-11 21:39:11,936 - DEBUG - https://luatvietnam.vn:443 \"GET /giao-thong/nghi-dinh-06-2024-nd-cp-sua-nghi-dinh-08-2021-quan-ly-hoat-dong-duong-thuy-noi-dia-293090-d1.html HTTP/11\" 200 None\n"
     ]
    },
    {
     "name": "stdout",
     "output_type": "stream",
     "text": [
      "Đã lưu thành công vào file: Nghi_dinh_giao_thong_9.json\n"
     ]
    },
    {
     "name": "stderr",
     "output_type": "stream",
     "text": [
      "2024-11-11 21:39:11,987 - INFO - Bắt đầu parse với số lượng docitems: 28\n",
      "2024-11-11 21:39:11,988 - DEBUG - Starting new HTTPS connection (1): luatvietnam.vn:443\n",
      "2024-11-11 21:39:12,146 - DEBUG - https://luatvietnam.vn:443 \"GET /giao-thong/decree-01-2024-nd-cp-amend-11-2010-nd-cp-management-of-road-infrastructure-facilities-287104-d1.html HTTP/11\" 200 None\n"
     ]
    },
    {
     "name": "stdout",
     "output_type": "stream",
     "text": [
      "Đã lưu thành công vào file: Nghi_dinh_giao_thong_10.json\n"
     ]
    },
    {
     "name": "stderr",
     "output_type": "stream",
     "text": [
      "2024-11-11 21:39:12,203 - INFO - Bắt đầu parse với số lượng docitems: 16\n",
      "2024-11-11 21:39:12,205 - DEBUG - Starting new HTTPS connection (1): luatvietnam.vn:443\n",
      "2024-11-11 21:39:12,390 - DEBUG - https://luatvietnam.vn:443 \"GET /giao-thong/nghi-dinh-91-2023-nd-cp-sua-doi-nghi-dinh-65-2018-nd-cp-va-nghi-dinh-01-2022-nd-cp-282929-d1.html HTTP/11\" 200 None\n"
     ]
    },
    {
     "name": "stdout",
     "output_type": "stream",
     "text": [
      "Đã lưu thành công vào file: Nghi_dinh_giao_thong_11.json\n"
     ]
    },
    {
     "name": "stderr",
     "output_type": "stream",
     "text": [
      "2024-11-11 21:39:12,477 - INFO - Bắt đầu parse với số lượng docitems: 15\n",
      "2024-11-11 21:39:12,479 - DEBUG - Starting new HTTPS connection (1): luatvietnam.vn:443\n",
      "2024-11-11 21:39:12,659 - DEBUG - https://luatvietnam.vn:443 \"GET /thue/nghi-dinh-90-2023-nd-cp-thu-nop-mien-quan-ly-su-dung-phi-su-dung-duong-bo-284322-d1.html HTTP/11\" 200 None\n"
     ]
    },
    {
     "name": "stdout",
     "output_type": "stream",
     "text": [
      "Đã lưu thành công vào file: Nghi_dinh_giao_thong_12.json\n"
     ]
    },
    {
     "name": "stderr",
     "output_type": "stream",
     "text": [
      "2024-11-11 21:39:12,819 - INFO - Bắt đầu parse với số lượng docitems: 138\n",
      "2024-11-11 21:39:12,822 - DEBUG - Starting new HTTPS connection (1): luatvietnam.vn:443\n"
     ]
    },
    {
     "name": "stdout",
     "output_type": "stream",
     "text": [
      "Đã lưu thành công vào file: Nghi_dinh_giao_thong_13.json\n"
     ]
    },
    {
     "name": "stderr",
     "output_type": "stream",
     "text": [
      "2024-11-11 21:39:13,473 - DEBUG - https://luatvietnam.vn:443 \"GET /giao-thong/nghi-dinh-39-2023-nd-cp-huong-dan-nghi-quyet-73-2022-dau-gia-bien-so-xe-o-to-257341-d1.html HTTP/11\" 200 None\n",
      "2024-11-11 21:39:13,620 - INFO - Bắt đầu parse với số lượng docitems: 121\n",
      "2024-11-11 21:39:13,622 - DEBUG - Starting new HTTPS connection (1): luatvietnam.vn:443\n",
      "2024-11-11 21:39:13,816 - DEBUG - https://luatvietnam.vn:443 \"GET /giao-thong/nghi-dinh-25-2023-nd-cp-sua-nghi-dinh-32-bao-tri-cong-trinh-duong-cao-toc-253102-d1.html HTTP/11\" 200 None\n"
     ]
    },
    {
     "name": "stdout",
     "output_type": "stream",
     "text": [
      "Đã lưu thành công vào file: Nghi_dinh_giao_thong_14.json\n"
     ]
    },
    {
     "name": "stderr",
     "output_type": "stream",
     "text": [
      "2024-11-11 21:39:13,887 - INFO - Bắt đầu parse với số lượng docitems: 57\n",
      "2024-11-11 21:39:13,888 - DEBUG - Starting new HTTPS connection (1): luatvietnam.vn:443\n",
      "2024-11-11 21:39:14,084 - DEBUG - https://luatvietnam.vn:443 \"GET /xay-dung/nghi-dinh-15-2023-nd-cp-thuong-hd-goi-thau-xay-lap-giao-thong-250739-d1.html HTTP/11\" 200 None\n"
     ]
    },
    {
     "name": "stdout",
     "output_type": "stream",
     "text": [
      "Đã lưu thành công vào file: Nghi_dinh_giao_thong_15.json\n"
     ]
    },
    {
     "name": "stderr",
     "output_type": "stream",
     "text": [
      "2024-11-11 21:39:14,188 - INFO - Bắt đầu parse với số lượng docitems: 0\n",
      "2024-11-11 21:39:14,190 - DEBUG - Starting new HTTPS connection (1): luatvietnam.vn:443\n",
      "2024-11-11 21:39:14,375 - DEBUG - https://luatvietnam.vn:443 \"GET /an-ninh-trat-tu/nghi-dinh-93-2022-nd-cp-234278-d1.html HTTP/11\" 200 None\n"
     ]
    },
    {
     "name": "stdout",
     "output_type": "stream",
     "text": [
      "Đã lưu thành công vào file: Nghi_dinh_giao_thong_16.json\n"
     ]
    },
    {
     "name": "stderr",
     "output_type": "stream",
     "text": [
      "2024-11-11 21:39:14,581 - INFO - Bắt đầu parse với số lượng docitems: 82\n",
      "2024-11-11 21:39:14,583 - DEBUG - Starting new HTTPS connection (1): luatvietnam.vn:443\n",
      "2024-11-11 21:39:14,737 - DEBUG - https://luatvietnam.vn:443 \"GET /co-cau-to-chuc/nghi-dinh-56-2022-nd-cp-quy-dinh-co-cau-to-chuc-cua-bo-giao-thong-van-tai-228718-d1.html HTTP/11\" 200 None\n"
     ]
    },
    {
     "name": "stdout",
     "output_type": "stream",
     "text": [
      "Đã lưu thành công vào file: Nghi_dinh_giao_thong_17.json\n"
     ]
    },
    {
     "name": "stderr",
     "output_type": "stream",
     "text": [
      "2024-11-11 21:39:14,799 - INFO - Bắt đầu parse với số lượng docitems: 124\n",
      "2024-11-11 21:39:14,801 - DEBUG - Starting new HTTPS connection (1): luatvietnam.vn:443\n"
     ]
    },
    {
     "name": "stdout",
     "output_type": "stream",
     "text": [
      "Đã lưu thành công vào file: Nghi_dinh_giao_thong_18.json\n"
     ]
    },
    {
     "name": "stderr",
     "output_type": "stream",
     "text": [
      "2024-11-11 21:39:15,025 - DEBUG - https://luatvietnam.vn:443 \"GET /giao-thong/nghi-dinh-54-2022-nd-cp-chinh-phu-228524-d1.html HTTP/11\" 200 None\n",
      "2024-11-11 21:39:15,187 - INFO - Bắt đầu parse với số lượng docitems: 12\n",
      "2024-11-11 21:39:15,189 - DEBUG - Starting new HTTPS connection (1): luatvietnam.vn:443\n",
      "2024-11-11 21:39:15,363 - DEBUG - https://luatvietnam.vn:443 \"GET /vi-pham-hanh-chinh/nghi-dinh-139-2021-nd-cp-chinh-phu-215245-d1.html HTTP/11\" 200 None\n"
     ]
    },
    {
     "name": "stdout",
     "output_type": "stream",
     "text": [
      "Đã lưu thành công vào file: Nghi_dinh_giao_thong_19.json\n"
     ]
    },
    {
     "name": "stderr",
     "output_type": "stream",
     "text": [
      "2024-11-11 21:39:15,465 - INFO - Bắt đầu parse với số lượng docitems: 823\n",
      "2024-11-11 21:39:15,468 - DEBUG - Starting new HTTPS connection (1): luatvietnam.vn:443\n",
      "2024-11-11 21:39:15,652 - DEBUG - https://luatvietnam.vn:443 \"GET /vi-pham-hanh-chinh/nghi-dinh-123-2021-nd-cp-sua-nghi-dinh-100-xu-phat-ve-giao-thong-214946-d1.html HTTP/11\" 200 None\n"
     ]
    },
    {
     "name": "stdout",
     "output_type": "stream",
     "text": [
      "Đã lưu thành công vào file: Nghi_dinh_giao_thong_20.json\n"
     ]
    },
    {
     "name": "stderr",
     "output_type": "stream",
     "text": [
      "2024-11-11 21:39:15,789 - INFO - Bắt đầu parse với số lượng docitems: 353\n",
      "2024-11-11 21:39:15,792 - DEBUG - Starting new HTTPS connection (1): luatvietnam.vn:443\n",
      "2024-11-11 21:39:15,964 - DEBUG - https://luatvietnam.vn:443 \"GET /xay-dung/nghi-dinh-117-2021-nd-cp-chinh-phu-214529-d1.html HTTP/11\" 200 None\n"
     ]
    },
    {
     "name": "stdout",
     "output_type": "stream",
     "text": [
      "Đã lưu thành công vào file: Nghi_dinh_giao_thong_21.json\n"
     ]
    },
    {
     "name": "stderr",
     "output_type": "stream",
     "text": [
      "2024-11-11 21:39:16,014 - INFO - Bắt đầu parse với số lượng docitems: 15\n",
      "2024-11-11 21:39:16,016 - DEBUG - Starting new HTTPS connection (1): luatvietnam.vn:443\n",
      "2024-11-11 21:39:16,180 - DEBUG - https://luatvietnam.vn:443 \"GET /giao-thong/nghi-dinh-96-2021-nd-cp-211917-d1.html HTTP/11\" 200 None\n"
     ]
    },
    {
     "name": "stdout",
     "output_type": "stream",
     "text": [
      "Đã lưu thành công vào file: Nghi_dinh_giao_thong_22.json\n"
     ]
    },
    {
     "name": "stderr",
     "output_type": "stream",
     "text": [
      "2024-11-11 21:39:16,232 - INFO - Bắt đầu parse với số lượng docitems: 117\n",
      "2024-11-11 21:39:16,234 - DEBUG - Starting new HTTPS connection (1): luatvietnam.vn:443\n",
      "2024-11-11 21:39:16,420 - DEBUG - https://luatvietnam.vn:443 \"GET /giao-thong/nghi-dinh-76-2021-nd-cp-quy-dinh-tieu-chi-phan-loai-cang-bien-206425-d1.html HTTP/11\" 200 None\n"
     ]
    },
    {
     "name": "stdout",
     "output_type": "stream",
     "text": [
      "Đã lưu thành công vào file: Nghi_dinh_giao_thong_23.json\n"
     ]
    },
    {
     "name": "stderr",
     "output_type": "stream",
     "text": [
      "2024-11-11 21:39:16,562 - INFO - Bắt đầu parse với số lượng docitems: 44\n",
      "2024-11-11 21:39:16,564 - DEBUG - Starting new HTTPS connection (1): luatvietnam.vn:443\n"
     ]
    },
    {
     "name": "stdout",
     "output_type": "stream",
     "text": [
      "Đã lưu thành công vào file: Nghi_dinh_giao_thong_24.json\n"
     ]
    },
    {
     "name": "stderr",
     "output_type": "stream",
     "text": [
      "2024-11-11 21:39:16,775 - DEBUG - https://luatvietnam.vn:443 \"GET /chinh-sach/nghi-dinh-97-2020-boi-thuong-thiet-hai-cua-nguoi-van-chuyen-hang-khong-189633-d1.html HTTP/11\" 200 None\n",
      "2024-11-11 21:39:16,843 - INFO - Bắt đầu parse với số lượng docitems: 15\n",
      "2024-11-11 21:39:16,845 - DEBUG - Starting new HTTPS connection (1): luatvietnam.vn:443\n",
      "2024-11-11 21:39:17,036 - DEBUG - https://luatvietnam.vn:443 \"GET /giao-thong/nghi-dinh-86-2020-sua-doi-nghi-dinh-171-2016-nd-cp-dang-ky-tau-bien-187308-d1.html HTTP/11\" 200 None\n"
     ]
    },
    {
     "name": "stdout",
     "output_type": "stream",
     "text": [
      "Đã lưu thành công vào file: Nghi_dinh_giao_thong_25.json\n"
     ]
    },
    {
     "name": "stderr",
     "output_type": "stream",
     "text": [
      "2024-11-11 21:39:17,128 - INFO - Bắt đầu parse với số lượng docitems: 76\n",
      "2024-11-11 21:39:17,130 - DEBUG - Starting new HTTPS connection (1): luatvietnam.vn:443\n"
     ]
    },
    {
     "name": "stdout",
     "output_type": "stream",
     "text": [
      "Đã lưu thành công vào file: Nghi_dinh_giao_thong_26.json\n"
     ]
    },
    {
     "name": "stderr",
     "output_type": "stream",
     "text": [
      "2024-11-11 21:39:17,341 - DEBUG - https://luatvietnam.vn:443 \"GET /giao-thong/nghi-dinh-56-2019-nd-cp-huong-dan-luat-sua-doi-37-luat-lien-quan-den-quy-hoach-174888-d1.html HTTP/11\" 200 None\n",
      "2024-11-11 21:39:17,414 - INFO - Bắt đầu parse với số lượng docitems: 199\n",
      "2024-11-11 21:39:17,415 - DEBUG - Starting new HTTPS connection (1): luatvietnam.vn:443\n",
      "2024-11-11 21:39:17,580 - DEBUG - https://luatvietnam.vn:443 \"GET /giao-thong/nghi-dinh-144-2018-nd-cp-sua-doi-bo-sung-cac-nghi-dinh-ve-van-tai-da-phuong-thuc-167942-d1.html HTTP/11\" 200 None\n"
     ]
    },
    {
     "name": "stdout",
     "output_type": "stream",
     "text": [
      "Đã lưu thành công vào file: Nghi_dinh_giao_thong_27.json\n"
     ]
    },
    {
     "name": "stderr",
     "output_type": "stream",
     "text": [
      "2024-11-11 21:39:17,626 - INFO - Bắt đầu parse với số lượng docitems: 17\n",
      "2024-11-11 21:39:17,627 - DEBUG - Starting new HTTPS connection (1): luatvietnam.vn:443\n",
      "2024-11-11 21:39:17,819 - DEBUG - https://luatvietnam.vn:443 \"GET /giao-thong/nghi-dinh-128-2018-nd-cp-sua-doi-cac-nghi-dinh-ve-kinh-doanh-linh-vuc-duong-thuy-167324-d1.html HTTP/11\" 200 None\n"
     ]
    },
    {
     "name": "stdout",
     "output_type": "stream",
     "text": [
      "Đã lưu thành công vào file: Nghi_dinh_giao_thong_28.json\n"
     ]
    },
    {
     "name": "stderr",
     "output_type": "stream",
     "text": [
      "2024-11-11 21:39:17,868 - INFO - Bắt đầu parse với số lượng docitems: 23\n",
      "2024-11-11 21:39:17,870 - DEBUG - Starting new HTTPS connection (1): luatvietnam.vn:443\n",
      "2024-11-11 21:39:18,053 - DEBUG - https://luatvietnam.vn:443 \"GET /co-cau-to-chuc/nghi-dinh-75-2018-nd-cp-ve-to-chuc-nhiem-vu-trang-phuc-cua-luc-luong-bao-ve-tren-tau-163151-d1.html HTTP/11\" 200 None\n"
     ]
    },
    {
     "name": "stdout",
     "output_type": "stream",
     "text": [
      "Đã lưu thành công vào file: Nghi_dinh_giao_thong_29.json\n"
     ]
    },
    {
     "name": "stderr",
     "output_type": "stream",
     "text": [
      "2024-11-11 21:39:18,166 - INFO - Bắt đầu parse với số lượng docitems: 145\n",
      "2024-11-11 21:39:18,167 - DEBUG - Starting new HTTPS connection (1): luatvietnam.vn:443\n"
     ]
    },
    {
     "name": "stdout",
     "output_type": "stream",
     "text": [
      "Đã lưu thành công vào file: Nghi_dinh_giao_thong_30.json\n"
     ]
    },
    {
     "name": "stderr",
     "output_type": "stream",
     "text": [
      "2024-11-11 21:39:18,407 - DEBUG - https://luatvietnam.vn:443 \"GET /giao-thong/nghi-dinh-56-2018-nd-cp-quy-dinh-ve-quan-ly-bao-ve-ket-cau-ha-tang-duong-sat-162059-d1.html HTTP/11\" 200 None\n",
      "2024-11-11 21:39:18,558 - INFO - Bắt đầu parse với số lượng docitems: 258\n",
      "2024-11-11 21:39:18,560 - DEBUG - Starting new HTTPS connection (1): luatvietnam.vn:443\n",
      "2024-11-11 21:39:18,725 - DEBUG - https://luatvietnam.vn:443 \"GET /giao-thong/nghi-dinh-46-2018-nd-cp-quan-ly-tai-san-ket-cau-ha-tang-duong-sat-quoc-gia-161251-d1.html HTTP/11\" 200 None\n"
     ]
    },
    {
     "name": "stdout",
     "output_type": "stream",
     "text": [
      "Đã lưu thành công vào file: Nghi_dinh_giao_thong_31.json\n"
     ]
    },
    {
     "name": "stderr",
     "output_type": "stream",
     "text": [
      "2024-11-11 21:39:18,998 - INFO - Bắt đầu parse với số lượng docitems: 428\n",
      "2024-11-11 21:39:19,003 - DEBUG - Starting new HTTPS connection (1): luatvietnam.vn:443\n",
      "2024-11-11 21:39:19,181 - DEBUG - https://luatvietnam.vn:443 \"GET /giao-thong/nghi-dinh-44-2018-nd-cp-quan-ly-tai-san-ket-cau-ha-tang-hang-khong-161249-d1.html HTTP/11\" 200 None\n"
     ]
    },
    {
     "name": "stdout",
     "output_type": "stream",
     "text": [
      "Đã lưu thành công vào file: Nghi_dinh_giao_thong_32.json\n"
     ]
    },
    {
     "name": "stderr",
     "output_type": "stream",
     "text": [
      "2024-11-11 21:39:19,417 - INFO - Bắt đầu parse với số lượng docitems: 401\n",
      "2024-11-11 21:39:19,421 - DEBUG - Starting new HTTPS connection (1): luatvietnam.vn:443\n",
      "2024-11-11 21:39:19,606 - DEBUG - https://luatvietnam.vn:443 \"GET /hang-hai/nghi-dinh-16-2018-nd-cp-chinh-phu-159256-d1.html HTTP/11\" 200 None\n"
     ]
    },
    {
     "name": "stdout",
     "output_type": "stream",
     "text": [
      "Đã lưu thành công vào file: Nghi_dinh_giao_thong_33.json\n"
     ]
    },
    {
     "name": "stderr",
     "output_type": "stream",
     "text": [
      "2024-11-11 21:39:19,673 - INFO - Bắt đầu parse với số lượng docitems: 103\n",
      "2024-11-11 21:39:19,675 - DEBUG - Starting new HTTPS connection (1): luatvietnam.vn:443\n",
      "2024-11-11 21:39:19,857 - DEBUG - https://luatvietnam.vn:443 \"GET /co-cau-to-chuc/nghi-dinh-11-2018-nd-cp-cua-chinh-phu-ve-viec-ban-hanh-dieu-le-to-chuc-va-hoat-dong-cua-tong-cong-ty-duong-sat-viet-nam-158568-d1.html HTTP/11\" 200 None\n"
     ]
    },
    {
     "name": "stdout",
     "output_type": "stream",
     "text": [
      "Đã lưu thành công vào file: Nghi_dinh_giao_thong_34.json\n"
     ]
    },
    {
     "name": "stderr",
     "output_type": "stream",
     "text": [
      "2024-11-11 21:39:19,972 - INFO - Bắt đầu parse với số lượng docitems: 691\n",
      "2024-11-11 21:39:19,976 - DEBUG - Starting new HTTPS connection (1): luatvietnam.vn:443\n",
      "2024-11-11 21:39:20,172 - DEBUG - https://luatvietnam.vn:443 \"GET /giao-thong/nghi-dinh-143-2017-nd-cp-chinh-phu-119072-d1.html HTTP/11\" 200 None\n"
     ]
    },
    {
     "name": "stdout",
     "output_type": "stream",
     "text": [
      "Đã lưu thành công vào file: Nghi_dinh_giao_thong_35.json\n"
     ]
    },
    {
     "name": "stderr",
     "output_type": "stream",
     "text": [
      "2024-11-11 21:39:20,244 - INFO - Bắt đầu parse với số lượng docitems: 114\n",
      "2024-11-11 21:39:20,247 - DEBUG - Starting new HTTPS connection (1): luatvietnam.vn:443\n"
     ]
    },
    {
     "name": "stdout",
     "output_type": "stream",
     "text": [
      "Đã lưu thành công vào file: Nghi_dinh_giao_thong_36.json\n"
     ]
    },
    {
     "name": "stderr",
     "output_type": "stream",
     "text": [
      "2024-11-11 21:39:20,483 - DEBUG - https://luatvietnam.vn:443 \"GET /xuat-nhap-khau/nghi-dinh-169-2016-nd-cp-chinh-phu-111529-d1.html HTTP/11\" 200 None\n",
      "2024-11-11 21:39:20,638 - INFO - Bắt đầu parse với số lượng docitems: 79\n",
      "2024-11-11 21:39:20,639 - DEBUG - Starting new HTTPS connection (1): luatvietnam.vn:443\n",
      "2024-11-11 21:39:20,828 - DEBUG - https://luatvietnam.vn:443 \"GET /giao-thong/nghi-dinh-170-2016-nd-cp-chinh-phu-111472-d1.html HTTP/11\" 200 None\n"
     ]
    },
    {
     "name": "stdout",
     "output_type": "stream",
     "text": [
      "Đã lưu thành công vào file: Nghi_dinh_giao_thong_37.json\n"
     ]
    },
    {
     "name": "stderr",
     "output_type": "stream",
     "text": [
      "2024-11-11 21:39:20,889 - INFO - Bắt đầu parse với số lượng docitems: 87\n",
      "2024-11-11 21:39:20,891 - DEBUG - Starting new HTTPS connection (1): luatvietnam.vn:443\n",
      "2024-11-11 21:39:21,075 - DEBUG - https://luatvietnam.vn:443 \"GET /tai-chinh/nghi-dinh-146-2016-nd-cp-chinh-phu-110190-d1.html HTTP/11\" 200 None\n"
     ]
    },
    {
     "name": "stdout",
     "output_type": "stream",
     "text": [
      "Đã lưu thành công vào file: Nghi_dinh_giao_thong_38.json\n"
     ]
    },
    {
     "name": "stderr",
     "output_type": "stream",
     "text": [
      "2024-11-11 21:39:21,135 - INFO - Bắt đầu parse với số lượng docitems: 59\n",
      "2024-11-11 21:39:21,136 - DEBUG - Starting new HTTPS connection (1): luatvietnam.vn:443\n",
      "2024-11-11 21:39:21,328 - DEBUG - https://luatvietnam.vn:443 \"GET /giao-thong/nghi-dinh-42-2016-nd-cp-chinh-phu-106569-d1.html HTTP/11\" 200 None\n"
     ]
    },
    {
     "name": "stdout",
     "output_type": "stream",
     "text": [
      "Đã lưu thành công vào file: Nghi_dinh_giao_thong_39.json\n"
     ]
    },
    {
     "name": "stderr",
     "output_type": "stream",
     "text": [
      "2024-11-11 21:39:21,422 - INFO - Bắt đầu parse với số lượng docitems: 192\n",
      "2024-11-11 21:39:21,424 - DEBUG - Starting new HTTPS connection (1): luatvietnam.vn:443\n",
      "2024-11-11 21:39:21,603 - DEBUG - https://luatvietnam.vn:443 \"GET /giao-thong/nghi-dinh-32-2016-nd-cp-chinh-phu-105138-d1.html HTTP/11\" 200 None\n"
     ]
    },
    {
     "name": "stdout",
     "output_type": "stream",
     "text": [
      "Đã lưu thành công vào file: Nghi_dinh_giao_thong_40.json\n"
     ]
    },
    {
     "name": "stderr",
     "output_type": "stream",
     "text": [
      "2024-11-11 21:39:21,865 - INFO - Bắt đầu parse với số lượng docitems: 139\n",
      "2024-11-11 21:39:21,869 - DEBUG - Starting new HTTPS connection (1): luatvietnam.vn:443\n",
      "2024-11-11 21:39:22,054 - DEBUG - https://luatvietnam.vn:443 \"GET /giao-thong/nghi-dinh-125-2015-nd-cp-chinh-phu-100984-d1.html HTTP/11\" 200 None\n"
     ]
    },
    {
     "name": "stdout",
     "output_type": "stream",
     "text": [
      "Đã lưu thành công vào file: Nghi_dinh_giao_thong_41.json\n"
     ]
    },
    {
     "name": "stderr",
     "output_type": "stream",
     "text": [
      "2024-11-11 21:39:22,111 - INFO - Bắt đầu parse với số lượng docitems: 350\n",
      "2024-11-11 21:39:22,113 - DEBUG - Starting new HTTPS connection (1): luatvietnam.vn:443\n",
      "2024-11-11 21:39:22,305 - DEBUG - https://luatvietnam.vn:443 \"GET /giao-thong/nghi-dinh-92-2015-nd-cp-chinh-phu-99181-d1.html HTTP/11\" 200 None\n"
     ]
    },
    {
     "name": "stdout",
     "output_type": "stream",
     "text": [
      "Đã lưu thành công vào file: Nghi_dinh_giao_thong_42.json\n"
     ]
    },
    {
     "name": "stderr",
     "output_type": "stream",
     "text": [
      "2024-11-11 21:39:22,364 - INFO - Bắt đầu parse với số lượng docitems: 282\n",
      "2024-11-11 21:39:22,367 - DEBUG - Starting new HTTPS connection (1): luatvietnam.vn:443\n",
      "2024-11-11 21:39:22,524 - DEBUG - https://luatvietnam.vn:443 \"GET /doanh-nghiep/nghi-dinh-69-2015-nd-cp-chinh-phu-97670-d1.html HTTP/11\" 200 None\n"
     ]
    },
    {
     "name": "stdout",
     "output_type": "stream",
     "text": [
      "Đã lưu thành công vào file: Nghi_dinh_giao_thong_43.json\n"
     ]
    },
    {
     "name": "stderr",
     "output_type": "stream",
     "text": [
      "2024-11-11 21:39:22,574 - INFO - Bắt đầu parse với số lượng docitems: 38\n",
      "2024-11-11 21:39:22,575 - DEBUG - Starting new HTTPS connection (1): luatvietnam.vn:443\n",
      "2024-11-11 21:39:22,740 - DEBUG - https://luatvietnam.vn:443 \"GET /giao-thong/nghi-dinh-66-2015-nd-cp-chinh-phu-97284-d1.html HTTP/11\" 200 None\n"
     ]
    },
    {
     "name": "stdout",
     "output_type": "stream",
     "text": [
      "Đã lưu thành công vào file: Nghi_dinh_giao_thong_44.json\n"
     ]
    },
    {
     "name": "stderr",
     "output_type": "stream",
     "text": [
      "2024-11-11 21:39:22,788 - INFO - Bắt đầu parse với số lượng docitems: 104\n",
      "2024-11-11 21:39:22,789 - DEBUG - Starting new HTTPS connection (1): luatvietnam.vn:443\n",
      "2024-11-11 21:39:22,981 - DEBUG - https://luatvietnam.vn:443 \"GET /xuat-nhap-khau/nghi-dinh-111-2014-nd-cp-chinh-phu-90943-d1.html HTTP/11\" 200 None\n"
     ]
    },
    {
     "name": "stdout",
     "output_type": "stream",
     "text": [
      "Đã lưu thành công vào file: Nghi_dinh_giao_thong_45.json\n"
     ]
    },
    {
     "name": "stderr",
     "output_type": "stream",
     "text": [
      "2024-11-11 21:39:23,100 - INFO - Bắt đầu parse với số lượng docitems: 0\n",
      "2024-11-11 21:39:23,102 - DEBUG - Starting new HTTPS connection (1): luatvietnam.vn:443\n",
      "2024-11-11 21:39:23,282 - DEBUG - https://luatvietnam.vn:443 \"GET /giao-thong/nghi-dinh-100-2013-nd-cp-sua-quy-dinh-bao-ve-ket-cau-ha-tang-giao-thong-duong-bo-81014-d1.html HTTP/11\" 200 None\n"
     ]
    },
    {
     "name": "stdout",
     "output_type": "stream",
     "text": [
      "Đã lưu thành công vào file: Nghi_dinh_giao_thong_46.json\n"
     ]
    },
    {
     "name": "stderr",
     "output_type": "stream",
     "text": [
      "2024-11-11 21:39:23,335 - INFO - Bắt đầu parse với số lượng docitems: 25\n",
      "2024-11-11 21:39:23,338 - DEBUG - Starting new HTTPS connection (1): luatvietnam.vn:443\n"
     ]
    },
    {
     "name": "stdout",
     "output_type": "stream",
     "text": [
      "Đã lưu thành công vào file: Nghi_dinh_giao_thong_47.json\n"
     ]
    },
    {
     "name": "stderr",
     "output_type": "stream",
     "text": [
      "2024-11-11 21:39:23,539 - DEBUG - https://luatvietnam.vn:443 \"GET /an-ninh-trat-tu/nghi-dinh-27-2010-nd-cp-chinh-phu-50883-d1.html HTTP/11\" 200 None\n",
      "2024-11-11 21:39:23,598 - INFO - Bắt đầu parse với số lượng docitems: 49\n",
      "2024-11-11 21:39:23,601 - DEBUG - Starting new HTTPS connection (1): luatvietnam.vn:443\n"
     ]
    },
    {
     "name": "stdout",
     "output_type": "stream",
     "text": [
      "Đã lưu thành công vào file: Nghi_dinh_giao_thong_48.json\n"
     ]
    },
    {
     "name": "stderr",
     "output_type": "stream",
     "text": [
      "2024-11-11 21:39:23,852 - DEBUG - https://luatvietnam.vn:443 \"GET /giao-thong/nghi-dinh-109-2009-nd-cp-chinh-phu-48156-d1.html HTTP/11\" 200 None\n",
      "2024-11-11 21:39:24,004 - INFO - Bắt đầu parse với số lượng docitems: 71\n"
     ]
    },
    {
     "name": "stdout",
     "output_type": "stream",
     "text": [
      "Đã lưu thành công vào file: Nghi_dinh_giao_thong_49.json\n"
     ]
    }
   ],
   "source": [
    "for i in range(len(new[:50])):\n",
    "    tem_url = \"https://luatvietnam.vn\" + new[i]\n",
    "    reponse = requests.get(tem_url, headers=headers)\n",
    "    soup = BeautifulSoup(reponse.content, 'html.parser')\n",
    "    main = soup.select_one('main.main')\n",
    "    if not main:\n",
    "        print(\"Could not find main content section\")  \n",
    "    main_content = main.select_one('div.main-content')\n",
    "    wrapper = main_content.select_one('div.wrapper')\n",
    "    content_left = wrapper.select_one('div.content-left')\n",
    "    document = content_left.select_one('article.the-document')\n",
    "    tab_content = document.select_one('div.tab-content.fix-border')\n",
    "    tab_noi_dung = tab_content.select_one('div#chidanthaydoi')\n",
    "\n",
    "        \n",
    "    # Xử lý title và id_doc\n",
    "    data_title = tab_content.get('data-title')\n",
    "    if data_title:\n",
    "        match = re.search(r'\\b(\\d{2}/\\d{4}/QH\\d{2})\\b', data_title)\n",
    "        title_part = data_title.split(', số')[0].strip()\n",
    "        result[\"title\"] = title_part\n",
    "        if match:\n",
    "            document_number = match.group(1)\n",
    "            result[\"id_doc\"] = document_number\n",
    "\n",
    "        # Parse docitems\n",
    "        docitems = tab_noi_dung.find_all(\"div\", class_=lambda x: x and x.startswith(\"docitem\"))\n",
    "        parse_law_structure(docitems)\n",
    "\n",
    "        # Save to JSON file\n",
    "        timestamp = datetime.now().strftime(\"%Y%m%d_%H%M%S\")\n",
    "        filename = f\"Nghi_dinh_giao_thong_{i}.json\"\n",
    "        special = \"Điều_chỉnh_luật.json\"\n",
    "        if \"_số\" in filename:\n",
    "            clean_name = re.sub(r'_số.*\\.json$', '.json', filename)\n",
    "            filename = clean_name\n",
    "\n",
    "\n",
    "        try:\n",
    "            with open(filename, 'w', encoding='utf-8') as f:\n",
    "                json.dump(result, f, ensure_ascii=False, indent=2)\n",
    "            print(f\"Đã lưu thành công vào file: {filename}\")\n",
    "        except Exception as e:\n",
    "            print(f\"Lỗi khi lưu file: {str(e)}\")"
   ]
  }
 ],
 "metadata": {
  "kernelspec": {
   "display_name": "thesis",
   "language": "python",
   "name": "python3"
  },
  "language_info": {
   "codemirror_mode": {
    "name": "ipython",
    "version": 3
   },
   "file_extension": ".py",
   "mimetype": "text/x-python",
   "name": "python",
   "nbconvert_exporter": "python",
   "pygments_lexer": "ipython3",
   "version": "3.11.7"
  }
 },
 "nbformat": 4,
 "nbformat_minor": 5
}

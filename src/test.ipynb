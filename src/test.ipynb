{
 "cells": [
  {
   "cell_type": "code",
   "execution_count": 7,
   "metadata": {},
   "outputs": [
    {
     "name": "stderr",
     "output_type": "stream",
     "text": [
      "/home/drissdo/Desktop/VN_LAW_QA_SYSTEM/thesis/lib/python3.11/site-packages/tqdm/auto.py:21: TqdmWarning: IProgress not found. Please update jupyter and ipywidgets. See https://ipywidgets.readthedocs.io/en/stable/user_install.html\n",
      "  from .autonotebook import tqdm as notebook_tqdm\n"
     ]
    }
   ],
   "source": [
    "import weaviate\n",
    "from weaviate.classes.init import Auth\n",
    "from llama_index.vector_stores.weaviate import WeaviateVectorStore\n",
    "from llama_index.core import StorageContext\n",
    "from llama_index.core import VectorStoreIndex\n",
    "from llama_index.embeddings.huggingface import HuggingFaceEmbedding"
   ]
  },
  {
   "cell_type": "code",
   "execution_count": 8,
   "metadata": {},
   "outputs": [
    {
     "name": "stdout",
     "output_type": "stream",
     "text": [
      "True\n"
     ]
    },
    {
     "name": "stderr",
     "output_type": "stream",
     "text": [
      "/home/drissdo/Desktop/VN_LAW_QA_SYSTEM/thesis/lib/python3.11/site-packages/weaviate/warnings.py:329: ResourceWarning: Con004: The connection to Weaviate was not closed properly. This can lead to memory leaks.\n",
      "            Please make sure to close the connection using `client.close()`.\n",
      "  warnings.warn(\n"
     ]
    }
   ],
   "source": [
    "weaviate_url = \"https://kqippl0ytdkel6wvqv9oq.c0.asia-southeast1.gcp.weaviate.cloud\"\n",
    "weaviate_api_key = \"dju6OCu0aBu9L0zPfrZ28zHMRSpLU4p2BKJh\"\n",
    "DATA_COLLECTION = \"Vietnamese_law\"\n",
    "# Connect to Weaviate Cloud\n",
    "client = weaviate.connect_to_weaviate_cloud(\n",
    "    cluster_url=weaviate_url,\n",
    "    auth_credentials=Auth.api_key(weaviate_api_key),\n",
    ")\n",
    "\n",
    "print(client.is_ready())"
   ]
  },
  {
   "cell_type": "code",
   "execution_count": 9,
   "metadata": {},
   "outputs": [],
   "source": [
    "MODEL_NAME = \"qducnguyen/vietnamese-bi-encoder\"\n",
    "embed_model = HuggingFaceEmbedding(model_name=MODEL_NAME,\n",
    "                                   max_length=256,)\n",
    "\n",
    "vector_store = WeaviateVectorStore(weaviate_client=client,\n",
    "                                   index_name=DATA_COLLECTION)\n"
   ]
  },
  {
   "cell_type": "code",
   "execution_count": 11,
   "metadata": {},
   "outputs": [],
   "source": [
    "index = VectorStoreIndex.from_vector_store(vector_store, embed_model=embed_model)"
   ]
  },
  {
   "cell_type": "code",
   "execution_count": 23,
   "metadata": {},
   "outputs": [],
   "source": [
    "from pyvi import ViTokenizer\n",
    "from llama_index.core.response.notebook_utils import display_source_node\n",
    "base_retriever = index.as_retriever(vector_store_query_mode=\"hybrid\",\n",
    "                                    similarity_top_k=5,alpha = 0.3\n",
    "                                    )"
   ]
  },
  {
   "cell_type": "code",
   "execution_count": 24,
   "metadata": {},
   "outputs": [
    {
     "data": {
      "text/markdown": [
       "**Node ID:** 3dec3743-443d-4c1c-9e95-b9bfdbccf914<br>**Similarity:** 0.8150737881660461<br>**Text:** 4 . phạt tiền từ 100.000 đồng đến 200.000 đồng đối_với một trong các hành_vi vi_phạm sau đây : \n",
       " a ) điều_khiển xe lạng_lách , đánh_võng ; đuổi nhau trên đường ; \n",
       " b ) đi xe bằng một bánh đối_với xe_đạp , xe_đạp máy ; đi xe bằng hai bánh đối_với xe xích_lô ; \n",
       " c ) gây tai_nạn giao_thông không dừng lại , không giữ nguyên hiện_trường , bỏ trốn không đến trình_báo với cơ_quan có thẩm_quyền , không tham_gia cấp_cứu người bị nạn ; \n",
       " d ) người điều_khiển , người ngồi trên xe_đạp máy không đội “ mũ bảo_hiểm cho người đi mô_tô , xe_máy ” hoặc đội “ mũ bảo_hiểm cho người đi mô_tô , xe_máy ” không cài quai đúng quy_cách khi tham_gia giao_thông trên đường_bộ ; \n",
       " đ ) chở người ngồi trên xe_đạp máy không đội “ mũ bảo_hiểm cho người đi mô_tô , xe_máy ” hoặc đội “ mũ bảo_hiểm cho người đi mô_tô , xe_máy ” không cài quai đúng quy_cách , trừ trường_hợp chở người_bệnh đi cấp_cứu , trẻ_em dưới 06 tuổi , áp_giải người có hành_vi vi_phạm<br>**Metadata:** {'filename': 'Nghị_định_46_2016_NĐ-CP_quy_định_xử_phạt_vi_phạm_h.json', 'source': '46/2016/NĐ-CP, Chương II, Điều 8', 'len_tokenizer': 873, 'parent_text': 'đẩy làm quầy hàng lưu động trên đường, gây cản trở giao thông;\\n\\tđ) Không nhường đường cho xe đi trên đường ưu tiên, đường chính từ bất kỳ hướng nào tới tại nơi đường giao nhau;\\n\\te) Xe đạp, xe đạp máy, xe xích lô chở quá số người quy định, trừ trường hợp chở người bệnh đi cấp cứu;\\n\\tg) Xếp hàng hóa vượt quá giới hạn quy định, không bảo đảm an toàn, gây trở ngại giao thông, che khuất tầm nhìn của người điều khiển;\\n\\th) Không chấp hành hiệu lệnh của đèn tín hiệu giao thông.\\n3. Phạt tiền từ 80.000 đồng đến 100.000 đồng đối với một trong các hành vi vi phạm sau đây:\\n\\ta) Điều khiển xe đạp, xe đạp máy buông cả hai tay; chuyển hướng đột ngột trước đầu xe cơ giới đang chạy; dùng chân điều khiển xe đạp, xe đạp máy;\\n\\tb) Không chấp hành hiệu lệnh, chỉ dẫn của người điều khiển giao thông hoặc người kiểm soát giao thông;\\n\\tc) Người điều khiển hoặc người ngồi trên xe bám, kéo, đẩy xe khác, vật khác, mang vác vật cồng kềnh; điều khiển xe kéo theo xe khác, vật khác.\\n4. Phạt tiền từ 100.000 đồng đến 200.000 đồng đối với một trong các hành vi vi phạm sau đây:\\n\\ta) Điều khiển xe lạng lách, đánh võng; đuổi nhau trên đường;\\n\\tb) Đi xe bằng một bánh đối với xe đạp, xe đạp máy; đi xe bằng hai bánh đối với xe xích lô;\\n\\tc) Gây tai nạn giao thông không dừng lại, không giữ nguyên hiện trường, bỏ trốn không đến trình báo với cơ quan có thẩm quyền, không tham gia cấp cứu người bị nạn;\\n\\td) Người điều khiển, người ngồi trên xe đạp máy không đội “mũ bảo hiểm cho người đi mô tô, xe máy” hoặc đội “mũ bảo hiểm cho người đi mô tô, xe máy” không cài quai đúng quy cách khi tham gia giao thông trên đường bộ;\\n\\tđ) Chở người ngồi trên xe đạp máy không đội “mũ bảo hiểm cho người đi mô tô, xe máy” hoặc đội “mũ bảo hiểm cho người đi mô tô, xe máy” không cài quai đúng quy cách, trừ trường hợp chở người bệnh đi cấp cứu, trẻ em dưới 06 tuổi, áp giải người có hành vi vi phạm'}<br>"
      ],
      "text/plain": [
       "<IPython.core.display.Markdown object>"
      ]
     },
     "metadata": {},
     "output_type": "display_data"
    },
    {
     "data": {
      "text/markdown": [
       "**Node ID:** 44fa3658-2496-4f1b-936b-fe1bddfd8561<br>**Similarity:** 0.7148569822311401<br>**Text:** điểm dừng đón trả khách của xe_buýt , nơi đường_bộ giao nhau , trên phần đường dành cho người đi bộ qua đường ; dừng xe nơi có biển “ cấm dừng xe và đỗ xe ” ; đỗ xe tại nơi có biển “ cấm đỗ xe ” hoặc biển “ cấm dừng xe và đỗ xe ” ; không tuân_thủ các quy_định về dừng xe , đỗ xe tại nơi đường_bộ giao nhau cùng mức với đường_sắt ; dừng xe , đỗ xe trong phạm_vi an_toàn của đường_sắt , trừ hành_vi vi_phạm_quy_định tại điểm b khoản 2 , điểm b khoản 3 điều 48 nghị_định này ; \n",
       " i ) người điều_khiển , người ngồi trên xe không đội “ mũ bảo_hiểm cho người đi mô_tô , xe_máy ” hoặc đội “ mũ bảo_hiểm cho người đi mô_tô , xe_máy ” không cài quai đúng quy_cách khi tham_gia giao_thông trên đường_bộ ; \n",
       " k ) chở người ngồi trên xe không đội “ mũ bảo_hiểm cho người đi mô_tô , xe_máy ” hoặc đội “ mũ bảo_hiểm cho người đi mô_tô , xe_máy ” không cài quai đúng quy_cách , trừ trường_hợp chở người_bệnh đi cấp_cứu , trẻ_em dưới 06 tuổi , áp_giải người có hành_vi vi_phạm_pháp_luật ; \n",
       " l ) chở theo 02 ( hai ) ...<br>**Metadata:** {'filename': 'Nghị_định_46_2016_NĐ-CP_quy_định_xử_phạt_vi_phạm_h.json', 'source': '46/2016/NĐ-CP, Chương II, Điều 6', 'len_tokenizer': 2440, 'parent_text': 'điểm dừng đón trả khách của xe buýt, nơi đường bộ giao nhau, trên phần đường dành cho người đi bộ qua đường; dừng xe nơi có biển “Cấm dừng xe và đỗ xe”; đỗ xe tại nơi có biển “Cấm đỗ xe” hoặc biển “Cấm dừng xe và đỗ xe”; không tuân thủ các quy định về dừng xe, đỗ xe tại nơi đường bộ giao nhau cùng mức với đường sắt; dừng xe, đỗ xe trong phạm vi an toàn của đường sắt, trừ hành vi vi phạm quy định tại Điểm b Khoản 2, Điểm b Khoản 3 Điều 48 Nghị định này;\\n\\ti) Người điều khiển, người ngồi trên xe không đội “mũ bảo hiểm cho người đi mô tô, xe máy” hoặc đội “mũ bảo hiểm cho người đi mô tô, xe máy” không cài quai đúng quy cách khi tham gia giao thông trên đường bộ;\\n\\tk) Chở người ngồi trên xe không đội “mũ bảo hiểm cho người đi mô tô, xe máy” hoặc đội “mũ bảo hiểm cho người đi mô tô, xe máy” không cài quai đúng quy cách, trừ trường hợp chở người bệnh đi cấp cứu, trẻ em dưới 06 tuổi, áp giải người có hành vi vi phạm pháp luật;\\n\\tl) Chở theo 02 (hai) người trên xe, trừ trường hợp chở người bệnh đi cấp cứu, trẻ em dưới 14 tuổi, áp giải người có hành vi vi phạm pháp luật;\\n\\tm) Điều khiển xe chạy dưới tốc độ tối thiểu trên những đoạn đường bộ có quy định tốc độ tối thiểu cho phép;\\n\\tn) Người ngồi phía sau vòng tay qua người ngồi trước để điều khiển xe, trừ trường hợp chở trẻ em ngồi phía trước;\\n\\to) Người đang điều khiển xe sử dụng ô (dù), điện thoại di động, thiết bị âm thanh, trừ thiết bị trợ thính.\\n4. Phạt tiền từ 300.000 đồng đến 400.000 đồng đối với một trong các hành vi vi phạm sau đây:\\n\\ta) Chuyển hướng không giảm tốc độ hoặc không có tín hiệu báo hướng rẽ (trừ trường hợp điều khiển xe đi theo hướng cong của đoạn đường bộ ở nơi đường không giao nhau cùng mức);\\n\\tb) Chở theo từ 03 (ba) người trở lên trên xe;\\n\\tc) Không chấp hành hiệu lệnh của đèn tín hiệu giao thông;\\n\\td) Dừng xe, đỗ xe trên cầu;\\n\\tđ) Điều'}<br>"
      ],
      "text/plain": [
       "<IPython.core.display.Markdown object>"
      ]
     },
     "metadata": {},
     "output_type": "display_data"
    },
    {
     "data": {
      "text/markdown": [
       "**Node ID:** b52a3beb-d431-4217-9825-a03062d1c866<br>**Similarity:** 0.6897409558296204<br>**Text:** điều 8 . trách_nhiệm của người điều_khiển , người ngồi trên xe mô_tô , xe gắn_máy , xe_đạp máy . người điều_khiển , người ngồi trên xe mô_tô , xe gắn_máy ( kể_cả xe_máy_điện ) , xe_đạp máy khi tham_gia giao_thông có trách_nhiệm : \n",
       " 1 . đội mũ bảo_hiểm theo đúng quy_định của pháp_luật . \n",
       " 2 . cài quai mũ theo quy_định sau đây : \n",
       " a ) kéo quai mũ bảo_hiểm sang hai bên rồi đội mũ và đóng khóa mũ lại . không được để quai mũ lỏng_lẻo mà phải đóng khít với cằm ; \n",
       " b ) sau khi đội mũ bảo_hiểm cần kiểm_tra lại bằng cách : dùng tay kéo mũ từ đằng sau ra đằng trước hoặc nâng phần trên trước trán ( hoặc phần_cằm đối_với mũ cả hàm ) lên rồi kéo ra đằng sau , mũ không được bật ra khỏi đầu .<br>**Metadata:** {'filename': 'Thông_tư_liên_tịch_06_2013_TTLT-BKHCN-BCT-BCA-BGTV.json', 'source': '06/2013/TTLT-BKHCN-BCT-BCA-BGTVT, Chương 2, Điều 8', 'len_tokenizer': 154, 'parent_text': 'Điều 8. Trách nhiệm của người điều khiển, người ngồi trên xe mô tô, xe gắn máy, xe đạp máy. Người điều khiển, người ngồi trên xe mô tô, xe gắn máy (kể cả xe máy điện), xe đạp máy khi tham gia giao thông có trách nhiệm:\\n1. Đội mũ bảo hiểm theo đúng quy định của pháp luật.\\n2. Cài quai mũ theo quy định sau đây:\\n\\ta) Kéo quai mũ bảo hiểm sang hai bên rồi đội mũ và đóng khóa mũ lại. Không được để quai mũ lỏng lẻo mà phải đóng khít với cằm;\\n\\tb) Sau khi đội mũ bảo hiểm cần kiểm tra lại bằng cách: dùng tay kéo mũ từ đằng sau ra đằng trước hoặc nâng phần trên trước trán (hoặc phần cằm đối với mũ cả hàm) lên rồi kéo ra đằng sau, mũ không được bật ra khỏi đầu.'}<br>"
      ],
      "text/plain": [
       "<IPython.core.display.Markdown object>"
      ]
     },
     "metadata": {},
     "output_type": "display_data"
    },
    {
     "data": {
      "text/markdown": [
       "**Node ID:** 2e156a8a-b108-47ed-b62c-5cf14ed6ecc8<br>**Similarity:** 0.6593156456947327<br>**Text:** 2 . người điều_khiển , người ngồi trên xe mô_tô , xe gắn_máy ( kể_cả xe_máy_điện ) , xe_đạp máy khi tham_gia giao_thông vi_phạm_quy_định về đội mũ bảo_hiểm thì bị xử_phạt vi_phạm hành_chính theo quy_định của chính_phủ về xử_phạt vi_phạm hành_chính trong lĩnh_vực giao_thông đường_bộ .<br>**Metadata:** {'filename': 'Thông_tư_liên_tịch_06_2013_TTLT-BKHCN-BCT-BCA-BGTV.json', 'source': '06/2013/TTLT-BKHCN-BCT-BCA-BGTVT, Chương 2, Điều 10, Khoản 2', 'len_tokenizer': 52, 'parent_text': '2. Người điều khiển, người ngồi trên xe mô tô, xe gắn máy (kể cả xe máy điện), xe đạp máy khi tham gia giao thông vi phạm quy định về đội mũ bảo hiểm thì bị xử phạt vi phạm hành chính theo quy định của Chính phủ về xử phạt vi phạm hành chính trong lĩnh vực giao thông đường bộ.'}<br>"
      ],
      "text/plain": [
       "<IPython.core.display.Markdown object>"
      ]
     },
     "metadata": {},
     "output_type": "display_data"
    },
    {
     "data": {
      "text/markdown": [
       "**Node ID:** 49d6dc7f-5d3d-49e7-a705-83a4813b619a<br>**Similarity:** 0.6557930111885071<br>**Text:** trên phần đường dành cho người đi bộ qua đường ; dừng xe nơi có biển “ cấm dừng xe và đỗ xe ” ; đỗ xe tại nơi có biển “ cấm đỗ xe ” hoặc biển “ cấm dừng xe và đỗ xe ” ; không tuân_thủ các quy_định về dừng xe , đỗ xe tại nơi đường_bộ giao nhau cùng mức với đường_sắt ; dừng xe , đỗ xe trong phạm_vi an_toàn của đường_sắt , trừ hành_vi vi_phạm_quy_định tại điểm b khoản 2 , điểm b khoản 3 điều 49 nghị_định này ; \n",
       " i ) không đội “ mũ bảo_hiểm cho người đi mô_tô , xe_máy ” hoặc đội “ mũ bảo_hiểm cho người đi mô_tô , xe_máy ” không cài quai đúng quy_cách khi điều_khiển xe tham_gia giao_thông trên đường_bộ ; \n",
       " k ) chở người ngồi trên xe không đội “ mũ bảo_hiểm cho người đi mô_tô , xe_máy ” hoặc đội “ mũ bảo_hiểm cho người đi mô_tô , xe_máy ” không cài quai đúng quy_cách , trừ trường_hợp chở người_bệnh đi cấp_cứu , trẻ_em dưới 06 tuổi ,<br>**Metadata:** {'filename': 'Nghị_định_100_2019_NĐ-CP_quy_định_về_xử_phạt_vi_ph.json', 'source': '100/2019/NĐ-CP, Chương II, Điều 6, Khoản 2', 'len_tokenizer': 476, 'parent_text': '2. Phạt tiền từ 200.000 đồng đến 300.000 đồng đối với người điều khiển xe thực hiện một trong các hành vi vi phạm sau đây:\\n\\ta) Dừng xe, đỗ xe trên phần đường xe chạy ở đoạn đường ngoài đô thị nơi có lề đường;\\n\\tb) Không giảm tốc độ và nhường đường khi điều khiển xe chạy từ trong ngõ, đường nhánh ra đường chính;\\n\\tc) Điều khiển xe chạy quá tốc độ quy định từ 05 km/h đến dưới 10 km/h;\\n\\td) Điều khiển xe chạy tốc độ thấp mà không đi bên phải phần đường xe chạy gây cản trở giao thông;\\n\\tđ) Dừng xe, đỗ xe ở lòng đường đô thị gây cản trở giao thông; tụ tập từ 03 xe trở lên ở lòng đường, trong hầm đường bộ; đỗ, để xe ở lòng đường đô thị, hè phố trái quy định của pháp luật;\\n\\te) Không nhường đường cho xe xin vượt khi có đủ điều kiện an toàn; không nhường đường cho xe đi trên đường ưu tiên, đường chính từ bất kỳ hướng nào tới tại nơi đường giao nhau;\\n\\tg) Xe không được quyền ưu tiên lắp đặt, sử dụng thiết bị phát tín hiệu của xe được quyền ưu tiên;\\n\\th) Dừng xe, đỗ xe trên đường xe điện, điểm dừng đón trả khách của xe buýt, nơi đường bộ giao nhau, trên phần đường dành cho người đi bộ qua đường; dừng xe nơi có biển “Cấm dừng xe và đỗ xe”; đỗ xe tại nơi có biển “Cấm đỗ xe” hoặc biển “Cấm dừng xe và đỗ xe”; không tuân thủ các quy định về dừng xe, đỗ xe tại nơi đường bộ giao nhau cùng mức với đường sắt; dừng xe, đỗ xe trong phạm vi an toàn của đường sắt, trừ hành vi vi phạm quy định tại điểm b khoản 2, điểm b khoản 3 Điều 49 Nghị định này;\\n\\ti) Không đội “mũ bảo hiểm cho người đi mô tô, xe máy” hoặc đội “mũ bảo hiểm cho người đi mô tô, xe máy” không cài quai đúng quy cách khi điều khiển xe tham gia giao thông trên đường bộ;\\n\\tk) Chở người ngồi trên xe không đội “mũ bảo hiểm cho người đi mô tô, xe máy” hoặc đội “mũ bảo hiểm cho người đi mô tô, xe máy” không cài quai đúng quy cách, trừ trường hợp chở người bệnh đi cấp cứu, trẻ em dưới 06 tuổi,'}<br>"
      ],
      "text/plain": [
       "<IPython.core.display.Markdown object>"
      ]
     },
     "metadata": {},
     "output_type": "display_data"
    }
   ],
   "source": [
    "TEST_QUESTION = \"Mình đi xe máy không đội mũ bảo hiểm bị phạt bao nhiêu tiền?\"\n",
    "retrievals = base_retriever.retrieve(\n",
    "    ViTokenizer.tokenize(TEST_QUESTION.lower())\n",
    ")\n",
    "\n",
    "for n in retrievals[:5]:\n",
    "    display_source_node(n, source_length=1000, show_source_metadata=True)"
   ]
  }
 ],
 "metadata": {
  "kernelspec": {
   "display_name": "thesis",
   "language": "python",
   "name": "python3"
  },
  "language_info": {
   "codemirror_mode": {
    "name": "ipython",
    "version": 3
   },
   "file_extension": ".py",
   "mimetype": "text/x-python",
   "name": "python",
   "nbconvert_exporter": "python",
   "pygments_lexer": "ipython3",
   "version": "3.11.7"
  }
 },
 "nbformat": 4,
 "nbformat_minor": 2
}

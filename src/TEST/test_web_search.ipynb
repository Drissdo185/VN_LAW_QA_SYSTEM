{
 "cells": [
  {
   "cell_type": "code",
   "execution_count": 4,
   "metadata": {},
   "outputs": [],
   "source": [
    "import requests  # For making HTTP requests to APIs and websites\n",
    "\n",
    "def search(search_item, api_key, cse_id, search_depth=10, site_filter=None):\n",
    "    service_url = 'https://www.googleapis.com/customsearch/v1'\n",
    "\n",
    "    params = {\n",
    "        'q': search_item,\n",
    "        'key': api_key,\n",
    "        'cx': cse_id,\n",
    "        'num': search_depth\n",
    "    }\n",
    "\n",
    "    try:\n",
    "        response = requests.get(service_url, params=params)\n",
    "        response.raise_for_status()\n",
    "        results = response.json()\n",
    "\n",
    "        # Check if 'items' exists in the results\n",
    "        if 'items' in results:\n",
    "            if site_filter is not None:\n",
    "                \n",
    "                # Filter results to include only those with site_filter in the link\n",
    "                filtered_results = [result for result in results['items'] if site_filter in result['link']]\n",
    "\n",
    "                if filtered_results:\n",
    "                    return filtered_results\n",
    "                else:\n",
    "                    print(f\"No results with {site_filter} found.\")\n",
    "                    return []\n",
    "            else:\n",
    "                if 'items' in results:\n",
    "                    return results['items']\n",
    "                else:\n",
    "                    print(\"No search results found.\")\n",
    "                    return []\n",
    "\n",
    "    except requests.exceptions.RequestException as e:\n",
    "        print(f\"An error occurred during the search: {e}\")\n",
    "        return []"
   ]
  },
  {
   "cell_type": "code",
   "execution_count": 5,
   "metadata": {},
   "outputs": [],
   "source": [
    "import os \n",
    "\n",
    "# Set the API key and CSE ID\n",
    "api_key = os.getenv('GOOGLE_API_KEY')\n",
    "cse_id = os.getenv('GOOGLE_CSE_ID')"
   ]
  },
  {
   "cell_type": "code",
   "execution_count": 6,
   "metadata": {},
   "outputs": [],
   "source": [
    "search_items = search(\"có nên chở chó mèo khi lái xe máy có bị phạt không, nếu có thì bị phạt bao nhiêu\", api_key, cse_id, search_depth=5)"
   ]
  },
  {
   "cell_type": "code",
   "execution_count": 7,
   "metadata": {},
   "outputs": [
    {
     "name": "stdout",
     "output_type": "stream",
     "text": [
      "Link: https://thuvienphapluat.vn/banan/tin-tuc/nam-2025-cho-cho-meo-tren-xe-may-co-bi-phat-khong-muc-phat-loi-cho-cho-meo-tren-xe-may-theo-nghi-dinh-168-la-bao-nhieu-13192\n",
      "Snippet: 17 thg 1, 2025 ... Chở chó trên xe máy năm 2025 có bị phạt không? Mức phạt lỗi chở chó, mèo trên xe máy theo Nghị định 168 là bao nhiêu?\n",
      "\n",
      "Link: https://www.okc.gov/Home/Components/News/News/4711/5937\n",
      "Snippet: 12 thg 1, 2024 ... Mọi người được khuyến khích tránh lái xe trong điều kiện nguy hiểm. Nếu phải lái xe, bạn nên có ai đó để gọi trong trường hợp bị mắc kẹt. Nếu ...\n",
      "\n",
      "Link: https://www.dmv.ca.gov/portal/uploads/2020/06/dl600V.pdf\n",
      "Snippet: Lái xe tải chở nhiều người phải giữ trên xe giấy cam kết, có chữ ký với tuyên thệ chịu hình phạt nếu khai man, rằng trong. 5 năm qua người này không bị kết tội ...\n",
      "\n",
      "Link: https://dol.wa.gov/sites/default/files/2022-11/driverguide-vi.pdf\n",
      "Snippet: 7 thg 5, 2023 ... Bạn không được lái xe khi có nhiều hơn ba người ngồi ở ghế trước nếu ... đỗ để khi có người mở cửa xe thì bạn sẽ không bị cản đường.\n",
      "\n",
      "Link: https://www.mass.gov/doc/vietnamese-drivers-manual-tieng-viet/download\n",
      "Snippet: Quý vị không được lái xe trong làn đường bị hạn chế, trừ khi ... Nếu quý vị đỗ xe lâu hơn mức cho phép hoặc không nộp tiền đỗ xe thì quý vị có thể bị phạt.\n",
      "\n"
     ]
    }
   ],
   "source": [
    "for item in search_items:\n",
    "    print(f\"Link: {item['link']}\")\n",
    "    print(f\"Snippet: {item['snippet']}\\n\")"
   ]
  }
 ],
 "metadata": {
  "kernelspec": {
   "display_name": "venv",
   "language": "python",
   "name": "python3"
  },
  "language_info": {
   "codemirror_mode": {
    "name": "ipython",
    "version": 3
   },
   "file_extension": ".py",
   "mimetype": "text/x-python",
   "name": "python",
   "nbconvert_exporter": "python",
   "pygments_lexer": "ipython3",
   "version": "3.11.7"
  }
 },
 "nbformat": 4,
 "nbformat_minor": 2
}

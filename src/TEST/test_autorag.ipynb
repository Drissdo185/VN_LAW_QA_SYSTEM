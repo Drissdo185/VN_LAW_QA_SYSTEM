{
 "cells": [
  {
   "cell_type": "code",
   "execution_count": 1,
   "metadata": {},
   "outputs": [],
   "source": [
    "from llama_index.core import PromptTemplate"
   ]
  },
  {
   "cell_type": "code",
   "execution_count": null,
   "metadata": {},
   "outputs": [],
   "source": [
    "SYSTEM_PROMPT = PromptTemplate(\n",
    "    template=(\n",
    "                \"Dựa trên tài liệu đã trích xuất, hãy phân tích và trả lời câu hỏi.\\n\"\n",
    "                \"Câu hỏi: {question}\\n\"\n",
    "                \"Tài liệu: {context}\\n\"\n",
    "                \"Hãy suy nghĩ từng bước:\\n\"\n",
    "                \"1. Phân tích xem thông tin có đủ và liên quan không?\\n\"\n",
    "                \"2. Nếu chưa đủ, hãy đưa ra truy vấn mới để tìm thêm thông tin\\n\"\n",
    "                \"3. Nếu đã đủ, đưa ra câu trả lời cuối cùng\\n\\n\"\n",
    "                \"Hãy trả lời theo định dạng sau:\\n\"\n",
    "                \"Phân tích: <phân tích thông tin hiện có>\\n\"\n",
    "                \"Quyết định: [Cần thêm thông tin/Đã đủ thông tin]\\n\"\n",
    "                \"Truy vấn tiếp theo: <truy vấn mới> (nếu cần)\\n\"\n",
    "                \"Câu trả lời cuối cùng: <câu trả lời> (nếu đã đủ thông tin)\\n\"\n",
    "            )\n",
    ")"
   ]
  }
 ],
 "metadata": {
  "kernelspec": {
   "display_name": "venv",
   "language": "python",
   "name": "python3"
  },
  "language_info": {
   "codemirror_mode": {
    "name": "ipython",
    "version": 3
   },
   "file_extension": ".py",
   "mimetype": "text/x-python",
   "name": "python",
   "nbconvert_exporter": "python",
   "pygments_lexer": "ipython3",
   "version": "3.11.7"
  }
 },
 "nbformat": 4,
 "nbformat_minor": 2
}

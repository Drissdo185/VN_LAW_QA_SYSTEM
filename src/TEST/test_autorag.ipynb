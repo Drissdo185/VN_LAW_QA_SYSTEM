{
 "cells": [
  {
   "cell_type": "code",
   "execution_count": 1,
   "metadata": {},
   "outputs": [
    {
     "name": "stderr",
     "output_type": "stream",
     "text": [
      "/home/drissdo/Desktop/VN_LAW_QA_SYSTEM/venv/lib/python3.11/site-packages/tqdm/auto.py:21: TqdmWarning: IProgress not found. Please update jupyter and ipywidgets. See https://ipywidgets.readthedocs.io/en/stable/user_install.html\n",
      "  from .autonotebook import tqdm as notebook_tqdm\n"
     ]
    }
   ],
   "source": [
    "from llama_index.core import PromptTemplate\n",
    "import json\n",
    "import torch\n",
    "from llama_index.core import Document\n",
    "from llama_index.core.node_parser import SentenceSplitter\n",
    "from llama_index.core import StorageContext\n",
    "from llama_index.core import VectorStoreIndex\n",
    "from llama_index.embeddings.huggingface import HuggingFaceEmbedding\n",
    "from llama_index.vector_stores.weaviate import WeaviateVectorStore\n",
    "from pyvi import ViTokenizer\n",
    "import weaviate\n",
    "from weaviate.classes.init import Auth"
   ]
  },
  {
   "cell_type": "code",
   "execution_count": 2,
   "metadata": {},
   "outputs": [],
   "source": [
    "# Configuration constants\n",
    "WEAVIATE_URL = \"https://v3dtdzg0skwvxinygzckra.c0.asia-southeast1.gcp.weaviate.cloud\"\n",
    "WEAVIATE_API_KEY = \"Wn0Zd8LOYfOwAyPBgxtnsoIpgLGEOTM7iHb0\"\n",
    "DATA_COLLECTION = \"ND168\"\n",
    "DEVICE = \"cuda:0\" if torch.cuda.is_available() else \"cpu\"\n",
    "MODEL_NAME = \"dangvantuan/vietnamese-document-embedding\"\n",
    "CHUNK_SIZE = 512  # Optimized for Vietnamese text\n",
    "CHUNK_OVERLAP = 50  # Small overlap to maintain context"
   ]
  },
  {
   "cell_type": "code",
   "execution_count": 3,
   "metadata": {},
   "outputs": [],
   "source": [
    "# Setup vector store\n",
    "client = weaviate.connect_to_weaviate_cloud(\n",
    "    cluster_url=WEAVIATE_URL,\n",
    "    auth_credentials=Auth.api_key(WEAVIATE_API_KEY),\n",
    ")\n",
    "vector_store = WeaviateVectorStore(\n",
    "    weaviate_client=client,\n",
    "    index_name=DATA_COLLECTION\n",
    ")"
   ]
  },
  {
   "cell_type": "code",
   "execution_count": 4,
   "metadata": {},
   "outputs": [],
   "source": [
    "SYSTEM_PROMPT = PromptTemplate(\n",
    "    template=(\n",
    "                \"Dựa trên tài liệu đã trích xuất, hãy phân tích và trả lời câu hỏi.\\n\"\n",
    "                \"Câu hỏi: {question}\\n\"\n",
    "                \"Tài liệu: {context}\\n\"\n",
    "                \"Hãy suy nghĩ từng bước:\\n\"\n",
    "                \"1. Phân tích xem thông tin có đủ và liên quan không?\\n\"\n",
    "                \"2. Nếu chưa đủ, hãy đưa ra truy vấn mới để tìm thêm thông tin\\n\"\n",
    "                \"3. Nếu đã đủ, đưa ra câu trả lời cuối cùng\\n\\n\"\n",
    "                \"Hãy trả lời theo định dạng sau:\\n\"\n",
    "                \"Phân tích: <phân tích thông tin hiện có>\\n\"\n",
    "                \"Quyết định: [Cần thêm thông tin/Đã đủ thông tin]\\n\"\n",
    "                \"Truy vấn tiếp theo: <truy vấn mới> (nếu cần)\\n\"\n",
    "                \"Câu trả lời cuối cùng: <câu trả lời> (nếu đã đủ thông tin)\\n\"\n",
    "            )\n",
    ")"
   ]
  },
  {
   "cell_type": "code",
   "execution_count": 4,
   "metadata": {},
   "outputs": [],
   "source": [
    "index = VectorStoreIndex.from_vector_store(\n",
    "    vector_store=vector_store,\n",
    "    embed_model = HuggingFaceEmbedding(model_name=MODEL_NAME, device=DEVICE, trust_remote_code=True),\n",
    ")"
   ]
  },
  {
   "cell_type": "code",
   "execution_count": 7,
   "metadata": {},
   "outputs": [],
   "source": [
    "# Create retriever\n",
    "retriever = index.as_retriever(\n",
    "    vector_store_query_mode=\"hybrid\",\n",
    "    similarity_top_k=5,\n",
    "    alpha=0.5  # Balance between keyword and semantic search\n",
    ")"
   ]
  },
  {
   "cell_type": "code",
   "execution_count": 7,
   "metadata": {},
   "outputs": [],
   "source": [
    "from llama_index.llms.openai import OpenAI"
   ]
  },
  {
   "cell_type": "code",
   "execution_count": 8,
   "metadata": {},
   "outputs": [],
   "source": [
    "llm = OpenAI(model=\"gpt-4o-mini\", api_key=\"\")"
   ]
  },
  {
   "cell_type": "code",
   "execution_count": 9,
   "metadata": {},
   "outputs": [],
   "source": [
    "# Test reasoning and retrieval\n",
    "async def test_autonomous_reasoning(question):\n",
    "    retrieved_docs = retriever.retrieve(question)\n",
    "    docs_text = \"\\n\".join([doc.text for doc in retrieved_docs])\n",
    "    print(docs_text)\n",
    "    prompt = SYSTEM_PROMPT.format(question=question, context=docs_text)\n",
    "    response = await llm.acomplete(prompt)\n",
    "    return response.text.strip()\n"
   ]
  },
  {
   "cell_type": "code",
   "execution_count": 6,
   "metadata": {},
   "outputs": [
    {
     "ename": "NameError",
     "evalue": "name 'test_autonomous_reasoning' is not defined",
     "output_type": "error",
     "traceback": [
      "\u001b[0;31m---------------------------------------------------------------------------\u001b[0m",
      "\u001b[0;31mNameError\u001b[0m                                 Traceback (most recent call last)",
      "Cell \u001b[0;32mIn[6], line 6\u001b[0m\n\u001b[1;32m      3\u001b[0m question \u001b[38;5;241m=\u001b[39m \u001b[38;5;124m\"\u001b[39m\u001b[38;5;124mXe vượt tải trọng cho phép từ 10\u001b[39m\u001b[38;5;124m%\u001b[39m\u001b[38;5;124m đến 20\u001b[39m\u001b[38;5;124m%\u001b[39m\u001b[38;5;124m bị phạt bao nhiêu tiền?\u001b[39m\u001b[38;5;124m\"\u001b[39m\n\u001b[1;32m      5\u001b[0m \u001b[38;5;66;03m# Use `await` directly in Jupyter Notebook\u001b[39;00m\n\u001b[0;32m----> 6\u001b[0m answer \u001b[38;5;241m=\u001b[39m \u001b[38;5;28;01mawait\u001b[39;00m \u001b[43mtest_autonomous_reasoning\u001b[49m(question)\n\u001b[1;32m      8\u001b[0m \u001b[38;5;28mprint\u001b[39m(\u001b[38;5;124m\"\u001b[39m\u001b[38;5;124mAI Answer:\u001b[39m\u001b[38;5;124m\"\u001b[39m, answer)\n",
      "\u001b[0;31mNameError\u001b[0m: name 'test_autonomous_reasoning' is not defined"
     ]
    }
   ],
   "source": [
    "import asyncio\n",
    "\n",
    "question = \"Xe vượt tải trọng cho phép từ 10% đến 20% bị phạt bao nhiêu tiền?\"\n",
    "\n",
    "# Use `await` directly in Jupyter Notebook\n",
    "answer = await test_autonomous_reasoning(question)\n",
    "\n",
    "print(\"AI Answer:\", answer)\n"
   ]
  },
  {
   "cell_type": "code",
   "execution_count": 8,
   "metadata": {},
   "outputs": [
    {
     "name": "stdout",
     "output_type": "stream",
     "text": [
      "Result 1:\n",
      "\n",
      "Text: 4 . phạt tiền từ 13.000.000 đồng đến 15.000.000 đồng đối_với một trong các hành_vi vi_phạm sau đây : a ) điều_khiển xe mà tổng trọng_lượng ( khối_lượng toàn_bộ ) của xe hoặc tải_trọng trục xe ( bao_gồm cả hàng_hóa xếp trên xe , người được chở trên xe ) vượt quá tải_trọng cho phép của đường_bộ trên 20 % đến 50 % , trừ trường_hợp có giấy_phép lưu_hành còn giá_trị sử_dụng ; b ) điều_khiển xe có giấy_phép lưu_hành còn giá_trị sử_dụng nhưng tổng trọng_lượng ( khối_lượng toàn_bộ ) của xe hoặc tải_trọng trục xe ( bao_gồm cả hàng_hóa xếp trên xe nếu có ) vượt quá quy_định trong giấy_phép lưu_hành ; c ) điều_khiển xe có giấy_phép lưu_hành còn giá_trị sử_dụng nhưng đi không đúng tuyến đường quy_định trong giấy_phép lưu_hành . 5 .\n",
      "\n",
      "Metadata: {'original_text': '4. Phạt tiền từ 13.000.000 đồng đến 15.000.000 đồng đối với một trong các hành vi vi phạm sau đây:\\na) Điều khiển xe mà tổng trọng lượng (khối lượng toàn bộ) của xe hoặc tải trọng trục xe (bao gồm cả hàng hóa xếp trên xe, người được chở trên xe) vượt quá tải trọng cho phép của đường bộ trên 20% đến 50%, trừ trường hợp có giấy phép lưu hành còn giá trị sử dụng;\\nb) Điều khiển xe có giấy phép lưu hành còn giá trị sử dụng nhưng tổng trọng lượng (khối lượng toàn bộ) của xe hoặc tải trọng trục xe (bao gồm cả hàng hóa xếp trên xe nếu có) vượt quá quy định trong giấy phép lưu hành;\\nc) Điều khiển xe có giấy phép lưu hành còn giá trị sử dụng nhưng đi không đúng tuyến đường quy định trong giấy phép lưu hành.\\n5.'}\n",
      "\n",
      "==================================================\n",
      "Result 2:\n",
      "\n",
      "Text: điều 34 . xử_phạt , trừ điểm giấy_phép lái_xe của người điều_khiển quá_khổ giới_hạn , xe quá tải_trọng , xe bánh xích lưu_hành đường_bộ ( kể_cả xe ô_tô chở hành_khách ) 1 . phạt tiền từ 3.000.000 đồng đến 5.000.000 đồng đối_với hành_vi không thực_hiện đúng quy_định trong giấy_phép lưu_hành , trừ các hành_vi vi_phạm_quy_định tại điểm a , điểm b khoản 3 ; điểm b , điểm c khoản 4 điều này . 2 . phạt tiền từ 4.000.000 đồng đến 6.000.000 đồng đối_với hành_vi điều_khiển xe mà tổng trọng_lượng ( khối_lượng toàn_bộ ) của xe vượt quá tải_trọng cho phép của đường_bộ trên 10 % đến 20 % , trừ trường_hợp có giấy_phép lưu_hành còn giá_trị sử_dụng . 3 .\n",
      "\n",
      "Metadata: {'original_text': 'Điều 34. Xử phạt, trừ điểm giấy phép lái xe của người điều khiển quá khổ giới hạn, xe quá tải trọng, xe bánh xích lưu hành đường bộ (kể cả xe ô tô chở hành khách)\\n1. Phạt tiền từ 3.000.000 đồng đến 5.000.000 đồng đối với hành vi không thực hiện đúng quy định trong giấy phép lưu hành, trừ các hành vi vi phạm quy định tại điểm a, điểm b khoản 3; điểm b, điểm c khoản 4 Điều này.\\n2. Phạt tiền từ 4.000.000 đồng đến 6.000.000 đồng đối với hành vi điều khiển xe mà tổng trọng lượng (khối lượng toàn bộ) của xe vượt quá tải trọng cho phép của đường bộ trên 10% đến 20%, trừ trường hợp có giấy phép lưu hành còn giá trị sử dụng.\\n3.'}\n",
      "\n",
      "==================================================\n",
      "Result 3:\n",
      "\n",
      "Text: 3 . phạt tiền từ 8.000.000 đồng đến 10.000.000 đồng đối_với một trong các hành_vi vi_phạm sau đây : a ) chở hàng vượt khổ giới_hạn của xe hoặc của đường_bộ ghi trong giấy_phép lưu_hành ; b ) điều_khiển xe bánh xích tham_gia giao_thông không có giấy_phép lưu_hành hoặc có giấy_phép lưu_hành nhưng không còn giá_trị sử_dụng theo quy_định hoặc lưu_thông trực_tiếp trên đường mà không thực_hiện biện_pháp bảo_vệ đường theo quy_định ; c ) điều_khiển xe có kích_thước bao ngoài vượt quá_khổ giới_hạn của đường_bộ hoặc chở hàng vượt khổ giới_hạn của đường_bộ hoặc chở hàng vượt quá kích_thước giới_hạn xếp_hàng_hóa của xe tham_gia giao_thông , trừ trường_hợp có giấy_phép lưu_hành còn giá_trị sử_dụng ; d ) điều_khiển xe có kích_thước bao ngoài vượt quá kích_thước giới_hạn cho phép của xe theo quy_định , trừ trường_hợp có giấy_phép lưu_hành còn giá_trị sử_dụng . 4 .\n",
      "\n",
      "Metadata: {'original_text': '3. Phạt tiền từ 8.000.000 đồng đến 10.000.000 đồng đối với một trong các hành vi vi phạm sau đây:\\na) Chở hàng vượt khổ giới hạn của xe hoặc của đường bộ ghi trong giấy phép lưu hành;\\nb) Điều khiển xe bánh xích tham gia giao thông không có giấy phép lưu hành hoặc có giấy phép lưu hành nhưng không còn giá trị sử dụng theo quy định hoặc lưu thông trực tiếp trên đường mà không thực hiện biện pháp bảo vệ đường theo quy định;\\nc) Điều khiển xe có kích thước bao ngoài vượt quá khổ giới hạn của đường bộ hoặc chở hàng vượt khổ giới hạn của đường bộ hoặc chở hàng vượt quá kích thước giới hạn xếp hàng hóa của xe tham gia giao thông, trừ trường hợp có giấy phép lưu hành còn giá trị sử dụng;\\nd) Điều khiển xe có kích thước bao ngoài vượt quá kích thước giới hạn cho phép của xe theo quy định, trừ trường hợp có giấy phép lưu hành còn giá trị sử dụng.\\n4.'}\n",
      "\n",
      "==================================================\n",
      "Result 4:\n",
      "\n",
      "Text: trên 20 % đến 30 % đối_với xe xi téc chở chất_lỏng ; b ) chở hàng trên nóc thùng_xe ; chở hàng vượt quá bề rộng thùng_xe ( kể_cả bề rộng rơ_moóc và sơ_mi rơ_moóc ) ; chở hàng vượt phía trước , phía sau thùng_xe ( kể_cả rơ_moóc và sơ_mi rơ_moóc ) trên 1,1 lần chiều dài toàn_bộ của xe theo thiết_kế được ghi trong giấy chứng_nhận kiểm_định an_toàn kỹ_thuật và bảo_vệ môi_trường của xe ; c ) chở người trên mui xe ; d ) điều_khiển xe_kéo_theo rơ_moóc , sơ_mi rơ_moóc mà khối_lượng toàn_bộ ( bao_gồm khối_lượng bản_thân rơ_moóc , sơ_mi rơ_moóc và khối_lượng hàng chuyên_chở ) của rơ_moóc , sơ_mi rơ_moóc vượt khối_lượng cho phép kéo_theo được ghi trong giấy chứng_nhận kiểm_định an_toàn kỹ_thuật và bảo_vệ môi_trường của xe trên 10 % đến 30 % ; đ ) điều_khiển xe kinh_doanh vận_tải hàng_hóa không có hoặc không mang theo giấy vận_tải bằng văn_bản giấy theo quy_định hoặc không có thiết_bị để truy_cập vào được phần_mềm thể_hiện nội_dung của giấy vận_tải theo quy_định hoặc có thiết_bị để truy_cập nhưng không cung_cấp cho lực_lượng chức_năng khi có yêu_cầu . 3 .\n",
      "\n",
      "Metadata: {'original_text': 'trên 20% đến 30% đối với xe xi téc chở chất lỏng;\\nb) Chở hàng trên nóc thùng xe; chở hàng vượt quá bề rộng thùng xe (kể cả bề rộng rơ moóc và sơ mi rơ moóc); chở hàng vượt phía trước, phía sau thùng xe (kể cả rơ moóc và sơ mi rơ moóc) trên 1,1 lần chiều dài toàn bộ của xe theo thiết kế được ghi trong giấy chứng nhận kiểm định an toàn kỹ thuật và bảo vệ môi trường của xe;\\nc) Chở người trên mui xe;\\nd) Điều khiển xe kéo theo rơ moóc, sơ mi rơ moóc mà khối lượng toàn bộ (bao gồm khối lượng bản thân rơ moóc, sơ mi rơ moóc và khối lượng hàng chuyên chở) của rơ moóc, sơ mi rơ moóc vượt khối lượng cho phép kéo theo được ghi trong giấy chứng nhận kiểm định an toàn kỹ thuật và bảo vệ môi trường của xe trên 10% đến 30%;\\nđ) Điều khiển xe kinh doanh vận tải hàng hóa không có hoặc không mang theo giấy vận tải bằng văn bản giấy theo quy định hoặc không có thiết bị để truy cập vào được phần mềm thể hiện nội dung của giấy vận tải theo quy định hoặc có thiết bị để truy cập nhưng không cung cấp cho lực lượng chức năng khi có yêu cầu.\\n3.'}\n",
      "\n",
      "==================================================\n",
      "Result 5:\n",
      "\n",
      "Text: điều 22 . xử_phạt , trừ điểm giấy_phép lái_xe của người điều_khiển xe ô_tô thực_hiện_hành_vi vi_phạm_quy_định về vận_chuyển hàng siêu_trường , siêu_trọng 1 . phạt tiền từ 2.000.000 đồng đến 3.000.000 đồng đối_với một trong các hành_vi vi_phạm sau đây : a ) chở hàng siêu_trường , siêu_trọng không có báo_hiệu kích_thước của hàng theo quy_định ; b ) không thực_hiện đúng quy_định trong giấy_phép lưu_hành , trừ các hành_vi vi_phạm_quy_định tại khoản 2 ; điểm b , điểm c , điểm d khoản 3 điều này . 2 . phạt tiền từ 8.000.000 đồng đến 10.000.000 đồng đối_với hành_vi chở hàng siêu_trường , siêu_trọng có giấy_phép lưu_hành còn giá_trị sử_dụng nhưng kích_thước bao ngoài của xe ( sau khi đã xếp_hàng lên xe ) vượt quá quy_định trong giấy_phép lưu_hành . 3 .\n",
      "\n",
      "Metadata: {'original_text': 'Điều 22. Xử phạt, trừ điểm giấy phép lái xe của người điều khiển xe ô tô thực hiện hành vi vi phạm quy định về vận chuyển hàng siêu trường, siêu trọng\\n1. Phạt tiền từ 2.000.000 đồng đến 3.000.000 đồng đối với một trong các hành vi vi phạm sau đây:\\na) Chở hàng siêu trường, siêu trọng không có báo hiệu kích thước của hàng theo quy định;\\nb) Không thực hiện đúng quy định trong giấy phép lưu hành, trừ các hành vi vi phạm quy định tại khoản 2; điểm b, điểm c, điểm d khoản 3 Điều này.\\n2. Phạt tiền từ 8.000.000 đồng đến 10.000.000 đồng đối với hành vi chở hàng siêu trường, siêu trọng có giấy phép lưu hành còn giá trị sử dụng nhưng kích thước bao ngoài của xe (sau khi đã xếp hàng lên xe) vượt quá quy định trong giấy phép lưu hành.\\n3.'}\n",
      "\n",
      "==================================================\n"
     ]
    }
   ],
   "source": [
    "retrieved_docs = retriever.retrieve(question)\n",
    "\n",
    "for i, node in enumerate(retrieved_docs):\n",
    "    print(f\"Result {i+1}:\\n\")\n",
    "    print(f\"Text: {node.text}\\n\")\n",
    "    print(f\"Metadata: {node.metadata}\\n\")\n",
    "    print(\"=\"*50)"
   ]
  },
  {
   "cell_type": "code",
   "execution_count": null,
   "metadata": {},
   "outputs": [],
   "source": []
  }
 ],
 "metadata": {
  "kernelspec": {
   "display_name": "venv",
   "language": "python",
   "name": "python3"
  },
  "language_info": {
   "codemirror_mode": {
    "name": "ipython",
    "version": 3
   },
   "file_extension": ".py",
   "mimetype": "text/x-python",
   "name": "python",
   "nbconvert_exporter": "python",
   "pygments_lexer": "ipython3",
   "version": "3.11.7"
  }
 },
 "nbformat": 4,
 "nbformat_minor": 2
}

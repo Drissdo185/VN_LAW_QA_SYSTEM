{
 "cells": [
  {
   "cell_type": "code",
   "execution_count": 1,
   "metadata": {},
   "outputs": [
    {
     "name": "stderr",
     "output_type": "stream",
     "text": [
      "/home/drissdo/Desktop/VN_LAW_QA_SYSTEM/venv/lib/python3.11/site-packages/tqdm/auto.py:21: TqdmWarning: IProgress not found. Please update jupyter and ipywidgets. See https://ipywidgets.readthedocs.io/en/stable/user_install.html\n",
      "  from .autonotebook import tqdm as notebook_tqdm\n"
     ]
    }
   ],
   "source": [
    "from llama_index.core import PromptTemplate\n",
    "import json\n",
    "import torch\n",
    "from llama_index.core import Document\n",
    "from llama_index.core.node_parser import SentenceSplitter\n",
    "from llama_index.core import StorageContext\n",
    "from llama_index.core import VectorStoreIndex\n",
    "from llama_index.embeddings.huggingface import HuggingFaceEmbedding\n",
    "from llama_index.vector_stores.weaviate import WeaviateVectorStore\n",
    "from pyvi import ViTokenizer\n",
    "import weaviate\n",
    "from weaviate.classes.init import Auth"
   ]
  },
  {
   "cell_type": "code",
   "execution_count": 2,
   "metadata": {},
   "outputs": [],
   "source": [
    "# Configuration constants\n",
    "WEAVIATE_URL = \"https://v3dtdzg0skwvxinygzckra.c0.asia-southeast1.gcp.weaviate.cloud\"\n",
    "WEAVIATE_API_KEY = \"Wn0Zd8LOYfOwAyPBgxtnsoIpgLGEOTM7iHb0\"\n",
    "DATA_COLLECTION = \"ND168\"\n",
    "DEVICE = \"cuda:0\" if torch.cuda.is_available() else \"cpu\"\n",
    "MODEL_NAME = \"dangvantuan/vietnamese-document-embedding\"\n",
    "CHUNK_SIZE = 512  # Optimized for Vietnamese text\n",
    "CHUNK_OVERLAP = 50  # Small overlap to maintain context"
   ]
  },
  {
   "cell_type": "code",
   "execution_count": 3,
   "metadata": {},
   "outputs": [],
   "source": [
    "# Setup vector store\n",
    "client = weaviate.connect_to_weaviate_cloud(\n",
    "    cluster_url=WEAVIATE_URL,\n",
    "    auth_credentials=Auth.api_key(WEAVIATE_API_KEY),\n",
    ")\n",
    "vector_store = WeaviateVectorStore(\n",
    "    weaviate_client=client,\n",
    "    index_name=DATA_COLLECTION\n",
    ")"
   ]
  },
  {
   "cell_type": "code",
   "execution_count": 4,
   "metadata": {},
   "outputs": [],
   "source": [
    "SYSTEM_PROMPT = PromptTemplate(\n",
    "    template=(\n",
    "                \"Dựa trên tài liệu đã trích xuất, hãy phân tích và trả lời câu hỏi.\\n\"\n",
    "                \"Câu hỏi: {question}\\n\"\n",
    "                \"Tài liệu: {context}\\n\"\n",
    "                \"Hãy suy nghĩ từng bước:\\n\"\n",
    "                \"1. Phân tích xem thông tin có đủ và liên quan không?\\n\"\n",
    "                \"2. Nếu chưa đủ, hãy đưa ra truy vấn mới để tìm thêm thông tin\\n\"\n",
    "                \"3. Nếu đã đủ, đưa ra câu trả lời cuối cùng\\n\\n\"\n",
    "                \"Hãy trả lời theo định dạng sau:\\n\"\n",
    "                \"Phân tích: <phân tích thông tin hiện có>\\n\"\n",
    "                \"Quyết định: [Cần thêm thông tin/Đã đủ thông tin]\\n\"\n",
    "                \"Truy vấn tiếp theo: <truy vấn mới> (nếu cần)\\n\"\n",
    "                \"Câu trả lời cuối cùng: <câu trả lời> (nếu đã đủ thông tin)\\n\"\n",
    "            )\n",
    ")"
   ]
  },
  {
   "cell_type": "code",
   "execution_count": 5,
   "metadata": {},
   "outputs": [
    {
     "name": "stderr",
     "output_type": "stream",
     "text": [
      "A new version of the following files was downloaded from https://huggingface.co/dangvantuan/Vietnamese_impl:\n",
      "- configuration.py\n",
      ". Make sure to double-check they do not contain any added malicious code. To avoid downloading new versions of the code file, you can pin a revision.\n",
      "A new version of the following files was downloaded from https://huggingface.co/dangvantuan/Vietnamese_impl:\n",
      "- modeling.py\n",
      ". Make sure to double-check they do not contain any added malicious code. To avoid downloading new versions of the code file, you can pin a revision.\n"
     ]
    }
   ],
   "source": [
    "index = VectorStoreIndex.from_vector_store(\n",
    "    vector_store=vector_store,\n",
    "    embed_model = HuggingFaceEmbedding(model_name=MODEL_NAME, device=DEVICE, trust_remote_code=True),\n",
    ")"
   ]
  },
  {
   "cell_type": "code",
   "execution_count": 6,
   "metadata": {},
   "outputs": [],
   "source": [
    "# Create retriever\n",
    "retriever = index.as_retriever(\n",
    "    vector_store_query_mode=\"hybrid\",\n",
    "    similarity_top_k=5,\n",
    "    alpha=0.5  # Balance between keyword and semantic search\n",
    ")"
   ]
  },
  {
   "cell_type": "code",
   "execution_count": 7,
   "metadata": {},
   "outputs": [],
   "source": [
    "from llama_index.llms.openai import OpenAI"
   ]
  },
  {
   "cell_type": "code",
   "execution_count": 8,
   "metadata": {},
   "outputs": [],
   "source": [
    "llm = OpenAI(model=\"gpt-4o-mini\", api_key=\"\")"
   ]
  },
  {
   "cell_type": "code",
   "execution_count": 9,
   "metadata": {},
   "outputs": [],
   "source": [
    "# Test reasoning and retrieval\n",
    "async def test_autonomous_reasoning(question):\n",
    "    retrieved_docs = retriever.retrieve(question)\n",
    "    docs_text = \"\\n\".join([doc.text for doc in retrieved_docs])\n",
    "    print(docs_text)\n",
    "    prompt = SYSTEM_PROMPT.format(question=question, context=docs_text)\n",
    "    response = await llm.acomplete(prompt)\n",
    "    return response.text.strip()\n"
   ]
  },
  {
   "cell_type": "code",
   "execution_count": 12,
   "metadata": {},
   "outputs": [
    {
     "name": "stdout",
     "output_type": "stream",
     "text": [
      "4 . phạt tiền từ 13.000.000 đồng đến 15.000.000 đồng đối_với một trong các hành_vi vi_phạm sau đây : a ) điều_khiển xe mà tổng trọng_lượng ( khối_lượng toàn_bộ ) của xe hoặc tải_trọng trục xe ( bao_gồm cả hàng_hóa xếp trên xe , người được chở trên xe ) vượt quá tải_trọng cho phép của đường_bộ trên 20 % đến 50 % , trừ trường_hợp có giấy_phép lưu_hành còn giá_trị sử_dụng ; b ) điều_khiển xe có giấy_phép lưu_hành còn giá_trị sử_dụng nhưng tổng trọng_lượng ( khối_lượng toàn_bộ ) của xe hoặc tải_trọng trục xe ( bao_gồm cả hàng_hóa xếp trên xe nếu có ) vượt quá quy_định trong giấy_phép lưu_hành ; c ) điều_khiển xe có giấy_phép lưu_hành còn giá_trị sử_dụng nhưng đi không đúng tuyến đường quy_định trong giấy_phép lưu_hành . 5 .\n",
      "điều 34 . xử_phạt , trừ điểm giấy_phép lái_xe của người điều_khiển quá_khổ giới_hạn , xe quá tải_trọng , xe bánh xích lưu_hành đường_bộ ( kể_cả xe ô_tô chở hành_khách ) 1 . phạt tiền từ 3.000.000 đồng đến 5.000.000 đồng đối_với hành_vi không thực_hiện đúng quy_định trong giấy_phép lưu_hành , trừ các hành_vi vi_phạm_quy_định tại điểm a , điểm b khoản 3 ; điểm b , điểm c khoản 4 điều này . 2 . phạt tiền từ 4.000.000 đồng đến 6.000.000 đồng đối_với hành_vi điều_khiển xe mà tổng trọng_lượng ( khối_lượng toàn_bộ ) của xe vượt quá tải_trọng cho phép của đường_bộ trên 10 % đến 20 % , trừ trường_hợp có giấy_phép lưu_hành còn giá_trị sử_dụng . 3 .\n",
      "3 . phạt tiền từ 8.000.000 đồng đến 10.000.000 đồng đối_với một trong các hành_vi vi_phạm sau đây : a ) chở hàng vượt khổ giới_hạn của xe hoặc của đường_bộ ghi trong giấy_phép lưu_hành ; b ) điều_khiển xe bánh xích tham_gia giao_thông không có giấy_phép lưu_hành hoặc có giấy_phép lưu_hành nhưng không còn giá_trị sử_dụng theo quy_định hoặc lưu_thông trực_tiếp trên đường mà không thực_hiện biện_pháp bảo_vệ đường theo quy_định ; c ) điều_khiển xe có kích_thước bao ngoài vượt quá_khổ giới_hạn của đường_bộ hoặc chở hàng vượt khổ giới_hạn của đường_bộ hoặc chở hàng vượt quá kích_thước giới_hạn xếp_hàng_hóa của xe tham_gia giao_thông , trừ trường_hợp có giấy_phép lưu_hành còn giá_trị sử_dụng ; d ) điều_khiển xe có kích_thước bao ngoài vượt quá kích_thước giới_hạn cho phép của xe theo quy_định , trừ trường_hợp có giấy_phép lưu_hành còn giá_trị sử_dụng . 4 .\n",
      "trên 20 % đến 30 % đối_với xe xi téc chở chất_lỏng ; b ) chở hàng trên nóc thùng_xe ; chở hàng vượt quá bề rộng thùng_xe ( kể_cả bề rộng rơ_moóc và sơ_mi rơ_moóc ) ; chở hàng vượt phía trước , phía sau thùng_xe ( kể_cả rơ_moóc và sơ_mi rơ_moóc ) trên 1,1 lần chiều dài toàn_bộ của xe theo thiết_kế được ghi trong giấy chứng_nhận kiểm_định an_toàn kỹ_thuật và bảo_vệ môi_trường của xe ; c ) chở người trên mui xe ; d ) điều_khiển xe_kéo_theo rơ_moóc , sơ_mi rơ_moóc mà khối_lượng toàn_bộ ( bao_gồm khối_lượng bản_thân rơ_moóc , sơ_mi rơ_moóc và khối_lượng hàng chuyên_chở ) của rơ_moóc , sơ_mi rơ_moóc vượt khối_lượng cho phép kéo_theo được ghi trong giấy chứng_nhận kiểm_định an_toàn kỹ_thuật và bảo_vệ môi_trường của xe trên 10 % đến 30 % ; đ ) điều_khiển xe kinh_doanh vận_tải hàng_hóa không có hoặc không mang theo giấy vận_tải bằng văn_bản giấy theo quy_định hoặc không có thiết_bị để truy_cập vào được phần_mềm thể_hiện nội_dung của giấy vận_tải theo quy_định hoặc có thiết_bị để truy_cập nhưng không cung_cấp cho lực_lượng chức_năng khi có yêu_cầu . 3 .\n",
      "điều 22 . xử_phạt , trừ điểm giấy_phép lái_xe của người điều_khiển xe ô_tô thực_hiện_hành_vi vi_phạm_quy_định về vận_chuyển hàng siêu_trường , siêu_trọng 1 . phạt tiền từ 2.000.000 đồng đến 3.000.000 đồng đối_với một trong các hành_vi vi_phạm sau đây : a ) chở hàng siêu_trường , siêu_trọng không có báo_hiệu kích_thước của hàng theo quy_định ; b ) không thực_hiện đúng quy_định trong giấy_phép lưu_hành , trừ các hành_vi vi_phạm_quy_định tại khoản 2 ; điểm b , điểm c , điểm d khoản 3 điều này . 2 . phạt tiền từ 8.000.000 đồng đến 10.000.000 đồng đối_với hành_vi chở hàng siêu_trường , siêu_trọng có giấy_phép lưu_hành còn giá_trị sử_dụng nhưng kích_thước bao ngoài của xe ( sau khi đã xếp_hàng lên xe ) vượt quá quy_định trong giấy_phép lưu_hành . 3 .\n",
      "AI Answer: Phân tích: Tài liệu đã cung cấp thông tin rõ ràng về mức phạt đối với các hành vi vi phạm liên quan đến tải trọng của xe. Cụ thể, xe vượt tải trọng cho phép từ 10% đến 20% sẽ bị phạt tiền từ 4.000.000 đồng đến 6.000.000 đồng. Thông tin này là đầy đủ và liên quan đến câu hỏi.\n",
      "\n",
      "Quyết định: Đã đủ thông tin\n",
      "\n",
      "Câu trả lời cuối cùng: Xe vượt tải trọng cho phép từ 10% đến 20% bị phạt từ 4.000.000 đồng đến 6.000.000 đồng.\n"
     ]
    }
   ],
   "source": [
    "import asyncio\n",
    "\n",
    "question = \"Xe vượt tải trọng cho phép từ 10% đến 20% bị phạt bao nhiêu tiền?\"\n",
    "\n",
    "# Use `await` directly in Jupyter Notebook\n",
    "answer = await test_autonomous_reasoning(question)\n",
    "\n",
    "print(\"AI Answer:\", answer)\n"
   ]
  },
  {
   "cell_type": "code",
   "execution_count": 11,
   "metadata": {},
   "outputs": [
    {
     "name": "stdout",
     "output_type": "stream",
     "text": [
      "Result 1:\n",
      "\n",
      "Text: 4 . phạt tiền từ 400.000 đồng đến 600.000 đồng đối_với người điều_khiển xe thực_hiện một trong các hành_vi vi_phạm sau đây : a ) gây tai_nạn giao_thông không dừng ngay phương_tiện , không giữ nguyên hiện_trường , không trợ_giúp người bị nạn , không ở lại hiện_trường hoặc không đến trình_báo ngay với cơ_quan công_an , ủy ban nhân_dân nơi gần nhất ; b ) điều_khiển xe trên đường mà trong máu hoặc hơi thở có nồng_độ cồn vượt quá 80 miligam / 100 mililít máu hoặc vượt quá 0,4 miligam / 1 lít khí thở ; c ) không chấp_hành yêu_cầu kiểm_tra về nồng_độ cồn của người thi_hành công_vụ ; d ) người điều_khiển xe_đạp máy không đội “ mũ_bảo_hiểm cho người đi mô_tô , xe_máy ” hoặc đội “ mũ_bảo_hiểm cho người đi mô_tô , xe_máy ” không cài quai đúng quy_cách khi tham_gia giao_thông trên đường_bộ ; đ ) chở người ngồi trên xe_đạp máy không đội “ mũ_bảo_hiểm cho người đi mô_tô , xe_máy ” hoặc đội “ mũ_bảo_hiểm cho người đi mô_tô , xe_máy ” không cài quai đúng quy_cách , trừ trường_hợp chở người_bệnh đi cấp_cứu , trẻ_em dưới 06 tuổi , áp_giải người có hành_vi vi_phạm pháp_luật . 5 .\n",
      "\n",
      "Metadata: {'original_text': '4. Phạt tiền từ 400.000 đồng đến 600.000 đồng đối với người điều khiển xe thực hiện một trong các hành vi vi phạm sau đây:\\na) Gây tai nạn giao thông không dừng ngay phương tiện, không giữ nguyên hiện trường, không trợ giúp người bị nạn, không ở lại hiện trường hoặc không đến trình báo ngay với cơ quan công an, Ủy ban nhân dân nơi gần nhất;\\nb) Điều khiển xe trên đường mà trong máu hoặc hơi thở có nồng độ cồn vượt quá 80 miligam/100 mililít máu hoặc vượt quá 0,4 miligam/1 lít khí thở;\\nc) Không chấp hành yêu cầu kiểm tra về nồng độ cồn của người thi hành công vụ;\\nd) Người điều khiển xe đạp máy không đội “mũ bảo hiểm cho người đi mô tô, xe máy” hoặc đội “mũ bảo hiểm cho người đi mô tô, xe máy” không cài quai đúng quy cách khi tham gia giao thông trên đường bộ;\\nđ) Chở người ngồi trên xe đạp máy không đội “mũ bảo hiểm cho người đi mô tô, xe máy” hoặc đội “mũ bảo hiểm cho người đi mô tô, xe máy” không cài quai đúng quy cách, trừ trường hợp chở người bệnh đi cấp cứu, trẻ em dưới 06 tuổi, áp giải người có hành vi vi phạm pháp luật.\\n5.'}\n",
      "\n",
      "==================================================\n",
      "Result 2:\n",
      "\n",
      "Text: điều 13 . xử_phạt , trừ điểm giấy_phép lái_xe của người điều_khiển xe ô_tô ( bao_gồm cả rơ_moóc hoặc sơ_mi rơ_moóc được kéo_theo ) , xe chở người bốn bánh có gắn động_cơ , xe chở hàng bốn bánh có gắn động_cơ và các loại xe tương_tự xe ô_tô vi_phạm_quy_định về điều_kiện của phương_tiện khi tham_gia giao_thông 1 . phạt tiền từ 200.000 đồng đến 400.000 đồng đối_với hành_vi điều_khiển xe không có kính chắn gió hoặc có nhưng vỡ không có tác_dụng ( đối_với xe có thiết_kế lắp kính chắn gió ) . 2 .\n",
      "\n",
      "Metadata: {'original_text': 'Điều 13. Xử phạt, trừ điểm giấy phép lái xe của người điều khiển xe ô tô (bao gồm cả rơ moóc hoặc sơ mi rơ moóc được kéo theo), xe chở người bốn bánh có gắn động cơ, xe chở hàng bốn bánh có gắn động cơ và các loại xe tương tự xe ô tô vi phạm quy định về điều kiện của phương tiện khi tham gia giao thông\\n1. Phạt tiền từ 200.000 đồng đến 400.000 đồng đối với hành vi điều khiển xe không có kính chắn gió hoặc có nhưng vỡ không có tác dụng (đối với xe có thiết kế lắp kính chắn gió).\\n2.'}\n",
      "\n",
      "==================================================\n",
      "Result 3:\n",
      "\n",
      "Text: 5 . phạt tiền từ 400.000 đồng đến 600.000 đồng đối_với người được chở trên xe mô_tô , xe_gắn_máy , các loại xe tương_tự xe mô_tô , các loại xe tương_tự xe_gắn_máy thực_hiện một trong các hành_vi vi_phạm sau đây : a ) bám , kéo , đẩy xe khác , vật khác , dẫn_dắt vật_nuôi , mang vác vật cồng_kềnh , đứng trên yên , giá đèo_hàng hoặc ngồi trên tay_lái của xe ; b ) không đội “ mũ_bảo_hiểm cho người đi mô_tô , xe_máy ” hoặc đội “ mũ_bảo_hiểm cho người đi mô_tô , xe_máy ” không cài quai đúng quy_cách khi tham_gia giao_thông trên đường_bộ . 6 .\n",
      "\n",
      "Metadata: {'original_text': '5. Phạt tiền từ 400.000 đồng đến 600.000 đồng đối với người được chở trên xe mô tô, xe gắn máy, các loại xe tương tự xe mô tô, các loại xe tương tự xe gắn máy thực hiện một trong các hành vi vi phạm sau đây:\\na) Bám, kéo, đẩy xe khác, vật khác, dẫn dắt vật nuôi, mang vác vật cồng kềnh, đứng trên yên, giá đèo hàng hoặc ngồi trên tay lái của xe;\\nb) Không đội “mũ bảo hiểm cho người đi mô tô, xe máy” hoặc đội “mũ bảo hiểm cho người đi mô tô, xe máy” không cài quai đúng quy cách khi tham gia giao thông trên đường bộ.\\n6.'}\n",
      "\n",
      "==================================================\n",
      "Result 4:\n",
      "\n",
      "Text: điều 30 . xử_phạt , trừ điểm giấy_phép lái_xe của người điều_khiển xe cứu_thương 1 . phạt tiền từ 1.000.000 đồng đến 2.000.000 đồng đối_với hành_vi vi_phạm điều_khiển xe ô_tô cứu_thương không lắp_thiết_bị ghi_nhận hình_ảnh người lái_xe hoặc có lắp_thiết_bị ghi_nhận hình_ảnh người lái_xe nhưng không có tác_dụng trong quá_trình xe tham_gia giao_thông theo quy_định hoặc làm sai_lệch dữ_liệu của thiết_bị ghi_nhận hình_ảnh người lái_xe lắp trên xe ô_tô . 2 . phạt tiền từ 3.000.000 đồng đến 5.000.000 đồng đối_với hành_vi vi_phạm điều_khiển xe ô_tô cứu_thương không lắp_thiết_bị giám_sát hành_trình hoặc có lắp_thiết_bị giám_sát hành_trình nhưng không có tác_dụng trong quá_trình xe tham_gia giao_thông theo quy_định hoặc làm sai_lệch dữ_liệu của thiết_bị giám_sát hành_trình lắp trên xe ô_tô . 3 . ngoài việc bị áp_dụng hình_thức xử_phạt , người điều_khiển phương_tiện thực_hiện_hành_vi quy_định tại khoản 2 điều này bị trừ điểm giấy_phép lái_xe 02 điểm .\n",
      "\n",
      "Metadata: {'original_text': 'Điều 30. Xử phạt, trừ điểm giấy phép lái xe của người điều khiển xe cứu thương\\n1. Phạt tiền từ 1.000.000 đồng đến 2.000.000 đồng đối với hành vi vi phạm điều khiển xe ô tô cứu thương không lắp thiết bị ghi nhận hình ảnh người lái xe hoặc có lắp thiết bị ghi nhận hình ảnh người lái xe nhưng không có tác dụng trong quá trình xe tham gia giao thông theo quy định hoặc làm sai lệch dữ liệu của thiết bị ghi nhận hình ảnh người lái xe lắp trên xe ô tô.\\n2. Phạt tiền từ 3.000.000 đồng đến 5.000.000 đồng đối với hành vi vi phạm điều khiển xe ô tô cứu thương không lắp thiết bị giám sát hành trình hoặc có lắp thiết bị giám sát hành trình nhưng không có tác dụng trong quá trình xe tham gia giao thông theo quy định hoặc làm sai lệch dữ liệu của thiết bị giám sát hành trình lắp trên xe ô tô.\\n3. Ngoài việc bị áp dụng hình thức xử phạt, người điều khiển phương tiện thực hiện hành vi quy định tại khoản 2 Điều này bị trừ điểm giấy phép lái xe 02 điểm.'}\n",
      "\n",
      "==================================================\n",
      "Result 5:\n",
      "\n",
      "Text: trên phần đường dành cho người đi bộ qua đường ; dừng xe nơi có biển “ cấm dừng xe và đỗ xe ” ; đỗ xe tại nơi có biển “ cấm đỗ xe ” hoặc biển “ cấm dừng xe và đỗ xe ” ; không tuân_thủ các quy_định về dừng xe , đỗ xe tại nơi đường_bộ giao nhau cùng mức với đường_sắt ; dừng xe , đỗ xe trong phạm_vi hành_lang an_toàn giao_thông đường_sắt ; g ) chở theo 02 người trên xe , trừ trường_hợp chở người_bệnh đi cấp_cứu , trẻ_em dưới 12 tuổi , người già_yếu hoặc người khuyết_tật , áp_giải người có hành_vi vi_phạm pháp_luật ; h ) không đội “ mũ_bảo_hiểm cho người đi mô_tô , xe_máy ” hoặc đội “ mũ_bảo_hiểm cho người đi mô_tô , xe_máy ” không cài quai đúng quy_cách khi điều_khiển xe tham_gia giao_thông trên đường_bộ ; i ) chở người ngồi trên xe không đội “ mũ_bảo_hiểm cho người đi mô_tô , xe_máy ” hoặc đội “ mũ_bảo_hiểm cho người đi mô_tô , xe_máy ” không cài quai đúng quy_cách , trừ trường_hợp chở người_bệnh đi cấp_cứu , trẻ_em dưới 06 tuổi , áp_giải người có hành_vi vi_phạm pháp_luật ; k ) quay đầu xe tại nơi không được quay đầu xe ,\n",
      "\n",
      "Metadata: {'original_text': 'trên phần đường dành cho người đi bộ qua đường; dừng xe nơi có biển “Cấm dừng xe và đỗ xe”; đỗ xe tại nơi có biển “Cấm đỗ xe” hoặc biển “Cấm dừng xe và đỗ xe”; không tuân thủ các quy định về dừng xe, đỗ xe tại nơi đường bộ giao nhau cùng mức với đường sắt; dừng xe, đỗ xe trong phạm vi hành lang an toàn giao thông đường sắt;\\ng) Chở theo 02 người trên xe, trừ trường hợp chở người bệnh đi cấp cứu, trẻ em dưới 12 tuổi, người già yếu hoặc người khuyết tật, áp giải người có hành vi vi phạm pháp luật;\\nh) Không đội “mũ bảo hiểm cho người đi mô tô, xe máy” hoặc đội “mũ bảo hiểm cho người đi mô tô, xe máy” không cài quai đúng quy cách khi điều khiển xe tham gia giao thông trên đường bộ;\\ni) Chở người ngồi trên xe không đội “mũ bảo hiểm cho người đi mô tô, xe máy” hoặc đội “mũ bảo hiểm cho người đi mô tô, xe máy” không cài quai đúng quy cách, trừ trường hợp chở người bệnh đi cấp cứu, trẻ em dưới 06 tuổi, áp giải người có hành vi vi phạm pháp luật;\\nk) Quay đầu xe tại nơi không được quay đầu xe,'}\n",
      "\n",
      "==================================================\n"
     ]
    }
   ],
   "source": [
    "retrieved_docs = retriever.retrieve(question)\n",
    "\n",
    "for i, node in enumerate(retrieved_docs):\n",
    "    print(f\"Result {i+1}:\\n\")\n",
    "    print(f\"Text: {node.text}\\n\")\n",
    "    print(f\"Metadata: {node.metadata}\\n\")\n",
    "    print(\"=\"*50)"
   ]
  },
  {
   "cell_type": "code",
   "execution_count": null,
   "metadata": {},
   "outputs": [],
   "source": []
  }
 ],
 "metadata": {
  "kernelspec": {
   "display_name": "venv",
   "language": "python",
   "name": "python3"
  },
  "language_info": {
   "codemirror_mode": {
    "name": "ipython",
    "version": 3
   },
   "file_extension": ".py",
   "mimetype": "text/x-python",
   "name": "python",
   "nbconvert_exporter": "python",
   "pygments_lexer": "ipython3",
   "version": "3.11.7"
  }
 },
 "nbformat": 4,
 "nbformat_minor": 2
}

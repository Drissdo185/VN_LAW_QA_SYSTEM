{
 "cells": [
  {
   "cell_type": "code",
   "execution_count": 2,
   "metadata": {},
   "outputs": [
    {
     "name": "stderr",
     "output_type": "stream",
     "text": [
      "/home/drissdo/Desktop/VN_LAW_QA_SYSTEM/venv/lib/python3.11/site-packages/tqdm/auto.py:21: TqdmWarning: IProgress not found. Please update jupyter and ipywidgets. See https://ipywidgets.readthedocs.io/en/stable/user_install.html\n",
      "  from .autonotebook import tqdm as notebook_tqdm\n"
     ]
    }
   ],
   "source": [
    "from llama_index.core import PromptTemplate\n",
    "import json\n",
    "import torch\n",
    "from llama_index.core import Document\n",
    "from llama_index.core.node_parser import SentenceSplitter\n",
    "from llama_index.core import StorageContext\n",
    "from llama_index.core import VectorStoreIndex\n",
    "from llama_index.embeddings.huggingface import HuggingFaceEmbedding\n",
    "from llama_index.vector_stores.weaviate import WeaviateVectorStore\n",
    "from pyvi import ViTokenizer\n",
    "import weaviate\n",
    "from weaviate.classes.init import Auth"
   ]
  },
  {
   "cell_type": "code",
   "execution_count": 3,
   "metadata": {},
   "outputs": [],
   "source": [
    "\n",
    "DATA_COLLECTION = \"ND168\"\n",
    "DEVICE = \"cuda:0\" if torch.cuda.is_available() else \"cpu\"\n",
    "MODEL_NAME = \"bkai-foundation-models/vietnamese-bi-encoder\"\n",
    "CHUNK_SIZE = 512  # Optimized for Vietnamese text\n",
    "CHUNK_OVERLAP = 50  # Small overlap to maintain context"
   ]
  },
  {
   "cell_type": "code",
   "execution_count": 4,
   "metadata": {},
   "outputs": [],
   "source": [
    "# Setup vector store\n",
    "# client = weaviate.connect_to_weaviate_cloud(\n",
    "#     cluster_url=WEAVIATE_URL,\n",
    "#     auth_credentials=Auth.api_key(WEAVIATE_API_KEY),\n",
    "# )\n",
    "\n",
    "\n",
    "client = weaviate.connect_to_local(\n",
    "                     host=\"192.168.100.125\",\n",
    "                        port=8080,\n",
    "                        grpc_port=50051\n",
    "                )\n",
    "vector_store = WeaviateVectorStore(\n",
    "    weaviate_client=client,\n",
    "    index_name=DATA_COLLECTION\n",
    ")"
   ]
  },
  {
   "cell_type": "code",
   "execution_count": 5,
   "metadata": {},
   "outputs": [],
   "source": [
    "index = VectorStoreIndex.from_vector_store(\n",
    "    vector_store=vector_store,\n",
    "    embed_model = HuggingFaceEmbedding(model_name=MODEL_NAME, device=DEVICE, trust_remote_code=True,cache_folder=\"/home/drissdo/.cache/huggingface/hub\"),\n",
    ")"
   ]
  },
  {
   "cell_type": "code",
   "execution_count": 6,
   "metadata": {},
   "outputs": [],
   "source": [
    "# Create retriever\n",
    "retriever = index.as_retriever(\n",
    "    vector_store_query_mode=\"hybrid\",\n",
    "    similarity_top_k=10,\n",
    "    alpha=0.3,\n",
    ")"
   ]
  },
  {
   "cell_type": "code",
   "execution_count": 7,
   "metadata": {},
   "outputs": [
    {
     "name": "stdout",
     "output_type": "stream",
     "text": [
      "Result 1:\n",
      "\n",
      "Text: loại phương_tiện : general mức phạt : none nội_dung vi_phạm : luật giao_thông quy_định : điểm của giấy_phép lái_xe được dùng để quản_lý việc chấp_hành pháp_luật về trật_tự , an_toàn giao_thông đường_bộ của người lái_xe trên hệ_thống cơ_sở dữ_liệu về trật_tự , an_toàn giao_thông đường_bộ , bao_gồm 12 điểm . số điểm trừ mỗi lần vi_phạm tùy thuộc tính_chất , mức_độ của hành_vi vi_phạm pháp_luật về trật_tự , an_toàn giao_thông đường_bộ . dữ_liệu về điểm trừ giấy_phép lái_xe của người vi_phạm sẽ được cập_nhật vào hệ_thống cơ_sở dữ_liệu ngay sau khi quyết_định xử_phạt có hiệu_lực thi_hành và thông_báo cho người bị trừ điểm giấy_phép lái_xe biết .\n",
      "\n",
      "Metadata: {'category': 'General', 'fine_amount': 'None', 'violation_type': 'khác', 'original_text': 'Loại phương tiện: General\\nMức phạt: None\\nNội dung vi phạm: Luật giao thông quy định: Điểm của giấy phép lái xe được dùng để quản lý việc chấp hành pháp luật về trật tự, an toàn giao thông đường bộ của người lái xe trên hệ thống cơ sở dữ liệu về trật tự, an toàn giao thông đường bộ, bao gồm 12 điểm. Số điểm trừ mỗi lần vi phạm tùy thuộc tính chất, mức độ của hành vi vi phạm pháp luật về trật tự, an toàn giao thông đường bộ. Dữ liệu về điểm trừ giấy phép lái xe của người vi phạm sẽ được cập nhật vào hệ thống cơ sở dữ liệu ngay sau khi quyết định xử phạt có hiệu lực thi hành và thông báo cho người bị trừ điểm giấy phép lái xe biết.'}\n",
      "\n",
      "Score: 0.9673968553543091\n",
      "\n",
      "==================================================\n",
      "Result 2:\n",
      "\n",
      "Text: loại phương_tiện : general mức phạt : none nội_dung vi_phạm : luật giao_thông quy_định : trường_hợp giấy_phép lái_xe bị trừ hết điểm thì người có giấy_phép lái_xe không được điều_khiển phương_tiện tham_gia giao_thông đường_bộ theo giấy_phép lái_xe đó . sau thời_hạn ít_nhất_là 06 tháng kể từ ngày bị trừ hết điểm , người có giấy_phép lái_xe được tham_gia kiểm_tra nội_dung kiến_thức pháp_luật về trật_tự , an_toàn giao_thông đường_bộ theo quy_định tại khoản 7 điều 61 luật trật_tự an_toàn giao_thông đường_bộ 2024 do lực_lượng cảnh_sát giao_thông tổ_chức , có kết_quả đạt yêu_cầu thì được phục_hồi đủ 12 điểm .\n",
      "\n",
      "Metadata: {'category': 'General', 'fine_amount': 'None', 'violation_type': 'khác', 'original_text': 'Loại phương tiện: General\\nMức phạt: None\\nNội dung vi phạm: Luật giao thông quy định: Trường hợp giấy phép lái xe bị trừ hết điểm thì người có giấy phép lái xe không được điều khiển phương tiện tham gia giao thông đường bộ theo giấy phép lái xe đó. Sau thời hạn ít nhất là 06 tháng kể từ ngày bị trừ hết điểm, người có giấy phép lái xe được tham gia kiểm tra nội dung kiến thức pháp luật về trật tự, an toàn giao thông đường bộ theo quy định tại khoản 7 Điều 61 Luật Trật tự an toàn giao thông đường bộ 2024 do lực lượng Cảnh sát giao thông tổ chức, có kết quả đạt yêu cầu thì được phục hồi đủ 12 điểm.'}\n",
      "\n",
      "Score: 0.6338326930999756\n",
      "\n",
      "==================================================\n",
      "Result 3:\n",
      "\n",
      "Text: loại phương_tiện : general mức phạt : none nội_dung vi_phạm : luật giao_thông quy_định : giấy_phép lái_xe sau khi đổi , cấp lại , nâng hạng được giữ nguyên số điểm của giấy_phép lái_xe trước khi đổi , cấp lại , nâng hạng .\n",
      "\n",
      "Metadata: {'category': 'General', 'fine_amount': 'None', 'violation_type': 'khác', 'original_text': 'Loại phương tiện: General\\nMức phạt: None\\nNội dung vi phạm: Luật giao thông quy định: Giấy phép lái xe sau khi đổi, cấp lại, nâng hạng được giữ nguyên số điểm của giấy phép lái xe trước khi đổi, cấp lại, nâng hạng.'}\n",
      "\n",
      "Score: 0.5206228494644165\n",
      "\n",
      "==================================================\n",
      "Result 4:\n",
      "\n",
      "Text: loại phương_tiện : ô_tô mức phạt : trừ 06 điểm giấy_phép lái_xe nội_dung vi_phạm : điều_khiển xe ( kể_cả rơ_moóc và sơ_mi rơ_moóc ) không gắn biển số ( đối_với loại xe có quy_định phải gắn biển số )\n",
      "\n",
      "Metadata: {'category': 'ô tô', 'fine_amount': 'Trừ 06 điểm giấy phép lái xe', 'violation_type': 'khác', 'original_text': 'Loại phương tiện: ô tô\\nMức phạt: Trừ 06 điểm giấy phép lái xe\\nNội dung vi phạm: Điều khiển xe (kể cả rơ moóc và sơ mi rơ moóc) không gắn biển số (đối với loại xe có quy định phải gắn biển số)'}\n",
      "\n",
      "Score: 0.4543844759464264\n",
      "\n",
      "==================================================\n",
      "Result 5:\n",
      "\n",
      "Text: loại phương_tiện : general mức phạt : none nội_dung vi_phạm : luật giao_thông quy_định : người có thẩm_quyền xử_phạt vi_phạm hành_chính có thẩm_quyền_trừ điểm giấy_phép lái_xe .\n",
      "\n",
      "Metadata: {'category': 'General', 'fine_amount': 'None', 'violation_type': 'khác', 'original_text': 'Loại phương tiện: General\\nMức phạt: None\\nNội dung vi phạm: Luật giao thông quy định: Người có thẩm quyền xử phạt vi phạm hành chính có thẩm quyền trừ điểm giấy phép lái xe.'}\n",
      "\n",
      "Score: 0.4254791736602783\n",
      "\n",
      "==================================================\n",
      "Result 6:\n",
      "\n",
      "Text: loại phương_tiện : general mức phạt : none nội_dung vi_phạm : luật giao_thông quy_định : giấy_phép lái_xe chưa bị trừ hết điểm và không bị trừ điểm trong thời_hạn 12 tháng từ ngày bị trừ điểm gần nhất thì được phục_hồi đủ 12 điểm .\n",
      "\n",
      "Metadata: {'category': 'General', 'fine_amount': 'None', 'violation_type': 'khác', 'original_text': 'Loại phương tiện: General\\nMức phạt: None\\nNội dung vi phạm: Luật giao thông quy định: Giấy phép lái xe chưa bị trừ hết điểm và không bị trừ điểm trong thời hạn 12 tháng từ ngày bị trừ điểm gần nhất thì được phục hồi đủ 12 điểm.'}\n",
      "\n",
      "Score: 0.41708293557167053\n",
      "\n",
      "==================================================\n",
      "Result 7:\n",
      "\n",
      "Text: loại phương_tiện : ô_tô mức phạt : trừ 06 điểm giấy_phép lái_xe nội_dung vi_phạm : điều_khiển xe không gắn đủ biển số hoặc gắn biển số không đúng vị_trí , không đúng quy_cách theo quy_định ; gắn biển số không rõ chữ , số hoặc sử_dụng chất_liệu khác sơn , dán lên chữ , số của biển số xe ; gắn biển số bị bẻ cong , che_lấp , làm thay_đổi chữ , số , màu_sắc ( của chữ , số , nền biển số xe ) , hình_dạng , kích_thước của biển số xe ( kể_cả rơ_moóc và sơ_mi rơ_moóc )\n",
      "\n",
      "Metadata: {'category': 'ô tô', 'fine_amount': 'Trừ 06 điểm giấy phép lái xe', 'violation_type': 'khác', 'original_text': 'Loại phương tiện: ô tô\\nMức phạt: Trừ 06 điểm giấy phép lái xe\\nNội dung vi phạm: Điều khiển xe không gắn đủ biển số hoặc gắn biển số không đúng vị trí, không đúng quy cách theo quy định; gắn biển số không rõ chữ, số hoặc sử dụng chất liệu khác sơn, dán lên chữ, số của biển số xe; gắn biển số bị bẻ cong, che lấp, làm thay đổi chữ, số, màu sắc (của chữ, số, nền biển số xe), hình dạng, kích thước của biển số xe (kể cả rơ moóc và sơ mi rơ moóc)'}\n",
      "\n",
      "Score: 0.39813390374183655\n",
      "\n",
      "==================================================\n",
      "Result 8:\n",
      "\n",
      "Text: loại phương_tiện : general mức phạt : none nội_dung vi_phạm : luật giao_thông quy_định người điều_khiển phương_tiện tham_gia giao_thông đường_bộ phải bảo_đảm điều_kiện sức_khỏe phù_hợp với từng loại phương_tiện được phép điều_khiển . bộ_trưởng bộ y_tế quy_định về tiêu_chuẩn sức_khỏe , việc khám sức_khỏe đối_với người lái_xe , người điều_khiển xe_máy chuyên_dùng ; việc khám sức_khỏe định_kỳ đối_với người hành_nghề lái_xe ô_tô ; xây_dựng cơ_sở dữ_liệu về sức_khỏe của người lái_xe , người điều_khiển xe_máy chuyên_dùng .\n",
      "\n",
      "Metadata: {'category': 'General', 'fine_amount': 'None', 'violation_type': 'khác', 'original_text': 'Loại phương tiện: General\\nMức phạt: None\\nNội dung vi phạm: Luật giao thông quy định Người điều khiển phương tiện tham gia giao thông đường bộ phải bảo đảm điều kiện sức khỏe phù hợp với từng loại phương tiện được phép điều khiển. Bộ trưởng Bộ Y tế quy định về tiêu chuẩn sức khỏe, việc khám sức khỏe đối với người lái xe, người điều khiển xe máy chuyên dùng; việc khám sức khỏe định kỳ đối với người hành nghề lái xe ô tô; xây dựng cơ sở dữ liệu về sức khỏe của người lái xe, người điều khiển xe máy chuyên dùng.'}\n",
      "\n",
      "Score: 0.372635155916214\n",
      "\n",
      "==================================================\n",
      "Result 9:\n",
      "\n",
      "Text: loại phương_tiện : ô_tô mức phạt : trừ 2 điểm giấy_phép lái_xe - điều_kiện phương_tiện nội_dung vi_phạm : không có giấy chứng_nhận / tem kiểm_định ( ô_tô )\n",
      "\n",
      "Metadata: {'category': 'ô tô', 'fine_amount': 'Trừ 2 điểm giấy phép lái xe - Điều kiện phương tiện', 'violation_type': 'khác', 'original_text': 'Loại phương tiện: ô tô\\nMức phạt: Trừ 2 điểm giấy phép lái xe - Điều kiện phương tiện\\nNội dung vi phạm: Không có giấy chứng nhận/tem kiểm định (ô tô)'}\n",
      "\n",
      "Score: 0.3224574327468872\n",
      "\n",
      "==================================================\n",
      "Result 10:\n",
      "\n",
      "Text: loại phương_tiện : ô_tô chở hàng mức phạt : trừ 10 điểm giấy_phép lái_xe nội_dung vi_phạm : vi_phạm_quy_định về chở hàng mà gây tai_nạn giao_thông ( ô_tô chở hàng )\n",
      "\n",
      "Metadata: {'category': 'ô tô chở hàng', 'fine_amount': 'Trừ 10 điểm giấy phép lái xe', 'violation_type': 'khác', 'original_text': 'Loại phương tiện: ô tô chở hàng\\nMức phạt: Trừ 10 điểm giấy phép lái xe\\nNội dung vi phạm: Vi phạm quy định về chở hàng mà gây tai nạn giao thông (ô tô chở hàng)'}\n",
      "\n",
      "Score: 0.3165188133716583\n",
      "\n",
      "==================================================\n"
     ]
    }
   ],
   "source": [
    "question = \"Luật giao thông quy định như thế nào về tổng số điểm của giấy phép lái xe và quy định về việc cộng điểm?\"\n",
    "retrieved_docs = retriever.retrieve(question)\n",
    "\n",
    "for i, node in enumerate(retrieved_docs):\n",
    "    print(f\"Result {i+1}:\\n\")\n",
    "    print(f\"Text: {node.text}\\n\")\n",
    "    print(f\"Metadata: {node.metadata}\\n\")\n",
    "    print(f\"Score: {node.score}\\n\")\n",
    "    print(\"=\"*50)"
   ]
  },
  {
   "cell_type": "code",
   "execution_count": 8,
   "metadata": {},
   "outputs": [],
   "source": [
    "# client.collections.delete_all()"
   ]
  },
  {
   "cell_type": "code",
   "execution_count": 9,
   "metadata": {},
   "outputs": [],
   "source": [
    "def classify_query(question: str) -> str:\n",
    "        # Keywords indicating violation/penalty questions\n",
    "        violation_keywords = [\n",
    "            \"xử phạt\", \"bị phạt\", \"bị gì\", \"xử lý\", \"nộp phạt\", \n",
    "            \"phạt tiền\", \"phạt bao nhiêu\", \"mức phạt\", \"tước giấy phép\",\n",
    "            \"trừ điểm\", \"phạt như thế nào\", \"bị phạt gì\", \"hình thức xử phạt\",\n",
    "            \"xử phạt hành chính\", \"tiền phạt\", \"phạt hành chính\", \"bị tịch thu\",\n",
    "            \"thu giữ\", \"tạm giữ\"\n",
    "        ]\n",
    "        \n",
    "        question_lower = question.lower()\n",
    "        \n",
    "        # Check if any violation keywords are in the question\n",
    "        for keyword in violation_keywords:\n",
    "            if keyword in question_lower:\n",
    "                return \"violation_penalty\"\n",
    "        \n",
    "    \n",
    "        return \"general_knowledge\""
   ]
  },
  {
   "cell_type": "code",
   "execution_count": null,
   "metadata": {},
   "outputs": [],
   "source": []
  }
 ],
 "metadata": {
  "kernelspec": {
   "display_name": "venv",
   "language": "python",
   "name": "python3"
  },
  "language_info": {
   "codemirror_mode": {
    "name": "ipython",
    "version": 3
   },
   "file_extension": ".py",
   "mimetype": "text/x-python",
   "name": "python",
   "nbconvert_exporter": "python",
   "pygments_lexer": "ipython3",
   "version": "3.11.11"
  }
 },
 "nbformat": 4,
 "nbformat_minor": 2
}

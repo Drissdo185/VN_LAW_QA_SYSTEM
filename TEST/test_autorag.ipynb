{
 "cells": [
  {
   "cell_type": "code",
   "execution_count": 1,
   "metadata": {},
   "outputs": [
    {
     "name": "stderr",
     "output_type": "stream",
     "text": [
      "/home/drissdo/Desktop/VN_LAW_QA_SYSTEM/venv/lib/python3.11/site-packages/tqdm/auto.py:21: TqdmWarning: IProgress not found. Please update jupyter and ipywidgets. See https://ipywidgets.readthedocs.io/en/stable/user_install.html\n",
      "  from .autonotebook import tqdm as notebook_tqdm\n"
     ]
    }
   ],
   "source": [
    "from llama_index.core import PromptTemplate\n",
    "import json\n",
    "import torch\n",
    "from llama_index.core import Document\n",
    "from llama_index.core.node_parser import SentenceSplitter\n",
    "from llama_index.core import StorageContext\n",
    "from llama_index.core import VectorStoreIndex\n",
    "from llama_index.embeddings.huggingface import HuggingFaceEmbedding\n",
    "from llama_index.vector_stores.weaviate import WeaviateVectorStore\n",
    "from pyvi import ViTokenizer\n",
    "import weaviate\n",
    "from weaviate.classes.init import Auth"
   ]
  },
  {
   "cell_type": "code",
   "execution_count": 2,
   "metadata": {},
   "outputs": [],
   "source": [
    "# Configuration constants\n",
    "WEAVIATE_URL=\"https://mmtip1s2qwwe1q3bwih2fw.c0.us-west3.gcp.weaviate.cloud\"\n",
    "WEAVIATE_API_KEY=\"37Nj5DR1LWMDz98URsr3ib7e80pnHHAoyqn1\"\n",
    "DATA_COLLECTION = \"ND168\"\n",
    "DEVICE = \"cuda:0\" if torch.cuda.is_available() else \"cpu\"\n",
    "MODEL_NAME = \"dangvantuan/vietnamese-document-embedding\"\n",
    "CHUNK_SIZE = 512  # Optimized for Vietnamese text\n",
    "CHUNK_OVERLAP = 50  # Small overlap to maintain context"
   ]
  },
  {
   "cell_type": "code",
   "execution_count": 5,
   "metadata": {},
   "outputs": [],
   "source": [
    "# Setup vector store\n",
    "client = weaviate.connect_to_weaviate_cloud(\n",
    "    cluster_url=WEAVIATE_URL,\n",
    "    auth_credentials=Auth.api_key(WEAVIATE_API_KEY),\n",
    ")\n",
    "vector_store = WeaviateVectorStore(\n",
    "    weaviate_client=client,\n",
    "    index_name=DATA_COLLECTION\n",
    ")"
   ]
  },
  {
   "cell_type": "code",
   "execution_count": null,
   "metadata": {},
   "outputs": [],
   "source": [
    "SYSTEM_PROMPT = PromptTemplate(\n",
    "    template=(\n",
    "                \"Dựa trên tài liệu đã trích xuất, hãy phân tích và trả lời câu hỏi.\\n\"\n",
    "                \"Câu hỏi: {question}\\n\"\n",
    "                \"Tài liệu: {context}\\n\"\n",
    "                \"Hãy suy nghĩ từng bước:\\n\"\n",
    "                \"1. Phân tích xem thông tin có đủ và liên quan không?\\n\"\n",
    "                \"2. Nếu chưa đủ, hãy đưa ra truy vấn mới để tìm thêm thông tin\\n\"\n",
    "                \"3. Nếu đã đủ, đưa ra câu trả lời cuối cùng\\n\\n\"\n",
    "                \"Hãy trả lời theo định dạng sau:\\n\"\n",
    "                \"Phân tích: <phân tích thông tin hiện có>\\n\"\n",
    "                \"Quyết định: [Cần thêm thông tin/Đã đủ thông tin]\\n\"\n",
    "                \"Truy vấn tiếp theo: <truy vấn mới> (nếu cần)\\n\"\n",
    "                \"Câu trả lời cuối cùng: <câu trả lời> (nếu đã đủ thông tin)\\n\"\n",
    "            )\n",
    ")"
   ]
  },
  {
   "cell_type": "code",
   "execution_count": 6,
   "metadata": {},
   "outputs": [],
   "source": [
    "index = VectorStoreIndex.from_vector_store(\n",
    "    vector_store=vector_store,\n",
    "    embed_model = HuggingFaceEmbedding(model_name=MODEL_NAME, device=DEVICE, trust_remote_code=True),\n",
    ")"
   ]
  },
  {
   "cell_type": "code",
   "execution_count": 7,
   "metadata": {},
   "outputs": [],
   "source": [
    "# Create retriever\n",
    "retriever = index.as_retriever(\n",
    "    vector_store_query_mode=\"hybrid\",\n",
    "    similarity_top_k=5,\n",
    "    alpha=0.6  # Balance between keyword and semantic search\n",
    ")"
   ]
  },
  {
   "cell_type": "code",
   "execution_count": 8,
   "metadata": {},
   "outputs": [
    {
     "name": "stdout",
     "output_type": "stream",
     "text": [
      "Result 1:\n",
      "\n",
      "Text: loại phương_tiện : mô_tô , gắn máy mức phạt : phạt tiền từ 6.000.000 đồng đến 8.000.000 đồng_nội_dung vi_phạm : điều_khiển xe trên đường mà trong máu hoặc hơi thở có nồng_độ cồn vượt quá 50 miligam đến 80 miligam / 100 mililít máu\n",
      "\n",
      "Metadata: {'category': 'mô tô, gắn máy', 'fine_amount': 'Phạt tiền từ 6.000.000 đồng đến 8.000.000 đồng', 'violation_type': 'khác', 'original_text': 'Loại phương tiện: mô tô, gắn máy\\nMức phạt: Phạt tiền từ 6.000.000 đồng đến 8.000.000 đồng\\nNội dung vi phạm: Điều khiển xe trên đường mà trong máu hoặc hơi thở có nồng độ cồn vượt quá 50 miligam đến 80 miligam/100 mililít máu'}\n",
      "\n",
      "Score: 0.8680205345153809\n",
      "\n",
      "==================================================\n",
      "Result 2:\n",
      "\n",
      "Text: loại phương_tiện : mô_tô , gắn máy mức phạt : tước quyền sử_dụng giấy_phép lái_xe từ 22 tháng đến 24 tháng nội_dung vi_phạm : điều_khiển xe trên đường mà trong máu hoặc hơi thở có nồng_độ cồn vượt quá 80 miligam / 100 mililít máu\n",
      "\n",
      "Metadata: {'category': 'mô tô, gắn máy', 'fine_amount': 'Tước quyền sử dụng giấy phép lái xe từ 22 tháng đến 24 tháng', 'violation_type': 'khác', 'original_text': 'Loại phương tiện: mô tô, gắn máy\\nMức phạt: Tước quyền sử dụng giấy phép lái xe từ 22 tháng đến 24 tháng\\nNội dung vi phạm: Điều khiển xe trên đường mà trong máu hoặc hơi thở có nồng độ cồn vượt quá 80 miligam/100 mililít máu'}\n",
      "\n",
      "Score: 0.8621523380279541\n",
      "\n",
      "==================================================\n",
      "Result 3:\n",
      "\n",
      "Text: loại phương_tiện : mô_tô , gắn máy mức phạt : tước quyền sử_dụng giấy_phép lái_xe từ 22 tháng đến 24 tháng nội_dung vi_phạm : không chấp_hành yêu_cầu kiểm_tra về nồng_độ cồn của người thi_hành công_vụ\n",
      "\n",
      "Metadata: {'category': 'mô tô, gắn máy', 'fine_amount': 'Tước quyền sử dụng giấy phép lái xe từ 22 tháng đến 24 tháng', 'violation_type': 'khác', 'original_text': 'Loại phương tiện: mô tô, gắn máy\\nMức phạt: Tước quyền sử dụng giấy phép lái xe từ 22 tháng đến 24 tháng\\nNội dung vi phạm: Không chấp hành yêu cầu kiểm tra về nồng độ cồn của người thi hành công vụ'}\n",
      "\n",
      "Score: 0.8292738199234009\n",
      "\n",
      "==================================================\n",
      "Result 4:\n",
      "\n",
      "Text: loại phương_tiện : mô_tô , gắn máy mức phạt : phạt tiền từ 8.000.000 đồng đến 10.000.000 đồng_nội_dung vi_phạm : điều_khiển xe trên đường mà trong máu hoặc hơi thở có nồng_độ cồn vượt quá 80 miligam / 100 mililít máu\n",
      "\n",
      "Metadata: {'category': 'mô tô, gắn máy', 'fine_amount': 'Phạt tiền từ 8.000.000 đồng đến 10.000.000 đồng', 'violation_type': 'khác', 'original_text': 'Loại phương tiện: mô tô, gắn máy\\nMức phạt: Phạt tiền từ 8.000.000 đồng đến 10.000.000 đồng\\nNội dung vi phạm: Điều khiển xe trên đường mà trong máu hoặc hơi thở có nồng độ cồn vượt quá 80 miligam/100 mililít máu'}\n",
      "\n",
      "Score: 0.8219306468963623\n",
      "\n",
      "==================================================\n",
      "Result 5:\n",
      "\n",
      "Text: loại phương_tiện : mô_tô , gắn máy mức phạt : phạt tiền từ 2.000.000 đồng đến 3.000.000 đồng_nội_dung vi_phạm : điều_khiển xe trên đường mà trong máu hoặc hơi thở có nồng_độ cồn nhưng chưa vượt quá 50 miligam / 100 mililít máu\n",
      "\n",
      "Metadata: {'category': 'mô tô, gắn máy', 'fine_amount': 'Phạt tiền từ 2.000.000 đồng đến 3.000.000 đồng', 'violation_type': 'khác', 'original_text': 'Loại phương tiện: mô tô, gắn máy\\nMức phạt: Phạt tiền từ 2.000.000 đồng đến 3.000.000 đồng\\nNội dung vi phạm: Điều khiển xe trên đường mà trong máu hoặc hơi thở có nồng độ cồn nhưng chưa vượt quá 50 miligam/100 mililít máu'}\n",
      "\n",
      "Score: 0.7866955399513245\n",
      "\n",
      "==================================================\n"
     ]
    }
   ],
   "source": [
    "question = \"Đối với xe máy, vi phạm nồng độ cồn sẽ bị xử phạt như thế nào?\"\n",
    "retrieved_docs = retriever.retrieve(question)\n",
    "\n",
    "for i, node in enumerate(retrieved_docs):\n",
    "    print(f\"Result {i+1}:\\n\")\n",
    "    print(f\"Text: {node.text}\\n\")\n",
    "    print(f\"Metadata: {node.metadata}\\n\")\n",
    "    print(f\"Score: {node.score}\\n\")\n",
    "    print(\"=\"*50)"
   ]
  },
  {
   "cell_type": "code",
   "execution_count": null,
   "metadata": {},
   "outputs": [],
   "source": []
  }
 ],
 "metadata": {
  "kernelspec": {
   "display_name": "venv",
   "language": "python",
   "name": "python3"
  },
  "language_info": {
   "codemirror_mode": {
    "name": "ipython",
    "version": 3
   },
   "file_extension": ".py",
   "mimetype": "text/x-python",
   "name": "python",
   "nbconvert_exporter": "python",
   "pygments_lexer": "ipython3",
   "version": "3.11.11"
  }
 },
 "nbformat": 4,
 "nbformat_minor": 2
}

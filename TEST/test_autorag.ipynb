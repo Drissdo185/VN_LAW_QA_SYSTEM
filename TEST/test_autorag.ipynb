{
 "cells": [
  {
   "cell_type": "code",
   "execution_count": 2,
   "metadata": {},
   "outputs": [
    {
     "name": "stderr",
     "output_type": "stream",
     "text": [
      "/home/drissdo/Desktop/VN_LAW_QA_SYSTEM/venv/lib/python3.11/site-packages/tqdm/auto.py:21: TqdmWarning: IProgress not found. Please update jupyter and ipywidgets. See https://ipywidgets.readthedocs.io/en/stable/user_install.html\n",
      "  from .autonotebook import tqdm as notebook_tqdm\n"
     ]
    }
   ],
   "source": [
    "from llama_index.core import PromptTemplate\n",
    "import json\n",
    "import torch\n",
    "from llama_index.core import Document\n",
    "from llama_index.core.node_parser import SentenceSplitter\n",
    "from llama_index.core import StorageContext\n",
    "from llama_index.core import VectorStoreIndex\n",
    "from llama_index.embeddings.huggingface import HuggingFaceEmbedding\n",
    "from llama_index.vector_stores.weaviate import WeaviateVectorStore\n",
    "from pyvi import ViTokenizer\n",
    "import weaviate\n",
    "from weaviate.classes.init import Auth"
   ]
  },
  {
   "cell_type": "code",
   "execution_count": 3,
   "metadata": {},
   "outputs": [],
   "source": [
    "WEAVIATE_URL=\"https://frqjst3xshkqyw7ayhy6a.c0.asia-southeast1.gcp.weaviate.cloud\"\n",
    "WEAVIATE_API_KEY=\"eQJokAVcxKpPbEXRjr5E2tSi1lvXen5JAsgT\"\n",
    "DATA_COLLECTION = \"ND168\"\n",
    "DEVICE = \"cuda:0\" if torch.cuda.is_available() else \"cpu\"\n",
    "MODEL_NAME = \"dangvantuan/vietnamese-document-embedding\"\n",
    "CHUNK_SIZE = 512  # Optimized for Vietnamese text\n",
    "CHUNK_OVERLAP = 50  # Small overlap to maintain context"
   ]
  },
  {
   "cell_type": "code",
   "execution_count": 4,
   "metadata": {},
   "outputs": [],
   "source": [
    "# Setup vector store\n",
    "client = weaviate.connect_to_weaviate_cloud(\n",
    "    cluster_url=WEAVIATE_URL,\n",
    "    auth_credentials=Auth.api_key(WEAVIATE_API_KEY),\n",
    ")\n",
    "\n",
    "\n",
    "# client = weaviate.connect_to_local(\n",
    "#                      host=\"192.168.100.125\",\n",
    "#                         port=8080,\n",
    "#                         grpc_port=50051\n",
    "#                 )\n",
    "vector_store = WeaviateVectorStore(\n",
    "    weaviate_client=client,\n",
    "    index_name=DATA_COLLECTION\n",
    ")"
   ]
  },
  {
   "cell_type": "code",
   "execution_count": 5,
   "metadata": {},
   "outputs": [],
   "source": [
    "index = VectorStoreIndex.from_vector_store(\n",
    "    vector_store=vector_store,\n",
    "    embed_model = HuggingFaceEmbedding(model_name=MODEL_NAME, device=DEVICE, trust_remote_code=True,cache_folder=\"/home/drissdo/.cache/huggingface/hub\"),\n",
    ")"
   ]
  },
  {
   "cell_type": "code",
   "execution_count": 6,
   "metadata": {},
   "outputs": [],
   "source": [
    "# Create retriever\n",
    "retriever = index.as_retriever(\n",
    "    vector_store_query_mode=\"hybrid\",\n",
    "    similarity_top_k=10,\n",
    "    alpha=0.3,\n",
    ")"
   ]
  },
  {
   "cell_type": "code",
   "execution_count": 7,
   "metadata": {},
   "outputs": [
    {
     "name": "stdout",
     "output_type": "stream",
     "text": [
      "Result 1:\n",
      "\n",
      "Text: loại phương_tiện : cá_nhân \n",
      " mức phạt : phạt tiền từ 2.000.000 đồng đến 3.000.000 đồng \n",
      " nội_dung vi_phạm : ( cá_nhân ) cố_ý thay_đổi , xóa dấu_vết hiện_trường vụ tai_nạn giao_thông , trừ các hành_vi vi_phạm_quy_định\n",
      "\n",
      "Metadata: {'category': 'Cá nhân', 'fine_amount': 'Phạt tiền từ 2.000.000 đồng đến 3.000.000 đồng', 'violation_type': 'khác', 'original_text': 'Loại phương tiện: Cá nhân\\nMức phạt: Phạt tiền từ 2.000.000 đồng đến 3.000.000 đồng\\nNội dung vi phạm: (Cá nhân) Cố ý thay đổi, xóa dấu vết hiện trường vụ tai nạn giao thông, trừ các hành vi vi phạm quy định'}\n",
      "\n",
      "Score: 0.30000001192092896\n",
      "\n",
      "==================================================\n",
      "Result 2:\n",
      "\n",
      "Text: loại phương_tiện : cá_nhân \n",
      " mức phạt : phạt tiền từ 200.000 đồng đến 250.000 đồng \n",
      " nội_dung vi_phạm : ( cá_nhân ) bán hàng rong hoặc bán hàng_hóa nhỏ_lẻ khác trên lòng_đường , trên vỉa_hè các tuyến phố có quy_định cấm bán hàng ; trừ các hành_vi vi_phạm_quy_định tại khoản 7 , khoản 9 điều này ; phơi thóc , lúa , rơm , rạ , nông , lâm , hải_sản trên đường_bộ ; đặt máy tuốt lúa trên đường_bộ .\n",
      "\n",
      "Metadata: {'category': 'Cá nhân', 'fine_amount': 'Phạt tiền từ 200.000 đồng đến 250.000 đồng', 'violation_type': 'khác', 'original_text': 'Loại phương tiện: Cá nhân\\nMức phạt: Phạt tiền từ 200.000 đồng đến 250.000 đồng\\nNội dung vi phạm: (Cá nhân) Bán hàng rong hoặc bán hàng hóa nhỏ lẻ khác trên lòng đường, trên vỉa hè các tuyến phố có quy định cấm bán hàng; trừ các hành vi vi phạm quy định tại khoản 7, khoản 9 Điều này;Phơi thóc, lúa, rơm, rạ, nông, lâm, hải sản trên đường bộ; đặt máy tuốt lúa trên đường bộ.'}\n",
      "\n",
      "Score: 0.27379024028778076\n",
      "\n",
      "==================================================\n",
      "Result 3:\n",
      "\n",
      "Text: loại phương_tiện : general \n",
      " mức phạt : none \n",
      " nội_dung vi_phạm : luật giao_thông quy_định trong điều_kiện mặt_đường khô_ráo , khoảng_cách an_toàn tối_thiểu ứng với mỗi tốc_độ được quy_định như sau : tốc_độ 60 km / h : khoảng_cách tối_thiểu 35m . tốc_độ từ trên 60 km / h đến 80 km / h : khoảng_cách tối_thiểu 55m . tốc_độ từ trên 80 km / h đến 100 km / h : khoảng_cách tối_thiểu 70m . tốc_độ từ trên 100 km / h đến 120 km / h : khoảng_cách tối_thiểu 100m .\n",
      "\n",
      "Metadata: {'category': 'General', 'fine_amount': 'None', 'violation_type': 'khác', 'original_text': 'Loại phương tiện: General\\nMức phạt: None\\nNội dung vi phạm: Luật giao thông quy định Trong điều kiện mặt đường khô ráo, khoảng cách an toàn tối thiểu ứng với mỗi tốc độ được quy định như sau: Tốc độ 60 km/h: khoảng cách tối thiểu 35m. Tốc độ từ trên 60 km/h đến 80 km/h: khoảng cách tối thiểu 55m. Tốc độ từ trên 80 km/h đến 100 km/h: khoảng cách tối thiểu 70m. Tốc độ từ trên 100 km/h đến 120 km/h: khoảng cách tối thiểu 100m.'}\n",
      "\n",
      "Score: 0.17166633903980255\n",
      "\n",
      "==================================================\n",
      "Result 4:\n",
      "\n",
      "Text: loại phương_tiện : ô_tô \n",
      " mức phạt : phạt tiền từ 2.000.000 đồng đến 3.000.000 đồng \n",
      " nội_dung vi_phạm : dán , lắp phù_hiệu , biểu_trưng nhận_diện tương_tự của cơ_quan nhà_nước , cơ_quan ngoại_giao ... ( ô_tô )\n",
      "\n",
      "Metadata: {'category': 'ô tô', 'fine_amount': 'Phạt tiền từ 2.000.000 đồng đến 3.000.000 đồng', 'violation_type': 'khác', 'original_text': 'Loại phương tiện: ô tô\\nMức phạt: Phạt tiền từ 2.000.000 đồng đến 3.000.000 đồng\\nNội dung vi phạm: Dán, lắp phù hiệu, biểu trưng nhận diện tương tự của cơ quan nhà nước, cơ quan ngoại giao... (ô tô)'}\n",
      "\n",
      "Score: 0.16305425763130188\n",
      "\n",
      "==================================================\n",
      "Result 5:\n",
      "\n",
      "Text: loại phương_tiện : general \n",
      " mức phạt : none \n",
      " nội_dung vi_phạm : luật giao_thông quy_định các trường_hợp phải giảm_tốc_độ : qua nơi đường_bộ giao nhau cùng mức ; nơi đường_bộ giao nhau cùng mức với đường_sắt ; đường vòng ; đường có địa_hình quanh_co , đèo dốc ; đoạn đường có mặt_đường hẹp , không êm thuận .\n",
      "\n",
      "Metadata: {'category': 'General', 'fine_amount': 'None', 'violation_type': 'khác', 'original_text': 'Loại phương tiện: General\\nMức phạt: None\\nNội dung vi phạm: Luật giao thông quy định Các trường hợp phải giảm tốc độ: Qua nơi đường bộ giao nhau cùng mức; nơi đường bộ giao nhau cùng mức với đường sắt; đường vòng; đường có địa hình quanh co, đèo dốc; đoạn đường có mặt đường hẹp, không êm thuận.'}\n",
      "\n",
      "Score: 0.14999261498451233\n",
      "\n",
      "==================================================\n",
      "Result 6:\n",
      "\n",
      "Text: loại phương_tiện : ô_tô \n",
      " mức phạt : phạt tiền từ 4.000.000 đồng đến 6.000.000 đồng \n",
      " nội_dung vi_phạm : đi vào khu_vực cấm , đường có biển_báo_hiệu có nội_dung cấm đi vào đối_với loại phương_tiện đang điều_khiển ( ô_tô )\n",
      "\n",
      "Metadata: {'category': 'ô tô', 'fine_amount': 'Phạt tiền từ 4.000.000 đồng đến 6.000.000 đồng', 'violation_type': 'khác', 'original_text': 'Loại phương tiện: ô tô\\nMức phạt: Phạt tiền từ 4.000.000 đồng đến 6.000.000 đồng\\nNội dung vi phạm: Đi vào khu vực cấm, đường có biển báo hiệu có nội dung cấm đi vào đối với loại phương tiện đang điều khiển (ô tô)'}\n",
      "\n",
      "Score: 0.14956068992614746\n",
      "\n",
      "==================================================\n",
      "Result 7:\n",
      "\n",
      "Text: loại phương_tiện : cá_nhân \n",
      " mức phạt : phạt tiền từ 2.000.000 đồng đến 3.000.000 đồng \n",
      " nội_dung vi_phạm : ( cá_nhân ) thực_hiện_hành_vi sử_dụng trái_phép lòng_đường , vỉa_hè đê : họp chợ ; kinh_doanh dịch_vụ ăn_uống ; bày , bán hàng_hóa ; sửa_chữa phương_tiện , máy_móc , thiết_bị ; rửa xe ; đặt , treo biển_hiệu , biển quảng_cáo .\n",
      "\n",
      "Metadata: {'category': 'Cá nhân', 'fine_amount': 'Phạt tiền từ 2.000.000 đồng đến 3.000.000 đồng', 'violation_type': 'khác', 'original_text': 'Loại phương tiện: Cá nhân\\nMức phạt: Phạt tiền từ 2.000.000 đồng đến 3.000.000 đồng\\nNội dung vi phạm: (Cá nhân) thực hiện hành vi sử dụng trái phép lòng đường, vỉa hè đê: họp chợ; kinh doanh dịch vụ ăn uống; bày, bán hàng hóa; sửa chữa phương tiện, máy móc, thiết bị; rửa xe; đặt, treo biển hiệu, biển quảng cáo.'}\n",
      "\n",
      "Score: 0.1489115059375763\n",
      "\n",
      "==================================================\n"
     ]
    }
   ],
   "source": [
    "question = \"ABC\"\n",
    "retrieved_docs = retriever.retrieve(question)\n",
    "\n",
    "for i, node in enumerate(retrieved_docs):\n",
    "    print(f\"Result {i+1}:\\n\")\n",
    "    print(f\"Text: {node.text}\\n\")\n",
    "    print(f\"Metadata: {node.metadata}\\n\")\n",
    "    print(f\"Score: {node.score}\\n\")\n",
    "    print(\"=\"*50)"
   ]
  },
  {
   "cell_type": "code",
   "execution_count": 8,
   "metadata": {},
   "outputs": [],
   "source": [
    "# client.collections.delete_all()"
   ]
  }
 ],
 "metadata": {
  "kernelspec": {
   "display_name": "venv",
   "language": "python",
   "name": "python3"
  },
  "language_info": {
   "codemirror_mode": {
    "name": "ipython",
    "version": 3
   },
   "file_extension": ".py",
   "mimetype": "text/x-python",
   "name": "python",
   "nbconvert_exporter": "python",
   "pygments_lexer": "ipython3",
   "version": "3.11.11"
  }
 },
 "nbformat": 4,
 "nbformat_minor": 2
}

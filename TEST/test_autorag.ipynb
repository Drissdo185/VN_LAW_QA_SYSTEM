{
 "cells": [
  {
   "cell_type": "code",
   "execution_count": 2,
   "metadata": {},
   "outputs": [
    {
     "name": "stderr",
     "output_type": "stream",
     "text": [
      "/home/drissdo/Desktop/VN_LAW_QA_SYSTEM/venv/lib/python3.11/site-packages/tqdm/auto.py:21: TqdmWarning: IProgress not found. Please update jupyter and ipywidgets. See https://ipywidgets.readthedocs.io/en/stable/user_install.html\n",
      "  from .autonotebook import tqdm as notebook_tqdm\n"
     ]
    }
   ],
   "source": [
    "from llama_index.core import PromptTemplate\n",
    "import json\n",
    "import torch\n",
    "from llama_index.core import Document\n",
    "from llama_index.core.node_parser import SentenceSplitter\n",
    "from llama_index.core import StorageContext\n",
    "from llama_index.core import VectorStoreIndex\n",
    "from llama_index.embeddings.huggingface import HuggingFaceEmbedding\n",
    "from llama_index.vector_stores.weaviate import WeaviateVectorStore\n",
    "from pyvi import ViTokenizer\n",
    "import weaviate\n",
    "from weaviate.classes.init import Auth"
   ]
  },
  {
   "cell_type": "code",
   "execution_count": 3,
   "metadata": {},
   "outputs": [],
   "source": [
    "\n",
    "DATA_COLLECTION = \"ND168\"\n",
    "DEVICE = \"cuda:0\" if torch.cuda.is_available() else \"cpu\"\n",
    "MODEL_NAME = \"dangvantuan/vietnamese-document-embedding\"\n",
    "CHUNK_SIZE = 512  # Optimized for Vietnamese text\n",
    "CHUNK_OVERLAP = 50  # Small overlap to maintain context"
   ]
  },
  {
   "cell_type": "code",
   "execution_count": 4,
   "metadata": {},
   "outputs": [],
   "source": [
    "# Setup vector store\n",
    "# client = weaviate.connect_to_weaviate_cloud(\n",
    "#     cluster_url=WEAVIATE_URL,\n",
    "#     auth_credentials=Auth.api_key(WEAVIATE_API_KEY),\n",
    "# )\n",
    "\n",
    "\n",
    "client = weaviate.connect_to_local(\n",
    "                     host=\"192.168.100.125\",\n",
    "                        port=8080,\n",
    "                        grpc_port=50051\n",
    "                )\n",
    "vector_store = WeaviateVectorStore(\n",
    "    weaviate_client=client,\n",
    "    index_name=DATA_COLLECTION\n",
    ")"
   ]
  },
  {
   "cell_type": "code",
   "execution_count": 5,
   "metadata": {},
   "outputs": [],
   "source": [
    "index = VectorStoreIndex.from_vector_store(\n",
    "    vector_store=vector_store,\n",
    "    embed_model = HuggingFaceEmbedding(model_name=MODEL_NAME, device=DEVICE, trust_remote_code=True,cache_folder=\"/home/drissdo/.cache/huggingface/hub\"),\n",
    ")"
   ]
  },
  {
   "cell_type": "code",
   "execution_count": 6,
   "metadata": {},
   "outputs": [],
   "source": [
    "# Create retriever\n",
    "retriever = index.as_retriever(\n",
    "    vector_store_query_mode=\"hybrid\",\n",
    "    similarity_top_k=20,\n",
    "    alpha=0.3,\n",
    ")"
   ]
  },
  {
   "cell_type": "code",
   "execution_count": 7,
   "metadata": {},
   "outputs": [
    {
     "name": "stdout",
     "output_type": "stream",
     "text": [
      "Result 1:\n",
      "\n",
      "Text: loại phương_tiện : general mức phạt : none nội_dung vi_phạm : người đủ 16 tuổi trở lên được điều_khiển xe_gắn_máy .\n",
      "\n",
      "Metadata: {'category': 'General', 'fine_amount': 'None', 'violation_type': 'khác', 'original_text': 'Loại phương tiện: General\\nMức phạt: None\\nNội dung vi phạm: Người đủ 16 tuổi trở lên được điều khiển xe gắn máy.'}\n",
      "\n",
      "Score: 0.7591676712036133\n",
      "\n",
      "==================================================\n",
      "Result 2:\n",
      "\n",
      "Text: loại phương_tiện : general mức phạt : none nội_dung vi_phạm : người đủ 21 tuổi trở lên được cấp giấy_phép lái_xe hạng c , be .\n",
      "\n",
      "Metadata: {'category': 'General', 'fine_amount': 'None', 'violation_type': 'khác', 'original_text': 'Loại phương tiện: General\\nMức phạt: None\\nNội dung vi phạm: Người đủ 21 tuổi trở lên được cấp giấy phép lái xe hạng C, BE.'}\n",
      "\n",
      "Score: 0.5291225910186768\n",
      "\n",
      "==================================================\n",
      "Result 3:\n",
      "\n",
      "Text: loại phương_tiện : general mức phạt : none nội_dung vi_phạm : người đủ 18 tuổi trở lên được cấp giấy_phép lái_xe hạng a1 , a , b1 , b , c1 , được cấp chứng_chỉ bồi_dưỡng kiến_thức pháp_luật về giao_thông đường_bộ để điều_khiển xe_máy chuyên_dùng tham_gia giao_thông đường_bộ .\n",
      "\n",
      "Metadata: {'category': 'General', 'fine_amount': 'None', 'violation_type': 'khác', 'original_text': 'Loại phương tiện: General\\nMức phạt: None\\nNội dung vi phạm: Người đủ 18 tuổi trở lên được cấp giấy phép lái xe hạng A1, A, B1, B, C1, được cấp chứng chỉ bồi dưỡng kiến thức pháp luật về giao thông đường bộ để điều khiển xe máy chuyên dùng tham gia giao thông đường bộ.'}\n",
      "\n",
      "Score: 0.49979478120803833\n",
      "\n",
      "==================================================\n",
      "Result 4:\n",
      "\n",
      "Text: loại phương_tiện : general mức phạt : none nội_dung vi_phạm : người đủ 27 tuổi trở lên được cấp giấy_phép lái_xe hạng d , d1e , d2e , de .\n",
      "\n",
      "Metadata: {'category': 'General', 'fine_amount': 'None', 'violation_type': 'khác', 'original_text': 'Loại phương tiện: General\\nMức phạt: None\\nNội dung vi phạm: Người đủ 27 tuổi trở lên được cấp giấy phép lái xe hạng D, D1E, D2E, DE.'}\n",
      "\n",
      "Score: 0.4680527448654175\n",
      "\n",
      "==================================================\n",
      "Result 5:\n",
      "\n",
      "Text: loại phương_tiện : general mức phạt : none nội_dung vi_phạm : người đủ 24 tuổi trở lên được cấp giấy_phép lái_xe hạng d1 , d2 , c1e , ce .\n",
      "\n",
      "Metadata: {'category': 'General', 'fine_amount': 'None', 'violation_type': 'khác', 'original_text': 'Loại phương tiện: General\\nMức phạt: None\\nNội dung vi phạm: Người đủ 24 tuổi trở lên được cấp giấy phép lái xe hạng D1, D2, C1E, CE.'}\n",
      "\n",
      "Score: 0.41922879219055176\n",
      "\n",
      "==================================================\n",
      "Result 6:\n",
      "\n",
      "Text: loại phương_tiện : general mức phạt : none nội_dung vi_phạm : tuổi tối_đa của người lái_xe ô_tô chở người ( kể_cả xe_buýt ) trên 29 chỗ ( không kể chỗ của người lái_xe ) , xe ô_tô chở người giường_nằm là đủ 57 tuổi đối_với nam , đủ 55 tuổi đối_với nữ .\n",
      "\n",
      "Metadata: {'category': 'General', 'fine_amount': 'None', 'violation_type': 'khác', 'original_text': 'Loại phương tiện: General\\nMức phạt: None\\nNội dung vi phạm: Tuổi tối đa của người lái xe ô tô chở người (kể cả xe buýt) trên 29 chỗ (không kể chỗ của người lái xe), xe ô tô chở người giường nằm là đủ 57 tuổi đối với nam, đủ 55 tuổi đối với nữ.'}\n",
      "\n",
      "Score: 0.3814728558063507\n",
      "\n",
      "==================================================\n",
      "Result 7:\n",
      "\n",
      "Text: loại phương_tiện : mô_tô , gắn máy mức phạt : phạt tiền từ 400.000 đồng đến 600.000 đồng_nội_dung vi_phạm : chở người ngồi trên xe không đội “ mũ_bảo_hiểm cho người đi mô_tô , xe_máy ” hoặc đội “ mũ_bảo_hiểm cho người đi mô_tô , xe_máy ” không cài quai đúng quy_cách , trừ trường_hợp chở người_bệnh đi cấp_cứu , trẻ_em dưới 06 tuổi , áp_giải người có hành_vi vi_phạm pháp_luật ( mô_tô , gắn máy )\n",
      "\n",
      "Metadata: {'category': 'mô tô, gắn máy', 'fine_amount': 'Phạt tiền từ 400.000 đồng đến 600.000 đồng', 'violation_type': 'khác', 'original_text': 'Loại phương tiện: mô tô, gắn máy\\nMức phạt: Phạt tiền từ 400.000 đồng đến 600.000 đồng\\nNội dung vi phạm: Chở người ngồi trên xe không đội “mũ bảo hiểm cho người đi mô tô, xe máy” hoặc đội “mũ bảo hiểm cho người đi mô tô, xe máy” không cài quai đúng quy cách, trừ trường hợp chở người bệnh đi cấp cứu, trẻ em dưới 06 tuổi, áp giải người có hành vi vi phạm pháp luật (mô tô, gắn máy)'}\n",
      "\n",
      "Score: 0.37160372734069824\n",
      "\n",
      "==================================================\n",
      "Result 8:\n",
      "\n",
      "Text: loại phương_tiện : mô_tô , gắn máy mức phạt : phạt tiền từ 8.000.000 đồng đến 10.000.000 đồng_nội_dung vi_phạm : ngồi phía sau vòng_tay qua người ngồi trước để điều_khiển xe , trừ trường_hợp chở trẻ_em dưới 06 tuổi ngồi phía trước ( mô_tô , gắn máy )\n",
      "\n",
      "Metadata: {'category': 'mô tô, gắn máy', 'fine_amount': 'Phạt tiền từ 8.000.000 đồng đến 10.000.000 đồng', 'violation_type': 'khác', 'original_text': 'Loại phương tiện: mô tô, gắn máy\\nMức phạt: Phạt tiền từ 8.000.000 đồng đến 10.000.000 đồng\\nNội dung vi phạm: Ngồi phía sau vòng tay qua người ngồi trước để điều khiển xe, trừ trường hợp chở trẻ em dưới 06 tuổi ngồi phía trước (mô tô, gắn máy)'}\n",
      "\n",
      "Score: 0.3563801050186157\n",
      "\n",
      "==================================================\n",
      "Result 9:\n",
      "\n",
      "Text: loại phương_tiện : mô_tô , gắn máy mức phạt : phạt tiền từ 400.000 đồng đến 600.000 đồng_nội_dung vi_phạm : xe không được quyền ưu_tiên lắp_đặt , sử_dụng thiết_bị phát tín_hiệu của xe được quyền ưu_tiên ( mô_tô , gắn máy )\n",
      "\n",
      "Metadata: {'category': 'mô tô, gắn máy', 'fine_amount': 'Phạt tiền từ 400.000 đồng đến 600.000 đồng', 'violation_type': 'khác', 'original_text': 'Loại phương tiện: mô tô, gắn máy\\nMức phạt: Phạt tiền từ 400.000 đồng đến 600.000 đồng\\nNội dung vi phạm: Xe không được quyền ưu tiên lắp đặt, sử dụng thiết bị phát tín hiệu của xe được quyền ưu tiên (mô tô, gắn máy)'}\n",
      "\n",
      "Score: 0.3135567605495453\n",
      "\n",
      "==================================================\n",
      "Result 10:\n",
      "\n",
      "Text: loại phương_tiện : mô_tô , gắn máy mức phạt : tước quyền sử_dụng giấy_phép lái_xe từ 10 tháng đến 12 tháng nội_dung vi_phạm : ngồi phía sau vòng_tay qua người ngồi trước để điều_khiển xe ( mô_tô , gắn máy )\n",
      "\n",
      "Metadata: {'category': 'mô tô, gắn máy', 'fine_amount': 'Tước quyền sử dụng giấy phép lái xe từ 10 tháng đến 12 tháng', 'violation_type': 'khác', 'original_text': 'Loại phương tiện: mô tô, gắn máy\\nMức phạt: Tước quyền sử dụng giấy phép lái xe từ 10 tháng đến 12 tháng\\nNội dung vi phạm: Ngồi phía sau vòng tay qua người ngồi trước để điều khiển xe (mô tô, gắn máy)'}\n",
      "\n",
      "Score: 0.30747976899147034\n",
      "\n",
      "==================================================\n"
     ]
    }
   ],
   "source": [
    "question = \"Bao nhiêu tuổi mới được lái xe gắn máy \"\n",
    "retrieved_docs = retriever.retrieve(question)\n",
    "\n",
    "for i, node in enumerate(retrieved_docs):\n",
    "    print(f\"Result {i+1}:\\n\")\n",
    "    print(f\"Text: {node.text}\\n\")\n",
    "    print(f\"Metadata: {node.metadata}\\n\")\n",
    "    print(f\"Score: {node.score}\\n\")\n",
    "    print(\"=\"*50)"
   ]
  }
 ],
 "metadata": {
  "kernelspec": {
   "display_name": "venv",
   "language": "python",
   "name": "python3"
  },
  "language_info": {
   "codemirror_mode": {
    "name": "ipython",
    "version": 3
   },
   "file_extension": ".py",
   "mimetype": "text/x-python",
   "name": "python",
   "nbconvert_exporter": "python",
   "pygments_lexer": "ipython3",
   "version": "3.11.11"
  }
 },
 "nbformat": 4,
 "nbformat_minor": 2
}

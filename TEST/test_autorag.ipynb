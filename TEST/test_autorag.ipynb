{
 "cells": [
  {
   "cell_type": "code",
   "execution_count": 2,
   "metadata": {},
   "outputs": [
    {
     "name": "stderr",
     "output_type": "stream",
     "text": [
      "/home/drissdo/Desktop/VN_LAW_QA_SYSTEM/venv/lib/python3.11/site-packages/tqdm/auto.py:21: TqdmWarning: IProgress not found. Please update jupyter and ipywidgets. See https://ipywidgets.readthedocs.io/en/stable/user_install.html\n",
      "  from .autonotebook import tqdm as notebook_tqdm\n"
     ]
    }
   ],
   "source": [
    "from llama_index.core import PromptTemplate\n",
    "import json\n",
    "import torch\n",
    "from llama_index.core import Document\n",
    "from llama_index.core.node_parser import SentenceSplitter\n",
    "from llama_index.core import StorageContext\n",
    "from llama_index.core import VectorStoreIndex\n",
    "from llama_index.embeddings.huggingface import HuggingFaceEmbedding\n",
    "from llama_index.vector_stores.weaviate import WeaviateVectorStore\n",
    "from pyvi import ViTokenizer\n",
    "import weaviate\n",
    "from weaviate.classes.init import Auth"
   ]
  },
  {
   "cell_type": "code",
   "execution_count": 3,
   "metadata": {},
   "outputs": [],
   "source": [
    "\n",
    "DATA_COLLECTION = \"ND168\"\n",
    "DEVICE = \"cuda:0\" if torch.cuda.is_available() else \"cpu\"\n",
    "MODEL_NAME = \"dangvantuan/vietnamese-document-embedding\"\n",
    "CHUNK_SIZE = 512  # Optimized for Vietnamese text\n",
    "CHUNK_OVERLAP = 50  # Small overlap to maintain context"
   ]
  },
  {
   "cell_type": "code",
   "execution_count": 4,
   "metadata": {},
   "outputs": [],
   "source": [
    "# Setup vector store\n",
    "# client = weaviate.connect_to_weaviate_cloud(\n",
    "#     cluster_url=WEAVIATE_URL,\n",
    "#     auth_credentials=Auth.api_key(WEAVIATE_API_KEY),\n",
    "# )\n",
    "\n",
    "\n",
    "client = weaviate.connect_to_local(\n",
    "                     host=\"192.168.100.125\",\n",
    "                        port=8080,\n",
    "                        grpc_port=50051\n",
    "                )\n",
    "vector_store = WeaviateVectorStore(\n",
    "    weaviate_client=client,\n",
    "    index_name=DATA_COLLECTION\n",
    ")"
   ]
  },
  {
   "cell_type": "code",
   "execution_count": 5,
   "metadata": {},
   "outputs": [],
   "source": [
    "index = VectorStoreIndex.from_vector_store(\n",
    "    vector_store=vector_store,\n",
    "    embed_model = HuggingFaceEmbedding(model_name=MODEL_NAME, device=DEVICE, trust_remote_code=True,cache_folder=\"/home/drissdo/.cache/huggingface/hub\"),\n",
    ")"
   ]
  },
  {
   "cell_type": "code",
   "execution_count": 6,
   "metadata": {},
   "outputs": [],
   "source": [
    "# Create retriever\n",
    "retriever = index.as_retriever(\n",
    "    vector_store_query_mode=\"hybrid\",\n",
    "    similarity_top_k=20,\n",
    "    alpha=0.2,\n",
    ")"
   ]
  },
  {
   "cell_type": "code",
   "execution_count": 7,
   "metadata": {},
   "outputs": [
    {
     "name": "stdout",
     "output_type": "stream",
     "text": [
      "Result 1:\n",
      "\n",
      "Text: loại phương_tiện : general mức phạt : none nội_dung vi_phạm : tuổi tối_đa của người lái_xe ô_tô chở người ( kể_cả xe_buýt ) trên 29 chỗ ( không kể chỗ của người lái_xe ) , xe ô_tô chở người giường_nằm là đủ 57 tuổi đối_với nam , đủ 55 tuổi đối_với nữ .\n",
      "\n",
      "Metadata: {'category': 'General', 'fine_amount': 'None', 'violation_type': 'khác', 'original_text': 'Loại phương tiện: General\\nMức phạt: None\\nNội dung vi phạm: Tuổi tối đa của người lái xe ô tô chở người (kể cả xe buýt) trên 29 chỗ (không kể chỗ của người lái xe), xe ô tô chở người giường nằm là đủ 57 tuổi đối với nam, đủ 55 tuổi đối với nữ.'}\n",
      "\n",
      "Score: 0.8340027928352356\n",
      "\n",
      "==================================================\n",
      "Result 2:\n",
      "\n",
      "Text: loại phương_tiện : general mức phạt : none nội_dung vi_phạm : bằng lái_xe hạng d : cấp cho người lái_xe ô_tô chở người trên 29 chỗ , xe ô_tô chở người giường_nằm , ô_tô kéo rơ_moóc dưới 750 kg .\n",
      "\n",
      "Metadata: {'category': 'General', 'fine_amount': 'None', 'violation_type': 'khác', 'original_text': 'Loại phương tiện: General\\nMức phạt: None\\nNội dung vi phạm: Bằng lái xe hạng D: cấp cho người lái xe ô tô chở người trên 29 chỗ, xe ô tô chở người giường nằm, ô tô kéo rơ moóc dưới 750 kg.'}\n",
      "\n",
      "Score: 0.4217940866947174\n",
      "\n",
      "==================================================\n",
      "Result 3:\n",
      "\n",
      "Text: loại phương_tiện : general mức phạt : none nội_dung vi_phạm : bằng lái_xe hạng d2 : cấp cho người lái_xe ô_tô chở người từ 16 đến 29 chỗ , ô_tô kéo rơ_moóc dưới 750 kg .\n",
      "\n",
      "Metadata: {'category': 'General', 'fine_amount': 'None', 'violation_type': 'khác', 'original_text': 'Loại phương tiện: General\\nMức phạt: None\\nNội dung vi phạm: Bằng lái xe hạng D2: cấp cho người lái xe ô tô chở người từ 16 đến 29 chỗ, ô tô kéo rơ moóc dưới 750 kg.'}\n",
      "\n",
      "Score: 0.3234071731567383\n",
      "\n",
      "==================================================\n",
      "Result 4:\n",
      "\n",
      "Text: loại phương_tiện : general mức phạt : none nội_dung vi_phạm : bằng lái_xe hạng d1 : cấp cho người lái_xe ô_tô chở người từ 8 đến 16 chỗ , ô_tô kéo rơ_moóc dưới 750 kg .\n",
      "\n",
      "Metadata: {'category': 'General', 'fine_amount': 'None', 'violation_type': 'khác', 'original_text': 'Loại phương tiện: General\\nMức phạt: None\\nNội dung vi phạm: Bằng lái xe hạng D1: cấp cho người lái xe ô tô chở người từ 8 đến 16 chỗ, ô tô kéo rơ moóc dưới 750 kg.'}\n",
      "\n",
      "Score: 0.3234071731567383\n",
      "\n",
      "==================================================\n",
      "Result 5:\n",
      "\n",
      "Text: loại phương_tiện : general mức phạt : none nội_dung vi_phạm : bằng lái_xe hạng b1 số tự_động : điều_khiển các xe ô_tô số tự_động chở người đến 9 chỗ ngồi , ô_tô tải số tự_động dưới 3.500 kg , ô_tô dùng cho người khuyết_tật .\n",
      "\n",
      "Metadata: {'category': 'General', 'fine_amount': 'None', 'violation_type': 'khác', 'original_text': 'Loại phương tiện: General\\nMức phạt: None\\nNội dung vi phạm: Bằng lái xe hạng B1 số tự động: điều khiển các xe ô tô số tự động chở người đến 9 chỗ ngồi, ô tô tải số tự động dưới 3.500 kg, ô tô dùng cho người khuyết tật.'}\n",
      "\n",
      "Score: 0.25309720635414124\n",
      "\n",
      "==================================================\n",
      "Result 6:\n",
      "\n",
      "Text: loại phương_tiện : mô_tô , gắn máy mức phạt : phạt tiền từ 400.000 đồng đến 600.000 đồng_nội_dung vi_phạm : chở theo 02 người trên xe , trừ trường_hợp chở người_bệnh đi cấp_cứu , trẻ_em dưới 12 tuổi , người già_yếu hoặc người khuyết_tật , áp_giải người có hành_vi vi_phạm pháp_luật\n",
      "\n",
      "Metadata: {'category': 'mô tô, gắn máy', 'fine_amount': 'Phạt tiền từ 400.000 đồng đến 600.000 đồng', 'violation_type': 'khác', 'original_text': 'Loại phương tiện: mô tô, gắn máy\\nMức phạt: Phạt tiền từ 400.000 đồng đến 600.000 đồng\\nNội dung vi phạm: Chở theo 02 người trên xe, trừ trường hợp chở người bệnh đi cấp cứu, trẻ em dưới 12 tuổi, người già yếu hoặc người khuyết tật, áp giải người có hành vi vi phạm pháp luật'}\n",
      "\n",
      "Score: 0.2513083219528198\n",
      "\n",
      "==================================================\n",
      "Result 7:\n",
      "\n",
      "Text: loại phương_tiện : mô_tô , gắn máy mức phạt : phạt tiền từ 400.000 đồng đến 600.000 đồng_nội_dung vi_phạm : chở người ngồi trên xe không đội “ mũ_bảo_hiểm cho người đi mô_tô , xe_máy ” hoặc đội “ mũ_bảo_hiểm cho người đi mô_tô , xe_máy ” không cài quai đúng quy_cách , trừ trường_hợp chở người_bệnh đi cấp_cứu , trẻ_em dưới 06 tuổi , áp_giải người có hành_vi vi_phạm pháp_luật ( mô_tô , gắn máy )\n",
      "\n",
      "Metadata: {'category': 'mô tô, gắn máy', 'fine_amount': 'Phạt tiền từ 400.000 đồng đến 600.000 đồng', 'violation_type': 'khác', 'original_text': 'Loại phương tiện: mô tô, gắn máy\\nMức phạt: Phạt tiền từ 400.000 đồng đến 600.000 đồng\\nNội dung vi phạm: Chở người ngồi trên xe không đội “mũ bảo hiểm cho người đi mô tô, xe máy” hoặc đội “mũ bảo hiểm cho người đi mô tô, xe máy” không cài quai đúng quy cách, trừ trường hợp chở người bệnh đi cấp cứu, trẻ em dưới 06 tuổi, áp giải người có hành vi vi phạm pháp luật (mô tô, gắn máy)'}\n",
      "\n",
      "Score: 0.23065458238124847\n",
      "\n",
      "==================================================\n",
      "Result 8:\n",
      "\n",
      "Text: loại phương_tiện : general mức phạt : none nội_dung vi_phạm : tốc_độ tối_đa của xe ô_tô ngoài khu_vực đông dân_cư ( trừ đường_cao_tốc ) : xe ô_tô chở người trên 30 chỗ ( trừ xe_buýt ) , ô_tô tải có trọng_tải trên 3,5 tấn ( trừ ô_tô xi téc ) - đường_đôi , đường một_chiều có từ hai làn xe cơ_giới trở lên : 80 km / h , đường hai chiều , đường một_chiều có một làn xe cơ_giới : 70 km / h .\n",
      "\n",
      "Metadata: {'category': 'General', 'fine_amount': 'None', 'violation_type': 'khác', 'original_text': 'Loại phương tiện: General\\nMức phạt: None\\nNội dung vi phạm: Tốc độ tối đa của xe ô tô ngoài khu vực đông dân cư (trừ đường cao tốc): Xe ô tô chở người trên 30 chỗ (trừ xe buýt), ô tô tải có trọng tải trên 3,5 tấn (trừ ô tô xi téc) - Đường đôi, đường một chiều có từ hai làn xe cơ giới trở lên: 80 km/h, Đường hai chiều, đường một chiều có một làn xe cơ giới: 70 km/h.'}\n",
      "\n",
      "Score: 0.2256566733121872\n",
      "\n",
      "==================================================\n",
      "Result 9:\n",
      "\n",
      "Text: loại phương_tiện : ô_tô mức phạt : phạt tiền từ 400.000 đồng đến 600.000 đồng_nội_dung vi_phạm : chở quá số người quy_định trên xe ô_tô chở hành_khách , ô_tô chở người ( trừ xe_buýt ) , phạt tiền từ 400.000 đồng đến 600.000 đồng cho mỗi người vượt quá quy_định được phép chở của phương_tiện . tổng_mức phạt tiền tối_đa không vượt quá 75.000.000 đồng\n",
      "\n",
      "Metadata: {'category': 'ô tô', 'fine_amount': 'Phạt tiền từ 400.000 đồng đến 600.000 đồng', 'violation_type': 'khác', 'original_text': 'Loại phương tiện: ô tô\\nMức phạt: Phạt tiền từ 400.000 đồng đến 600.000 đồng\\nNội dung vi phạm: Chở quá số người quy định trên xe ô tô chở hành khách, ô tô chở người (trừ xe buýt), phạt tiền từ 400.000 đồng đến 600.000 đồng cho mỗi người vượt quá quy định được phép chở của phương tiện. Tổng mức phạt tiền tối đa không vượt quá 75.000.000 đồng'}\n",
      "\n",
      "Score: 0.22272689640522003\n",
      "\n",
      "==================================================\n",
      "Result 10:\n",
      "\n",
      "Text: loại phương_tiện : general mức phạt : none nội_dung vi_phạm : tốc_độ tối_đa của xe ô_tô ngoài khu_vực đông dân_cư ( trừ đường_cao_tốc ) : xe ô_tô_con , xe ô_tô chở người đến 30 chỗ ( trừ xe_buýt ) , ô_tô tải có trọng_tải nhỏ hơn hoặc bằng 3,5 tấn - đường_đôi , đường một_chiều có từ hai làn xe cơ_giới trở lên : 90 km / h , đường hai chiều , đường một_chiều có một làn xe cơ_giới : 80 km / h .\n",
      "\n",
      "Metadata: {'category': 'General', 'fine_amount': 'None', 'violation_type': 'khác', 'original_text': 'Loại phương tiện: General\\nMức phạt: None\\nNội dung vi phạm: Tốc độ tối đa của xe ô tô ngoài khu vực đông dân cư (trừ đường cao tốc): Xe ô tô con, xe ô tô chở người đến 30 chỗ (trừ xe buýt), ô tô tải có trọng tải nhỏ hơn hoặc bằng 3,5 tấn - Đường đôi, đường một chiều có từ hai làn xe cơ giới trở lên: 90 km/h, Đường hai chiều, đường một chiều có một làn xe cơ giới: 80 km/h.'}\n",
      "\n",
      "Score: 0.20858168601989746\n",
      "\n",
      "==================================================\n",
      "Result 11:\n",
      "\n",
      "Text: loại phương_tiện : ô_tô mức phạt : trừ 02 điểm giấy_phép lái_xe nội_dung vi_phạm : chở người trên xe được kéo , trừ người điều_khiển ( ô_tô )\n",
      "\n",
      "Metadata: {'category': 'ô tô', 'fine_amount': 'Trừ 02 điểm giấy phép lái xe', 'violation_type': 'khác', 'original_text': 'Loại phương tiện: ô tô\\nMức phạt: Trừ 02 điểm giấy phép lái xe\\nNội dung vi phạm: Chở người trên xe được kéo, trừ người điều khiển (ô tô)'}\n",
      "\n",
      "Score: 0.2064388543367386\n",
      "\n",
      "==================================================\n"
     ]
    }
   ],
   "source": [
    "question = \"Một người 22 tuổi muốn lái xe ô tô chở người 25 chỗ. Người này:\"\n",
    "retrieved_docs = retriever.retrieve(question)\n",
    "\n",
    "for i, node in enumerate(retrieved_docs):\n",
    "    print(f\"Result {i+1}:\\n\")\n",
    "    print(f\"Text: {node.text}\\n\")\n",
    "    print(f\"Metadata: {node.metadata}\\n\")\n",
    "    print(f\"Score: {node.score}\\n\")\n",
    "    print(\"=\"*50)"
   ]
  }
 ],
 "metadata": {
  "kernelspec": {
   "display_name": "venv",
   "language": "python",
   "name": "python3"
  },
  "language_info": {
   "codemirror_mode": {
    "name": "ipython",
    "version": 3
   },
   "file_extension": ".py",
   "mimetype": "text/x-python",
   "name": "python",
   "nbconvert_exporter": "python",
   "pygments_lexer": "ipython3",
   "version": "3.11.11"
  }
 },
 "nbformat": 4,
 "nbformat_minor": 2
}

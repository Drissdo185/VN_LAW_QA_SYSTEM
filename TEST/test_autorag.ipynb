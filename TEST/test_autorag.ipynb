{
 "cells": [
  {
   "cell_type": "code",
   "execution_count": 2,
   "metadata": {},
   "outputs": [
    {
     "name": "stderr",
     "output_type": "stream",
     "text": [
      "/home/drissdo/Desktop/VN_LAW_QA_SYSTEM/venv/lib/python3.11/site-packages/tqdm/auto.py:21: TqdmWarning: IProgress not found. Please update jupyter and ipywidgets. See https://ipywidgets.readthedocs.io/en/stable/user_install.html\n",
      "  from .autonotebook import tqdm as notebook_tqdm\n"
     ]
    }
   ],
   "source": [
    "from llama_index.core import PromptTemplate\n",
    "import json\n",
    "import torch\n",
    "from llama_index.core import Document\n",
    "from llama_index.core.node_parser import SentenceSplitter\n",
    "from llama_index.core import StorageContext\n",
    "from llama_index.core import VectorStoreIndex\n",
    "from llama_index.embeddings.huggingface import HuggingFaceEmbedding\n",
    "from llama_index.vector_stores.weaviate import WeaviateVectorStore\n",
    "from pyvi import ViTokenizer\n",
    "import weaviate\n",
    "from weaviate.classes.init import Auth"
   ]
  },
  {
   "cell_type": "code",
   "execution_count": 3,
   "metadata": {},
   "outputs": [],
   "source": [
    "\n",
    "DATA_COLLECTION = \"ND168\"\n",
    "DEVICE = \"cuda:0\" if torch.cuda.is_available() else \"cpu\"\n",
    "MODEL_NAME = \"dangvantuan/vietnamese-document-embedding\"\n",
    "CHUNK_SIZE = 512  # Optimized for Vietnamese text\n",
    "CHUNK_OVERLAP = 50  # Small overlap to maintain context"
   ]
  },
  {
   "cell_type": "code",
   "execution_count": 4,
   "metadata": {},
   "outputs": [],
   "source": [
    "# Setup vector store\n",
    "# client = weaviate.connect_to_weaviate_cloud(\n",
    "#     cluster_url=WEAVIATE_URL,\n",
    "#     auth_credentials=Auth.api_key(WEAVIATE_API_KEY),\n",
    "# )\n",
    "\n",
    "\n",
    "client = weaviate.connect_to_local(\n",
    "                     host=\"192.168.100.125\",\n",
    "                        port=8080,\n",
    "                        grpc_port=50051\n",
    "                )\n",
    "vector_store = WeaviateVectorStore(\n",
    "    weaviate_client=client,\n",
    "    index_name=DATA_COLLECTION\n",
    ")"
   ]
  },
  {
   "cell_type": "code",
   "execution_count": 5,
   "metadata": {},
   "outputs": [],
   "source": [
    "index = VectorStoreIndex.from_vector_store(\n",
    "    vector_store=vector_store,\n",
    "    embed_model = HuggingFaceEmbedding(model_name=MODEL_NAME, device=DEVICE, trust_remote_code=True,cache_folder=\"/home/drissdo/.cache/huggingface/hub\"),\n",
    ")"
   ]
  },
  {
   "cell_type": "code",
   "execution_count": 6,
   "metadata": {},
   "outputs": [],
   "source": [
    "# Create retriever\n",
    "retriever = index.as_retriever(\n",
    "    vector_store_query_mode=\"hybrid\",\n",
    "    similarity_top_k=10,\n",
    "    alpha=0.3,\n",
    ")"
   ]
  },
  {
   "cell_type": "code",
   "execution_count": 7,
   "metadata": {},
   "outputs": [
    {
     "name": "stdout",
     "output_type": "stream",
     "text": [
      "Result 1:\n",
      "\n",
      "Text: loại phương_tiện : general mức phạt : none nội_dung vi_phạm : luật giao_thông quy_định bằng lái_xe hạng a1 : cấp cho người lái_xe mô_tô hai bánh có dung_tích xi - lanh đến 125 phân_khối hoặc có công_suất động_cơ_điện đến 11 kw . xe mô_tô hai bánh , dung_tích xi - lanh từ 50 - dưới 175 phân_khối , người khuyết_tật điều_khiển xe mô_tô ba bánh dùng cho người khuyết_tật được cấp giấy_phép lái_xe hạng a1 .\n",
      "\n",
      "Metadata: {'category': 'General', 'fine_amount': 'None', 'violation_type': 'khác', 'original_text': 'Loại phương tiện: General\\nMức phạt: None\\nNội dung vi phạm: Luật giao thông quy định Bằng lái xe hạng A1: cấp cho người lái xe mô tô hai bánh có dung tích xi-lanh đến 125 phân khối hoặc có công suất động cơ điện đến 11 kW. Xe mô tô hai bánh, dung tích xi-lanh từ 50 - dưới 175 phân khối, người khuyết tật điều khiển xe mô tô ba bánh dùng cho người khuyết tật được cấp giấy phép lái xe hạng A1.'}\n",
      "\n",
      "Score: 0.30000001192092896\n",
      "\n",
      "==================================================\n",
      "Result 2:\n",
      "\n",
      "Text: loại phương_tiện : general mức phạt : none nội_dung vi_phạm : luật giao_thông quy_định bằng lái_xe hạng a3 : cấp cho người lái_xe mô_tô ba bánh , các loại xe quy_định cho giấy_phép lái_xe hạng a1 và các xe tương_tự .\n",
      "\n",
      "Metadata: {'category': 'General', 'fine_amount': 'None', 'violation_type': 'khác', 'original_text': 'Loại phương tiện: General\\nMức phạt: None\\nNội dung vi phạm: Luật giao thông quy định Bằng lái xe hạng A3: cấp cho người lái xe mô tô ba bánh, các loại xe quy định cho giấy phép lái xe hạng A1 và các xe tương tự.'}\n",
      "\n",
      "Score: 0.2620188891887665\n",
      "\n",
      "==================================================\n",
      "Result 3:\n",
      "\n",
      "Text: loại phương_tiện : general mức phạt : none nội_dung vi_phạm : luật giao_thông quy_định bằng lái_xe hạng a : cấp cho người lái_xe mô_tô hai bánh có dung_tích xi - lanh trên 125 phân_khối hoặc có công_suất động_cơ_điện trên 11 kw và các loại xe quy_định cho giấy_phép lái_xe hạng a1 . xe mô_tô hai bánh , dung_tích xi - lanh từ 175 phân_khối trở lên và các loại xe quy_định cho giấy_phép lái_xe hạng a1 .\n",
      "\n",
      "Metadata: {'category': 'General', 'fine_amount': 'None', 'violation_type': 'khác', 'original_text': 'Loại phương tiện: General\\nMức phạt: None\\nNội dung vi phạm: Luật giao thông quy định Bằng lái xe hạng A: cấp cho người lái xe mô tô hai bánh có dung tích xi-lanh trên 125 phân khối hoặc có công suất động cơ điện trên 11 kW và các loại xe quy định cho giấy phép lái xe hạng A1. Xe mô tô hai bánh, dung tích xi-lanh từ 175 phân khối trở lên và các loại xe quy định cho giấy phép lái xe hạng A1.'}\n",
      "\n",
      "Score: 0.2530020773410797\n",
      "\n",
      "==================================================\n",
      "Result 4:\n",
      "\n",
      "Text: loại phương_tiện : ô_tô mức phạt : phạt tiền từ 3.000.000 đồng đến 4.000.000 đồng_nội_dung vi_phạm : ( đối_với cá_nhân ) sử_dụng xe ô_tô kinh_doanh vận_tải chở trẻ_em mầm_non , học_sinh tiểu_học , xe ô_tô kinh_doanh vận_tải kết_hợp với hoạt_động đưa_đón trẻ_em mầm_non , học_sinh tiểu_học không có dây đai an_toàn phù_hợp với lứa tuổi hoặc không có ghế_ngồi phù_hợp với lứa tuổi .\n",
      "\n",
      "Metadata: {'category': 'ô tô', 'fine_amount': 'Phạt tiền từ 3.000.000 đồng đến 4.000.000 đồng', 'violation_type': 'khác', 'original_text': 'Loại phương tiện: ô tô\\nMức phạt: Phạt tiền từ 3.000.000 đồng đến 4.000.000 đồng\\nNội dung vi phạm: (đối với cá nhân)Sử dụng xe ô tô kinh doanh vận tải chở trẻ em mầm non, học sinh tiểu học, xe ô tô kinh doanh vận tải kết hợp với hoạt động đưa đón trẻ em mầm non, học sinh tiểu học không có dây đai an toàn phù hợp với lứa tuổi hoặc không có ghế ngồi phù hợp với lứa tuổi.'}\n",
      "\n",
      "Score: 0.2443334311246872\n",
      "\n",
      "==================================================\n",
      "Result 5:\n",
      "\n",
      "Text: loại phương_tiện : ô_tô mức phạt : phạt tiền từ 800.000 đồng đến 1.000.000 đồng_nội_dung vi_phạm : không sử_dụng hoặc sử_dụng không đủ đèn_chiếu sáng trong thời_gian từ 18 giờ ngày hôm trước đến 06 giờ ngày hôm sau hoặc khi có sương_mù , khói , bụi , trời mưa , thời_tiết xấu làm hạn_chế tầm nhìn\n",
      "\n",
      "Metadata: {'category': 'ô tô', 'fine_amount': 'Phạt tiền từ 800.000 đồng đến 1.000.000 đồng', 'violation_type': 'khác', 'original_text': 'Loại phương tiện: ô tô\\nMức phạt: Phạt tiền từ 800.000 đồng đến 1.000.000 đồng\\nNội dung vi phạm: Không sử dụng hoặc sử dụng không đủ đèn chiếu sáng trong thời gian từ 18 giờ ngày hôm trước đến 06 giờ ngày hôm sau hoặc khi có sương mù, khói, bụi, trời mưa, thời tiết xấu làm hạn chế tầm nhìn'}\n",
      "\n",
      "Score: 0.22227764129638672\n",
      "\n",
      "==================================================\n",
      "Result 6:\n",
      "\n",
      "Text: loại phương_tiện : ô_tô mức phạt : phạt tiền từ 800.000 đồng đến 1.000.000 đồng_nội_dung vi_phạm : không sử_dụng hoặc sử_dụng không đủ đèn_chiếu sáng trong thời_gian từ 18 giờ ngày hôm trước đến 06 giờ ngày hôm sau ( ô_tô )\n",
      "\n",
      "Metadata: {'category': 'ô tô', 'fine_amount': 'Phạt tiền từ 800.000 đồng đến 1.000.000 đồng', 'violation_type': 'khác', 'original_text': 'Loại phương tiện: ô tô\\nMức phạt: Phạt tiền từ 800.000 đồng đến 1.000.000 đồng\\nNội dung vi phạm: Không sử dụng hoặc sử dụng không đủ đèn chiếu sáng trong thời gian từ 18 giờ ngày hôm trước đến 06 giờ ngày hôm sau (ô tô)'}\n",
      "\n",
      "Score: 0.21552106738090515\n",
      "\n",
      "==================================================\n",
      "Result 7:\n",
      "\n",
      "Text: loại phương_tiện : ô_tô mức phạt : phạt tiền từ 20.000.000 đồng đến 26.000.000 đồng_nội_dung vi_phạm : không gắn đủ biển số / gắn không đúng vị_trí , quy_cách / gắn biển số không rõ chữ_số / sử_dụng chất_liệu khác / bẻ cong , che_lấp , làm thay_đổi biển số ( ô_tô )\n",
      "\n",
      "Metadata: {'category': 'ô tô', 'fine_amount': 'Phạt tiền từ 20.000.000 đồng đến 26.000.000 đồng', 'violation_type': 'khác', 'original_text': 'Loại phương tiện: ô tô\\nMức phạt: Phạt tiền từ 20.000.000 đồng đến 26.000.000 đồng\\nNội dung vi phạm: Không gắn đủ biển số/gắn không đúng vị trí, quy cách/gắn biển số không rõ chữ số/sử dụng chất liệu khác/bẻ cong, che lấp, làm thay đổi biển số (ô tô)'}\n",
      "\n",
      "Score: 0.17173445224761963\n",
      "\n",
      "==================================================\n",
      "Result 8:\n",
      "\n",
      "Text: loại phương_tiện : ô_tô mức phạt : phạt tiền từ 6.000.000 đồng đến 8.000.000 đồng_nội_dung vi_phạm : ( đối_với tổ_chức kinh_doanh vận_tải , dịch_vụ hỗ_trợ vận_tải ) sử_dụng xe ô_tô kinh_doanh vận_tải chở trẻ_em mầm_non , học_sinh tiểu_học , xe ô_tô kinh_doanh vận_tải kết_hợp với hoạt_động đưa_đón trẻ_em mầm_non , học_sinh tiểu_học không có dây đai an_toàn phù_hợp với lứa tuổi hoặc không có ghế_ngồi phù_hợp với lứa tuổi .\n",
      "\n",
      "Metadata: {'category': 'ô tô', 'fine_amount': 'Phạt tiền từ 6.000.000 đồng đến 8.000.000 đồng', 'violation_type': 'khác', 'original_text': 'Loại phương tiện: ô tô\\nMức phạt: Phạt tiền từ 6.000.000 đồng đến 8.000.000 đồng\\nNội dung vi phạm: (đối với tổ chức kinh doanh vận tải, dịch vụ hỗ trợ vận tải)Sử dụng xe ô tô kinh doanh vận tải chở trẻ em mầm non, học sinh tiểu học, xe ô tô kinh doanh vận tải kết hợp với hoạt động đưa đón trẻ em mầm non, học sinh tiểu học không có dây đai an toàn phù hợp với lứa tuổi hoặc không có ghế ngồi phù hợp với lứa tuổi.'}\n",
      "\n",
      "Score: 0.16821356117725372\n",
      "\n",
      "==================================================\n",
      "Result 9:\n",
      "\n",
      "Text: loại phương_tiện : general mức phạt : none nội_dung vi_phạm : luật giao_thông quy_định người đủ 18 tuổi trở lên được cấp giấy_phép lái_xe hạng a1 , a , b1 , b , c1 , được cấp chứng_chỉ bồi_dưỡng kiến_thức pháp_luật về giao_thông đường_bộ để điều_khiển xe_máy chuyên_dùng tham_gia giao_thông đường_bộ .\n",
      "\n",
      "Metadata: {'category': 'General', 'fine_amount': 'None', 'violation_type': 'khác', 'original_text': 'Loại phương tiện: General\\nMức phạt: None\\nNội dung vi phạm: Luật giao thông quy định Người đủ 18 tuổi trở lên được cấp giấy phép lái xe hạng A1, A, B1, B, C1, được cấp chứng chỉ bồi dưỡng kiến thức pháp luật về giao thông đường bộ để điều khiển xe máy chuyên dùng tham gia giao thông đường bộ.'}\n",
      "\n",
      "Score: 0.16666699945926666\n",
      "\n",
      "==================================================\n",
      "Result 10:\n",
      "\n",
      "Text: loại phương_tiện : ô_tô mức phạt : phạt tiền từ 2.000.000 đồng đến 3.000.000 đồng_nội_dung vi_phạm : điều_khiển xe không đủ điều_kiện để thu phí theo hình_thức điện_tử tự_động không dừng ( xe không gắn thẻ đẩu cuối ) đi vào làn_đường dành riêng thu phí theo hình_thức điện_tử tự_động không dừng tại các trạm thu phí ( ô_tô )\n",
      "\n",
      "Metadata: {'category': 'ô tô', 'fine_amount': 'Phạt tiền từ 2.000.000 đồng đến 3.000.000 đồng', 'violation_type': 'khác', 'original_text': 'Loại phương tiện: ô tô\\nMức phạt: Phạt tiền từ 2.000.000 đồng đến 3.000.000 đồng\\nNội dung vi phạm: Điều khiển xe không đủ điều kiện để thu phí theo hình thức điện tử tự động không dừng (xe không gắn thẻ đẩu cuối) đi vào làn đường dành riêng thu phí theo hình thức điện tử tự động không dừng tại các trạm thu phí (ô tô)'}\n",
      "\n",
      "Score: 0.1585051268339157\n",
      "\n",
      "==================================================\n"
     ]
    }
   ],
   "source": [
    "question = \"ABC\"\n",
    "retrieved_docs = retriever.retrieve(question)\n",
    "\n",
    "for i, node in enumerate(retrieved_docs):\n",
    "    print(f\"Result {i+1}:\\n\")\n",
    "    print(f\"Text: {node.text}\\n\")\n",
    "    print(f\"Metadata: {node.metadata}\\n\")\n",
    "    print(f\"Score: {node.score}\\n\")\n",
    "    print(\"=\"*50)"
   ]
  },
  {
   "cell_type": "code",
   "execution_count": 8,
   "metadata": {},
   "outputs": [],
   "source": [
    "# client.collections.delete_all()"
   ]
  },
  {
   "cell_type": "code",
   "execution_count": 9,
   "metadata": {},
   "outputs": [],
   "source": [
    "def classify_query(question: str) -> str:\n",
    "        # Keywords indicating violation/penalty questions\n",
    "        violation_keywords = [\n",
    "            \"xử phạt\", \"bị phạt\", \"bị gì\", \"xử lý\", \"nộp phạt\", \n",
    "            \"phạt tiền\", \"phạt bao nhiêu\", \"mức phạt\", \"tước giấy phép\",\n",
    "            \"trừ điểm\", \"phạt như thế nào\", \"bị phạt gì\", \"hình thức xử phạt\",\n",
    "            \"xử phạt hành chính\", \"tiền phạt\", \"phạt hành chính\", \"bị tịch thu\",\n",
    "            \"thu giữ\", \"tạm giữ\"\n",
    "        ]\n",
    "        \n",
    "        question_lower = question.lower()\n",
    "        \n",
    "        # Check if any violation keywords are in the question\n",
    "        for keyword in violation_keywords:\n",
    "            if keyword in question_lower:\n",
    "                return \"violation_penalty\"\n",
    "        \n",
    "    \n",
    "        return \"general_knowledge\""
   ]
  },
  {
   "cell_type": "code",
   "execution_count": null,
   "metadata": {},
   "outputs": [],
   "source": []
  }
 ],
 "metadata": {
  "kernelspec": {
   "display_name": "venv",
   "language": "python",
   "name": "python3"
  },
  "language_info": {
   "codemirror_mode": {
    "name": "ipython",
    "version": 3
   },
   "file_extension": ".py",
   "mimetype": "text/x-python",
   "name": "python",
   "nbconvert_exporter": "python",
   "pygments_lexer": "ipython3",
   "version": "3.11.11"
  }
 },
 "nbformat": 4,
 "nbformat_minor": 2
}

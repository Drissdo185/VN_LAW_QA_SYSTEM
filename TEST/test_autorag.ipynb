{
 "cells": [
  {
   "cell_type": "code",
   "execution_count": 1,
   "metadata": {},
   "outputs": [
    {
     "name": "stderr",
     "output_type": "stream",
     "text": [
      "/home/drissdo/Desktop/VN_LAW_QA_SYSTEM/venv/lib/python3.11/site-packages/tqdm/auto.py:21: TqdmWarning: IProgress not found. Please update jupyter and ipywidgets. See https://ipywidgets.readthedocs.io/en/stable/user_install.html\n",
      "  from .autonotebook import tqdm as notebook_tqdm\n"
     ]
    }
   ],
   "source": [
    "from llama_index.core import PromptTemplate\n",
    "import json\n",
    "import torch\n",
    "from llama_index.core import Document\n",
    "from llama_index.core.node_parser import SentenceSplitter\n",
    "from llama_index.core import StorageContext\n",
    "from llama_index.core import VectorStoreIndex\n",
    "from llama_index.embeddings.huggingface import HuggingFaceEmbedding\n",
    "from llama_index.vector_stores.weaviate import WeaviateVectorStore\n",
    "from pyvi import ViTokenizer\n",
    "import weaviate\n",
    "from weaviate.classes.init import Auth"
   ]
  },
  {
   "cell_type": "code",
   "execution_count": 5,
   "metadata": {},
   "outputs": [],
   "source": [
    "# Configuration constants\n",
    "WEAVIATE_URL=\"https://mmtip1s2qwwe1q3bwih2fw.c0.us-west3.gcp.weaviate.cloud\"\n",
    "WEAVIATE_API_KEY=\"37Nj5DR1LWMDz98URsr3ib7e80pnHHAoyqn1\"\n",
    "DATA_COLLECTION = \"ND168\"\n",
    "DEVICE = \"cuda:0\" if torch.cuda.is_available() else \"cpu\"\n",
    "MODEL_NAME = \"dangvantuan/vietnamese-document-embedding\"\n",
    "CHUNK_SIZE = 512  # Optimized for Vietnamese text\n",
    "CHUNK_OVERLAP = 50  # Small overlap to maintain context"
   ]
  },
  {
   "cell_type": "code",
   "execution_count": 14,
   "metadata": {},
   "outputs": [],
   "source": [
    "# Setup vector store\n",
    "# client = weaviate.connect_to_weaviate_cloud(\n",
    "#     cluster_url=WEAVIATE_URL,\n",
    "#     auth_credentials=Auth.api_key(WEAVIATE_API_KEY),\n",
    "# )\n",
    "\n",
    "\n",
    "client = weaviate.connect_to_local(\n",
    "                     host=\"192.168.100.125\",\n",
    "                        port=8080,\n",
    "                        grpc_port=50051\n",
    "                )\n",
    "vector_store = WeaviateVectorStore(\n",
    "    weaviate_client=client,\n",
    "    index_name=DATA_COLLECTION\n",
    ")"
   ]
  },
  {
   "cell_type": "code",
   "execution_count": 15,
   "metadata": {},
   "outputs": [],
   "source": [
    "index = VectorStoreIndex.from_vector_store(\n",
    "    vector_store=vector_store,\n",
    "    embed_model = HuggingFaceEmbedding(model_name=MODEL_NAME, device=DEVICE, trust_remote_code=True),\n",
    ")"
   ]
  },
  {
   "cell_type": "code",
   "execution_count": 18,
   "metadata": {},
   "outputs": [],
   "source": [
    "# Create retriever\n",
    "retriever = index.as_retriever(\n",
    "    vector_store_query_mode=\"hybrid\",\n",
    "    similarity_top_k=10,\n",
    "    alpha=0.5,\n",
    ")"
   ]
  },
  {
   "cell_type": "code",
   "execution_count": 20,
   "metadata": {},
   "outputs": [
    {
     "name": "stdout",
     "output_type": "stream",
     "text": [
      "Result 1:\n",
      "\n",
      "Text: loại phương_tiện : mô_tô , gắn máy mức phạt : phạt tiền từ 2.000.000 đồng đến 3.000.000 đồng_nội_dung vi_phạm : điều_khiển xe không có chứng_nhận đăng_ký xe hoặc sử_dụng chứng_nhận đăng_ký xe đã hết hạn sử_dụng ( mô_tô , gắn máy )\n",
      "\n",
      "Metadata: {'category': 'mô tô, gắn máy', 'fine_amount': 'Phạt tiền từ 2.000.000 đồng đến 3.000.000 đồng', 'violation_type': 'khác', 'original_text': 'Loại phương tiện: mô tô, gắn máy\\nMức phạt: Phạt tiền từ 2.000.000 đồng đến 3.000.000 đồng\\nNội dung vi phạm: Điều khiển xe không có chứng nhận đăng ký xe hoặc sử dụng chứng nhận đăng ký xe đã hết hạn sử dụng (mô tô, gắn máy)'}\n",
      "\n",
      "Score: 0.7073780298233032\n",
      "\n",
      "==================================================\n",
      "Result 2:\n",
      "\n",
      "Text: loại phương_tiện : mô_tô , gắn máy mức phạt : phạt tiền từ 4.000.000 đồng đến 6.000.000 đồng_nội_dung vi_phạm : gắn biển số không đúng với chứng_nhận đăng_ký xe hoặc gắn biển số không do cơ_quan có thẩm_quyền cấp ( mô_tô , gắn máy )\n",
      "\n",
      "Metadata: {'category': 'mô tô, gắn máy', 'fine_amount': 'Phạt tiền từ 4.000.000 đồng đến 6.000.000 đồng', 'violation_type': 'khác', 'original_text': 'Loại phương tiện: mô tô, gắn máy\\nMức phạt: Phạt tiền từ 4.000.000 đồng đến 6.000.000 đồng\\nNội dung vi phạm: Gắn biển số không đúng với chứng nhận đăng ký xe hoặc gắn biển số không do cơ quan có thẩm quyền cấp (mô tô, gắn máy)'}\n",
      "\n",
      "Score: 0.6992844939231873\n",
      "\n",
      "==================================================\n",
      "Result 3:\n",
      "\n",
      "Text: loại phương_tiện : mô_tô , gắn máy mức phạt : phạt tiền từ 4.000.000 đồng đến 6.000.000 đồng_nội_dung vi_phạm : điều_khiển xe không gắn biển số ( đối_với loại xe có quy_định phải gắn biển số ) ( mô_tô , gắn máy )\n",
      "\n",
      "Metadata: {'category': 'mô tô, gắn máy', 'fine_amount': 'Phạt tiền từ 4.000.000 đồng đến 6.000.000 đồng', 'violation_type': 'khác', 'original_text': 'Loại phương tiện: mô tô, gắn máy\\nMức phạt: Phạt tiền từ 4.000.000 đồng đến 6.000.000 đồng\\nNội dung vi phạm: Điều khiển xe không gắn biển số (đối với loại xe có quy định phải gắn biển số) (mô tô, gắn máy)'}\n",
      "\n",
      "Score: 0.6422586441040039\n",
      "\n",
      "==================================================\n",
      "Result 4:\n",
      "\n",
      "Text: loại phương_tiện : mô_tô , gắn máy mức phạt : phạt tiền từ 2.000.000 đến 4.000.000 nội_dung vi_phạm : đối_với xe từ 125 cm3 hoặc có công_suất động_cơ_điện đến 11 kw , không có gplx hoặc sử_dụng gplx đã bị trừ hết điểm hoặc sử_dụng gplx không do cơ_quan có thẩm_quyền cấp , gplx bị tẩy xóa , không còn hiệu_lực , không phù_hợp với loại xe đang điều_khiển ( mô_tô , gắn máy )\n",
      "\n",
      "Metadata: {'category': 'mô tô, gắn máy', 'fine_amount': 'Phạt tiền từ 2.000.000 đến 4.000.000', 'violation_type': 'khác', 'original_text': 'Loại phương tiện: mô tô, gắn máy\\nMức phạt: Phạt tiền từ 2.000.000 đến 4.000.000\\nNội dung vi phạm: Đối với xe từ 125 cm3 hoặc có công suất động cơ điện đến 11 kW, không có GPLX hoặc sử dụng GPLX đã bị trừ hết điểm hoặc sử dụng GPLX không do cơ quan có thẩm quyền cấp, GPLX bị tẩy xóa, không còn hiệu lực, không phù hợp với loại xe đang điều khiển (mô tô, gắn máy)'}\n",
      "\n",
      "Score: 0.6073402762413025\n",
      "\n",
      "==================================================\n",
      "Result 5:\n",
      "\n",
      "Text: loại phương_tiện : ô_tô mức phạt : phạt tiền từ 2.000.000 đồng đến 3.000.000 đồng_nội_dung vi_phạm : điều_khiển xe không có chứng_nhận đăng_ký xe ( hoặc bản_sao chứng_nhận đăng_ký xe có chứng_thực kèm theo bản_gốc giấy biên_nhận của tổ_chức tín_dụng , chi_nhánh ngân_hàng nước_ngoài trong trường_hợp tổ_chức tín_dụng , chi_nhánh ngân_hàng nước_ngoài giữ bản_gốc chứng_nhận đăng_ký xe ) hoặc sử_dụng chứng_nhận đăng_ký xe ( hoặc bản_sao chứng_nhận đăng_ký xe có chứng_thực kèm theo bản_gốc giấy biên_nhận của tổ_chức tín_dụng , chi_nhánh ngân_hàng nước_ngoài trong trường_hợp tổ_chức tín_dụng , chi_nhánh ngân_hàng nước_ngoài giữ bản_gốc chứng_nhận đăng_ký xe ) đã hết hạn sử_dụng , hết hiệu_lực ( kể_cả rơ_moóc và sơ_mi rơ_moóc ) ( ô_tô )\n",
      "\n",
      "Metadata: {'category': 'ô tô', 'fine_amount': 'Phạt tiền từ 2.000.000 đồng đến 3.000.000 đồng', 'violation_type': 'khác', 'original_text': 'Loại phương tiện: ô tô\\nMức phạt: Phạt tiền từ 2.000.000 đồng đến 3.000.000 đồng\\nNội dung vi phạm: Điều khiển xe không có chứng nhận đăng ký xe (hoặc bản sao chứng nhận đăng ký xe có chứng thực kèm theo bản gốc giấy biên nhận của tổ chức tín dụng, chi nhánh ngân hàng nước ngoài trong trường hợp tổ chức tín dụng, chi nhánh ngân hàng nước ngoài giữ bản gốc chứng nhận đăng ký xe) hoặc sử dụng chứng nhận đăng ký xe (hoặc bản sao chứng nhận đăng ký xe có chứng thực kèm theo bản gốc giấy biên nhận của tổ chức tín dụng, chi nhánh ngân hàng nước ngoài trong trường hợp tổ chức tín dụng, chi nhánh ngân hàng nước ngoài giữ bản gốc chứng nhận đăng ký xe) đã hết hạn sử dụng, hết hiệu lực (kể cả rơ moóc và sơ mi rơ moóc) (ô tô)'}\n",
      "\n",
      "Score: 0.6018821001052856\n",
      "\n",
      "==================================================\n",
      "Result 6:\n",
      "\n",
      "Text: loại phương_tiện : mô_tô , gắn máy mức phạt : phạt tiền từ 2.000.000 đồng đến 3.000.000 đồng_nội_dung vi_phạm : không có giấy đăng_ký xe ( mô_tô , gắn máy )\n",
      "\n",
      "Metadata: {'category': 'mô tô, gắn máy', 'fine_amount': 'Phạt tiền từ 2.000.000 đồng đến 3.000.000 đồng', 'violation_type': 'khác', 'original_text': 'Loại phương tiện: mô tô, gắn máy\\nMức phạt: Phạt tiền từ 2.000.000 đồng đến 3.000.000 đồng\\nNội dung vi phạm: Không có giấy đăng ký xe (mô tô, gắn máy)'}\n",
      "\n",
      "Score: 0.552351176738739\n",
      "\n",
      "==================================================\n",
      "Result 7:\n",
      "\n",
      "Text: loại phương_tiện : mô_tô , gắn máy mức phạt : tước quyền sử_dụng giấy_phép lái_xe từ 22 tháng đến 24 tháng nội_dung vi_phạm : điều_khiển xe chạy bằng một bánh đối_với xe hai bánh , chạy bằng hai bánh đối_với xe ba bánh ( mô_tô , gắn máy )\n",
      "\n",
      "Metadata: {'category': 'mô tô, gắn máy', 'fine_amount': 'Tước quyền sử dụng giấy phép lái xe từ 22 tháng đến 24 tháng', 'violation_type': 'khác', 'original_text': 'Loại phương tiện: mô tô, gắn máy\\nMức phạt: Tước quyền sử dụng giấy phép lái xe từ 22 tháng đến 24 tháng\\nNội dung vi phạm: Điều khiển xe chạy bằng một bánh đối với xe hai bánh, chạy bằng hai bánh đối với xe ba bánh (mô tô, gắn máy)'}\n",
      "\n",
      "Score: 0.5063499212265015\n",
      "\n",
      "==================================================\n",
      "Result 8:\n",
      "\n",
      "Text: loại phương_tiện : mô_tô , gắn máy mức phạt : phạt tiền từ 200.000 đồng đến 400.000 đồng_nội_dung vi_phạm : không mang theo giấy đăng_ký xe ( mô_tô , gắn máy )\n",
      "\n",
      "Metadata: {'category': 'mô tô, gắn máy', 'fine_amount': 'Phạt tiền từ 200.000 đồng đến 400.000 đồng', 'violation_type': 'khác', 'original_text': 'Loại phương tiện: mô tô, gắn máy\\nMức phạt: Phạt tiền từ 200.000 đồng đến 400.000 đồng\\nNội dung vi phạm: Không mang theo giấy đăng ký xe (mô tô, gắn máy)'}\n",
      "\n",
      "Score: 0.5024282336235046\n",
      "\n",
      "==================================================\n",
      "Result 9:\n",
      "\n",
      "Text: loại phương_tiện : mô_tô , gắn máy mức phạt : tước quyền sử_dụng giấy_phép lái_xe từ 22 tháng đến 24 tháng nội_dung vi_phạm : không chấp_hành yêu_cầu kiểm_tra về chất ma_túy hoặc chất kích_thích khác mà pháp_luật cấm sử_dụng ( mô_tô , gắn máy )\n",
      "\n",
      "Metadata: {'category': 'mô tô, gắn máy', 'fine_amount': 'Tước quyền sử dụng giấy phép lái xe từ 22 tháng đến 24 tháng', 'violation_type': 'khác', 'original_text': 'Loại phương tiện: mô tô, gắn máy\\nMức phạt: Tước quyền sử dụng giấy phép lái xe từ 22 tháng đến 24 tháng\\nNội dung vi phạm: Không chấp hành yêu cầu kiểm tra về chất ma túy hoặc chất kích thích khác mà pháp luật cấm sử dụng (mô tô, gắn máy)'}\n",
      "\n",
      "Score: 0.5\n",
      "\n",
      "==================================================\n",
      "Result 10:\n",
      "\n",
      "Text: loại phương_tiện : mô_tô , gắn máy mức phạt : trừ điểm giấy_phép lái_xe 06 điểm nội_dung vi_phạm : gắn biển số không đúng với chứng_nhận đăng_ký xe hoặc gắn biển số không do cơ_quan có thẩm_quyền cấp ( mô_tô , gắn máy )\n",
      "\n",
      "Metadata: {'category': 'mô tô, gắn máy', 'fine_amount': 'Trừ điểm giấy phép lái xe 06 điểm', 'violation_type': 'khác', 'original_text': 'Loại phương tiện: mô tô, gắn máy\\nMức phạt: Trừ điểm giấy phép lái xe 06 điểm\\nNội dung vi phạm: Gắn biển số không đúng với chứng nhận đăng ký xe hoặc gắn biển số không do cơ quan có thẩm quyền cấp (mô tô, gắn máy)'}\n",
      "\n",
      "Score: 0.4962354302406311\n",
      "\n",
      "==================================================\n"
     ]
    }
   ],
   "source": [
    "question = \"Đối với mô tô, vi phạm không có giấy chứng nhận đăng ký xe sẽ bị xử phạt như thế nào?\"\n",
    "retrieved_docs = retriever.retrieve(question)\n",
    "\n",
    "for i, node in enumerate(retrieved_docs):\n",
    "    print(f\"Result {i+1}:\\n\")\n",
    "    print(f\"Text: {node.text}\\n\")\n",
    "    print(f\"Metadata: {node.metadata}\\n\")\n",
    "    print(f\"Score: {node.score}\\n\")\n",
    "    print(\"=\"*50)"
   ]
  },
  {
   "cell_type": "code",
   "execution_count": null,
   "metadata": {},
   "outputs": [],
   "source": []
  }
 ],
 "metadata": {
  "kernelspec": {
   "display_name": "venv",
   "language": "python",
   "name": "python3"
  },
  "language_info": {
   "codemirror_mode": {
    "name": "ipython",
    "version": 3
   },
   "file_extension": ".py",
   "mimetype": "text/x-python",
   "name": "python",
   "nbconvert_exporter": "python",
   "pygments_lexer": "ipython3",
   "version": "3.11.11"
  }
 },
 "nbformat": 4,
 "nbformat_minor": 2
}

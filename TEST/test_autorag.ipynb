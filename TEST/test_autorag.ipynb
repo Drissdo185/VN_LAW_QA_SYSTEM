{
 "cells": [
  {
   "cell_type": "code",
   "execution_count": 1,
   "metadata": {},
   "outputs": [
    {
     "name": "stderr",
     "output_type": "stream",
     "text": [
      "/home/drissdo/Desktop/VN_LAW_QA_SYSTEM/venv/lib/python3.11/site-packages/tqdm/auto.py:21: TqdmWarning: IProgress not found. Please update jupyter and ipywidgets. See https://ipywidgets.readthedocs.io/en/stable/user_install.html\n",
      "  from .autonotebook import tqdm as notebook_tqdm\n"
     ]
    }
   ],
   "source": [
    "from llama_index.core import PromptTemplate\n",
    "import json\n",
    "import torch\n",
    "from llama_index.core import Document\n",
    "from llama_index.core.node_parser import SentenceSplitter\n",
    "from llama_index.core import StorageContext\n",
    "from llama_index.core import VectorStoreIndex\n",
    "from llama_index.embeddings.huggingface import HuggingFaceEmbedding\n",
    "from llama_index.vector_stores.weaviate import WeaviateVectorStore\n",
    "from pyvi import ViTokenizer\n",
    "import weaviate\n",
    "from weaviate.classes.init import Auth"
   ]
  },
  {
   "cell_type": "code",
   "execution_count": 2,
   "metadata": {},
   "outputs": [],
   "source": [
    "WEAVIATE_URL=\"9dqhtyrjq9sqb4a8xcxs2w.c0.asia-southeast1.gcp.weaviate.cloud\"\n",
    "WEAVIATE_API_KEY=\"OmIjIioYPkbmGw6DZpdBlThzjhdrxgOOiPWo\"\n",
    "DATA_COLLECTION = \"ND168\"\n",
    "DEVICE = \"cuda:0\" if torch.cuda.is_available() else \"cpu\"\n",
    "MODEL_NAME = \"bkai-foundation-models/vietnamese-bi-encoder\"\n",
    "CHUNK_SIZE = 512  # Optimized for Vietnamese text\n",
    "CHUNK_OVERLAP = 50  # Small overlap to maintain context"
   ]
  },
  {
   "cell_type": "code",
   "execution_count": 3,
   "metadata": {},
   "outputs": [
    {
     "name": "stderr",
     "output_type": "stream",
     "text": [
      "/home/drissdo/Desktop/VN_LAW_QA_SYSTEM/venv/lib/python3.11/site-packages/weaviate/warnings.py:340: UserWarning: Con006: You're using the sync client in an async context. This usage is discouraged to avoid blocking your async event loop with sync I/O calls.\n",
      "            We encourage you to update your code to use the async client instead when running inside async def functions!\n",
      "  warnings.warn(\n"
     ]
    }
   ],
   "source": [
    "# Setup vector store\n",
    "client = weaviate.connect_to_weaviate_cloud(\n",
    "    cluster_url=WEAVIATE_URL,\n",
    "    auth_credentials=Auth.api_key(WEAVIATE_API_KEY),\n",
    ")\n",
    "\n",
    "\n",
    "# client = weaviate.connect_to_local(\n",
    "#                      host=\"192.168.100.125\",\n",
    "#                         port=8080,\n",
    "#                         grpc_port=50051\n",
    "#                 )\n",
    "vector_store = WeaviateVectorStore(\n",
    "    weaviate_client=client,\n",
    "    index_name=DATA_COLLECTION\n",
    ")"
   ]
  },
  {
   "cell_type": "code",
   "execution_count": 4,
   "metadata": {},
   "outputs": [],
   "source": [
    "index = VectorStoreIndex.from_vector_store(\n",
    "    vector_store=vector_store,\n",
    "    embed_model = HuggingFaceEmbedding(model_name=MODEL_NAME, device=DEVICE, trust_remote_code=True,cache_folder=\"/home/drissdo/.cache/huggingface/hub\"),\n",
    ")"
   ]
  },
  {
   "cell_type": "code",
   "execution_count": 5,
   "metadata": {},
   "outputs": [],
   "source": [
    "# Create retriever\n",
    "retriever = index.as_retriever(\n",
    "    vector_store_query_mode=\"hybrid\",\n",
    "    similarity_top_k=10,\n",
    "    alpha=0.3,\n",
    ")"
   ]
  },
  {
   "cell_type": "code",
   "execution_count": 6,
   "metadata": {},
   "outputs": [
    {
     "name": "stdout",
     "output_type": "stream",
     "text": [
      "Result 1:\n",
      "\n",
      "Text: loại phương_tiện : ô_tô \n",
      " mức phạt : trừ 06 điểm giấy_phép lái_xe \n",
      " nội_dung vi_phạm : điều_khiển xe ( kể_cả rơ_moóc và sơ_mi rơ_moóc ) không gắn biển số ( đối_với loại xe có quy_định phải gắn biển số )\n",
      "\n",
      "Metadata: {'category': 'ô tô', 'fine_amount': 'Trừ 06 điểm giấy phép lái xe', 'violation_type': 'khác', 'original_text': 'Loại phương tiện: ô tô\\nMức phạt: Trừ 06 điểm giấy phép lái xe\\nNội dung vi phạm: Điều khiển xe (kể cả rơ moóc và sơ mi rơ moóc) không gắn biển số (đối với loại xe có quy định phải gắn biển số)'}\n",
      "\n",
      "Score: 0.8671495914459229\n",
      "\n",
      "==================================================\n",
      "Result 2:\n",
      "\n",
      "Text: loại phương_tiện : ô_tô \n",
      " mức phạt : trừ 02 điểm giấy_phép lái_xe \n",
      " nội_dung vi_phạm : dừng xe , đỗ xe , quay đầu xe trái quy_định gây ùn_tắc giao_thông\n",
      "\n",
      "Metadata: {'category': 'ô tô', 'fine_amount': 'Trừ 02 điểm giấy phép lái xe', 'violation_type': 'khác', 'original_text': 'Loại phương tiện: ô tô\\nMức phạt: Trừ 02 điểm giấy phép lái xe\\nNội dung vi phạm: Dừng xe, đỗ xe, quay đầu xe trái quy định gây ùn tắc giao thông'}\n",
      "\n",
      "Score: 0.8226269483566284\n",
      "\n",
      "==================================================\n",
      "Result 3:\n",
      "\n",
      "Text: loại phương_tiện : ô_tô \n",
      " mức phạt : trừ 06 điểm giấy_phép lái_xe \n",
      " nội_dung vi_phạm : điều_khiển xe không gắn đủ biển số hoặc gắn biển số không đúng vị_trí , không đúng quy_cách theo quy_định ; gắn biển số không rõ chữ , số hoặc sử_dụng chất_liệu khác sơn , dán lên chữ , số của biển số xe ; gắn biển số bị bẻ cong , che_lấp , làm thay_đổi chữ , số , màu_sắc ( của chữ , số , nền biển số xe ) , hình_dạng , kích_thước của biển số xe ( kể_cả rơ_moóc và sơ_mi rơ_moóc ) ( ô_tô )\n",
      "\n",
      "Metadata: {'category': 'ô tô', 'fine_amount': 'Trừ 06 điểm giấy phép lái xe', 'violation_type': 'khác', 'original_text': 'Loại phương tiện: ô tô\\nMức phạt: Trừ 06 điểm giấy phép lái xe\\nNội dung vi phạm: Điều khiển xe không gắn đủ biển số hoặc gắn biển số không đúng vị trí, không đúng quy cách theo quy định; gắn biển số không rõ chữ, số hoặc sử dụng chất liệu khác sơn, dán lên chữ, số của biển số xe; gắn biển số bị bẻ cong, che lấp, làm thay đổi chữ, số, màu sắc (của chữ, số, nền biển số xe), hình dạng, kích thước của biển số xe (kể cả rơ moóc và sơ mi rơ moóc) (ô tô)'}\n",
      "\n",
      "Score: 0.776617169380188\n",
      "\n",
      "==================================================\n",
      "Result 4:\n",
      "\n",
      "Text: loại phương_tiện : mô_tô , gắn máy \n",
      " mức phạt : trừ điểm giấy_phép lái_xe 10 điểm \n",
      " nội_dung vi_phạm : vi_phạm_quy_định tại một trong các hành_vi sau mà gây tai_nạn như : điều_khiển xe thành nhóm từ 02 xe trở lên chạy quá tốc_độ quy_định ( mô_tô , gắn máy )\n",
      "\n",
      "Metadata: {'category': 'mô tô, gắn máy', 'fine_amount': 'Trừ điểm giấy phép lái xe 10 điểm', 'violation_type': 'khác', 'original_text': 'Loại phương tiện: mô tô, gắn máy\\nMức phạt: Trừ điểm giấy phép lái xe 10 điểm\\nNội dung vi phạm: Vi phạm quy định tại một trong các hành vi sau mà gây tai nạn như: Điều khiển xe thành nhóm từ 02 xe trở lên chạy quá tốc độ quy định (mô tô, gắn máy)'}\n",
      "\n",
      "Score: 0.7411318421363831\n",
      "\n",
      "==================================================\n",
      "Result 5:\n",
      "\n",
      "Text: loại phương_tiện : ô_tô \n",
      " mức phạt : trừ 10 điểm giấy_phép lái_xe \n",
      " nội_dung vi_phạm : điều_khiển xe không quan_sát , giảm_tốc_độ hoặc dừng lại đế bảo_đảm an_toàn theo quy_định mà gây tai_nạn giao_thông ; điều_khiển xe chạy quá tốc_độ quy_định gây tai_nạn giao_thông ; dừng xe , đỗ xe , quay đầu xe , lùi xe , tránh xe , vượt xe , chuyển_hướng , chuyển làn_đường không đúng quy_định gây tai_nạn giao_thông ; không đi đúng phần đường , làn_đường , không giữ khoảng_cách an_toàn giữa hai xe theo quy_định gây tai_nạn giao_thông hoặc đi vào đường có biển_báo_hiệu có nội_dung cấm đi vào đối_với loại phương_tiện đang điều_khiển gây tai_nạn giao_thông ( ô_tô )\n",
      "\n",
      "Metadata: {'category': 'ô tô', 'fine_amount': 'Trừ 10 điểm giấy phép lái xe', 'violation_type': 'khác', 'original_text': 'Loại phương tiện: ô tô\\nMức phạt: Trừ 10 điểm giấy phép lái xe\\nNội dung vi phạm: Điều khiển xe không quan sát, giảm tốc độ hoặc dừng lại đế bảo đảm an toàn theo quy định mà gây tai nạn giao thông; điều khiển xe chạy quá tốc độ quy định gây tai nạn giao thông; dừng xe, đỗ xe, quay đầu xe, lùi xe, tránh xe, vượt xe, chuyển hướng, chuyển làn đường không đúng quy định gây tai nạn giao thông; không đi đúng phần đường, làn đường, không giữ khoảng cách an toàn giữa hai xe theo quy định gây tai nạn giao thông hoặc đi vào đường có biển báo hiệu có nội dung cấm đi vào đối với loại phương tiện đang điều khiển gây tai nạn giao thông (ô tô)'}\n",
      "\n",
      "Score: 0.7152281999588013\n",
      "\n",
      "==================================================\n",
      "Result 6:\n",
      "\n",
      "Text: loại phương_tiện : ô_tô \n",
      " mức phạt : trừ 10 điểm giấy_phép lái_xe \n",
      " nội_dung vi_phạm : dừng xe , đỗ xe , quay đầu xe , lùi xe , tránh xe , vượt xe , chuyển_hướng , chuyển làn_đường không đúng quy_định gây tai_nạn giao_thông ( ô_tô )\n",
      "\n",
      "Metadata: {'category': 'ô tô', 'fine_amount': 'Trừ 10 điểm giấy phép lái xe', 'violation_type': 'khác', 'original_text': 'Loại phương tiện: ô tô\\nMức phạt: Trừ 10 điểm giấy phép lái xe\\nNội dung vi phạm: Dừng xe, đỗ xe, quay đầu xe, lùi xe, tránh xe, vượt xe, chuyển hướng, chuyển làn đường không đúng quy định gây tai nạn giao thông (ô tô)'}\n",
      "\n",
      "Score: 0.7141114473342896\n",
      "\n",
      "==================================================\n",
      "Result 7:\n",
      "\n",
      "Text: loại phương_tiện : mô_tô , gắn máy \n",
      " mức phạt : trừ điểm giấy_phép lái_xe 10 điểm \n",
      " nội_dung vi_phạm : vi_phạm_quy_định tại một trong các hành_vi sau mà gây tai_nạn như : chuyển làn_đường không đúng nơi cho phép hoặc không có tín_hiệu báo trước hoặc chuyển làn_đường không đúng quy_định … ( mô_tô , gắn máy )\n",
      "\n",
      "Metadata: {'category': 'mô tô, gắn máy', 'fine_amount': 'Trừ điểm giấy phép lái xe 10 điểm', 'violation_type': 'khác', 'original_text': 'Loại phương tiện: mô tô, gắn máy\\nMức phạt: Trừ điểm giấy phép lái xe 10 điểm\\nNội dung vi phạm: Vi phạm quy định tại một trong các hành vi sau mà gây tai nạn như: Chuyển làn đường không đúng nơi cho phép hoặc không có tín hiệu báo trước hoặc chuyển làn đường không đúng quy định… (mô tô, gắn máy)'}\n",
      "\n",
      "Score: 0.7135510444641113\n",
      "\n",
      "==================================================\n",
      "Result 8:\n",
      "\n",
      "Text: loại phương_tiện : ô_tô chở hàng \n",
      " mức phạt : trừ 10 điểm giấy_phép lái_xe \n",
      " nội_dung vi_phạm : vi_phạm_quy_định về chở hàng mà gây tai_nạn giao_thông ( ô_tô chở hàng )\n",
      "\n",
      "Metadata: {'category': 'ô tô chở hàng', 'fine_amount': 'Trừ 10 điểm giấy phép lái xe', 'violation_type': 'khác', 'original_text': 'Loại phương tiện: ô tô chở hàng\\nMức phạt: Trừ 10 điểm giấy phép lái xe\\nNội dung vi phạm: Vi phạm quy định về chở hàng mà gây tai nạn giao thông (ô tô chở hàng)'}\n",
      "\n",
      "Score: 0.699999988079071\n",
      "\n",
      "==================================================\n",
      "Result 9:\n",
      "\n",
      "Text: loại phương_tiện : mô_tô , gắn máy \n",
      " mức phạt : trừ điểm giấy_phép lái_xe 10 điểm \n",
      " nội_dung vi_phạm : điều_khiển xe chạy quá tốc_độ quy_định gây tai_nạn giao_thông ( mô_tô , gắn máy )\n",
      "\n",
      "Metadata: {'category': 'mô tô, gắn máy', 'fine_amount': 'Trừ điểm giấy phép lái xe 10 điểm', 'violation_type': 'khác', 'original_text': 'Loại phương tiện: mô tô, gắn máy\\nMức phạt: Trừ điểm giấy phép lái xe 10 điểm\\nNội dung vi phạm: Điều khiển xe chạy quá tốc độ quy định gây tai nạn giao thông (mô tô, gắn máy)'}\n",
      "\n",
      "Score: 0.6989943981170654\n",
      "\n",
      "==================================================\n",
      "Result 10:\n",
      "\n",
      "Text: loại phương_tiện : ô_tô \n",
      " mức phạt : trừ 02 điểm giấy_phép lái_xe \n",
      " nội_dung vi_phạm : không tuân_thủ quy_định khi vào hoặc ra đường_cao_tốc ; điều_khiển xe chạy ở làn dừng xe khẩn_cấp hoặc phần lề_đường của đường_cao_tốc ; không tuân_thủ quy_định về khoảng_cách an_toàn đối_với xe chạy liền trước khi chạy trên đường_cao_tốc ( ô_tô )\n",
      "\n",
      "Metadata: {'category': 'ô tô', 'fine_amount': 'Trừ 02 điểm giấy phép lái xe', 'violation_type': 'khác', 'original_text': 'Loại phương tiện: ô tô\\nMức phạt: Trừ 02 điểm giấy phép lái xe\\nNội dung vi phạm: Không tuân thủ quy định khi vào hoặc ra đường cao tốc; điều khiển xe chạy ở làn dừng xe khẩn cấp hoặc phần lề đường của đường cao tốc; không tuân thủ quy định về khoảng cách an toàn đối với xe chạy liền trước khi chạy trên đường cao tốc (ô tô)'}\n",
      "\n",
      "Score: 0.6888688802719116\n",
      "\n",
      "==================================================\n"
     ]
    }
   ],
   "source": [
    "question = \"Luật giao thông quy định như thế nào về tổng số điểm của giấy phép lái xe và quy định về việc cộng điểm?\"\n",
    "retrieved_docs = retriever.retrieve(question)\n",
    "\n",
    "for i, node in enumerate(retrieved_docs):\n",
    "    print(f\"Result {i+1}:\\n\")\n",
    "    print(f\"Text: {node.text}\\n\")\n",
    "    print(f\"Metadata: {node.metadata}\\n\")\n",
    "    print(f\"Score: {node.score}\\n\")\n",
    "    print(\"=\"*50)"
   ]
  },
  {
   "cell_type": "code",
   "execution_count": 7,
   "metadata": {},
   "outputs": [],
   "source": [
    "# client.collections.delete_all()"
   ]
  }
 ],
 "metadata": {
  "kernelspec": {
   "display_name": "venv",
   "language": "python",
   "name": "python3"
  },
  "language_info": {
   "codemirror_mode": {
    "name": "ipython",
    "version": 3
   },
   "file_extension": ".py",
   "mimetype": "text/x-python",
   "name": "python",
   "nbconvert_exporter": "python",
   "pygments_lexer": "ipython3",
   "version": "3.11.11"
  }
 },
 "nbformat": 4,
 "nbformat_minor": 2
}

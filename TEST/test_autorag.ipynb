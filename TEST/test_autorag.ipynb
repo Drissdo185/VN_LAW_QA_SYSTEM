{
 "cells": [
  {
   "cell_type": "code",
   "execution_count": 1,
   "metadata": {},
   "outputs": [
    {
     "name": "stderr",
     "output_type": "stream",
     "text": [
      "/home/drissdo/Desktop/VN_LAW_QA_SYSTEM/venv/lib/python3.11/site-packages/tqdm/auto.py:21: TqdmWarning: IProgress not found. Please update jupyter and ipywidgets. See https://ipywidgets.readthedocs.io/en/stable/user_install.html\n",
      "  from .autonotebook import tqdm as notebook_tqdm\n"
     ]
    }
   ],
   "source": [
    "from llama_index.core import PromptTemplate\n",
    "import json\n",
    "import torch\n",
    "from llama_index.core import Document\n",
    "from llama_index.core.node_parser import SentenceSplitter\n",
    "from llama_index.core import StorageContext\n",
    "from llama_index.core import VectorStoreIndex\n",
    "from llama_index.embeddings.huggingface import HuggingFaceEmbedding\n",
    "from llama_index.vector_stores.weaviate import WeaviateVectorStore\n",
    "from pyvi import ViTokenizer\n",
    "import weaviate\n",
    "from weaviate.classes.init import Auth"
   ]
  },
  {
   "cell_type": "code",
   "execution_count": 2,
   "metadata": {},
   "outputs": [],
   "source": [
    "WEAVIATE_URL=\"https://frqjst3xshkqyw7ayhy6a.c0.asia-southeast1.gcp.weaviate.cloud\"\n",
    "WEAVIATE_API_KEY=\"eQJokAVcxKpPbEXRjr5E2tSi1lvXen5JAsgT\"\n",
    "DATA_COLLECTION = \"ND168\"\n",
    "DEVICE = \"cuda:0\" if torch.cuda.is_available() else \"cpu\"\n",
    "MODEL_NAME = \"bkai-foundation-models/vietnamese-bi-encoder\"\n",
    "CHUNK_SIZE = 512  # Optimized for Vietnamese text\n",
    "CHUNK_OVERLAP = 50  # Small overlap to maintain context"
   ]
  },
  {
   "cell_type": "code",
   "execution_count": 3,
   "metadata": {},
   "outputs": [
    {
     "name": "stderr",
     "output_type": "stream",
     "text": [
      "/home/drissdo/Desktop/VN_LAW_QA_SYSTEM/venv/lib/python3.11/site-packages/weaviate/warnings.py:340: UserWarning: Con006: You're using the sync client in an async context. This usage is discouraged to avoid blocking your async event loop with sync I/O calls.\n",
      "            We encourage you to update your code to use the async client instead when running inside async def functions!\n",
      "  warnings.warn(\n"
     ]
    }
   ],
   "source": [
    "# Setup vector store\n",
    "client = weaviate.connect_to_weaviate_cloud(\n",
    "    cluster_url=WEAVIATE_URL,\n",
    "    auth_credentials=Auth.api_key(WEAVIATE_API_KEY),\n",
    ")\n",
    "\n",
    "\n",
    "# client = weaviate.connect_to_local(\n",
    "#                      host=\"192.168.100.125\",\n",
    "#                         port=8080,\n",
    "#                         grpc_port=50051\n",
    "#                 )\n",
    "vector_store = WeaviateVectorStore(\n",
    "    weaviate_client=client,\n",
    "    index_name=DATA_COLLECTION\n",
    ")"
   ]
  },
  {
   "cell_type": "code",
   "execution_count": 4,
   "metadata": {},
   "outputs": [],
   "source": [
    "index = VectorStoreIndex.from_vector_store(\n",
    "    vector_store=vector_store,\n",
    "    embed_model = HuggingFaceEmbedding(model_name=MODEL_NAME, device=DEVICE, trust_remote_code=True,cache_folder=\"/home/drissdo/.cache/huggingface/hub\"),\n",
    ")"
   ]
  },
  {
   "cell_type": "code",
   "execution_count": 5,
   "metadata": {},
   "outputs": [],
   "source": [
    "# Create retriever\n",
    "retriever = index.as_retriever(\n",
    "    vector_store_query_mode=\"hybrid\",\n",
    "    similarity_top_k=10,\n",
    "    alpha=0.3,\n",
    ")"
   ]
  },
  {
   "cell_type": "code",
   "execution_count": 6,
   "metadata": {},
   "outputs": [
    {
     "name": "stdout",
     "output_type": "stream",
     "text": [
      "Result 1:\n",
      "\n",
      "Text: loại phương_tiện : cá_nhân \n",
      " mức phạt : phạt tiền từ 10.000.000 đồng đến 15.000.000 đồng \n",
      " nội_dung vi_phạm : ( cá_nhân ) sử_dụng tạm_thời lòng_đường , vỉa_hè vào mục_đích khác ( theo quy_định phải có giấy_phép ) mà không có giấy_phép hoặc có giấy_phép nhưng đã hết giá_trị sử_dụng hoặc thực_hiện không đúng nội_dung ghi trong giấy_phép .\n",
      "\n",
      "Metadata: {'category': 'Cá nhân', 'fine_amount': 'Phạt tiền từ 10.000.000 đồng đến 15.000.000 đồng', 'violation_type': 'khác', 'original_text': 'Loại phương tiện: Cá nhân\\nMức phạt: Phạt tiền từ 10.000.000 đồng đến 15.000.000 đồng\\nNội dung vi phạm: (Cá nhân) Sử dụng tạm thời lòng đường, vỉa hè vào mục đích khác (theo quy định phải có giấy phép) mà không có giấy phép hoặc có giấy phép nhưng đã hết giá trị sử dụng hoặc thực hiện không đúng nội dung ghi trong giấy phép.'}\n",
      "\n",
      "Score: 1.0\n",
      "\n",
      "==================================================\n",
      "Result 2:\n",
      "\n",
      "Text: loại phương_tiện : tổ_chức \n",
      " mức phạt : phạt tiền từ 20.000.000 đồng đến 30.000.000 đồng \n",
      " nội_dung vi_phạm : ( tổ_chức ) sử_dụng tạm_thời lòng_đường , vỉa_hè vào mục_đích khác ( theo quy_định phải có giấy_phép ) mà không có giấy_phép hoặc có giấy_phép nhưng đã hết giá_trị sử_dụng hoặc thực_hiện không đúng nội_dung ghi trong giấy_phép .\n",
      "\n",
      "Metadata: {'category': 'Tổ chức', 'fine_amount': 'Phạt tiền từ 20.000.000 đồng đến 30.000.000 đồng', 'violation_type': 'khác', 'original_text': 'Loại phương tiện: Tổ chức\\nMức phạt: Phạt tiền từ 20.000.000 đồng đến 30.000.000 đồng\\nNội dung vi phạm: (Tổ chức) Sử dụng tạm thời lòng đường, vỉa hè vào mục đích khác (theo quy định phải có giấy phép) mà không có giấy phép hoặc có giấy phép nhưng đã hết giá trị sử dụng hoặc thực hiện không đúng nội dung ghi trong giấy phép.'}\n",
      "\n",
      "Score: 0.9438320398330688\n",
      "\n",
      "==================================================\n",
      "Result 3:\n",
      "\n",
      "Text: loại phương_tiện : cá_nhân \n",
      " mức phạt : phạt tiền từ 4.000.000 đồng đến 6.000.000 đồng \n",
      " nội_dung vi_phạm : ( cá_nhân ) thực_hiện_hành_vi không chấp_hành yêu_cầu kiểm_tra , kiểm_soát của người thi_hành công_vụ về bảo_đảm trật_tự , an_toàn giao_thông đường_bộ , trừ các hành_vi vi_phạm_quy_định\n",
      "\n",
      "Metadata: {'category': 'Cá nhân', 'fine_amount': 'Phạt tiền từ 4.000.000 đồng đến 6.000.000 đồng', 'violation_type': 'khác', 'original_text': 'Loại phương tiện: Cá nhân\\nMức phạt: Phạt tiền từ 4.000.000 đồng đến 6.000.000 đồng\\nNội dung vi phạm: (Cá nhân) Thực hiện hành vi không chấp hành yêu cầu kiểm tra, kiểm soát của người thi hành công vụ về bảo đảm trật tự, an toàn giao thông đường bộ, trừ các hành vi vi phạm quy định'}\n",
      "\n",
      "Score: 0.7624334096908569\n",
      "\n",
      "==================================================\n",
      "Result 4:\n",
      "\n",
      "Text: loại phương_tiện : người đi bộ \n",
      " mức phạt : phạt tiền từ 150.000 đồng đến 250.000 đồng \n",
      " nội_dung vi_phạm : ( người đi bộ ) không chấp_hành hiệu_lệnh hoặc chỉ_dẫn của đèn tín_hiệu , biển_báo_hiệu , vạch kẻ đường , trừ hành_vi vi_phạm_quy_định tại điểm a khoản 2 điều này\n",
      "\n",
      "Metadata: {'category': 'Người đi bộ', 'fine_amount': 'Phạt tiền từ 150.000 đồng đến 250.000 đồng', 'violation_type': 'khác', 'original_text': 'Loại phương tiện: Người đi bộ\\nMức phạt: Phạt tiền từ 150.000 đồng đến 250.000 đồng\\nNội dung vi phạm: (Người đi bộ) Không chấp hành hiệu lệnh hoặc chỉ dẫn của đèn tín hiệu, biển báo hiệu, vạch kẻ đường, trừ hành vi vi phạm quy định tại điểm a khoản 2 Điều này'}\n",
      "\n",
      "Score: 0.7059450149536133\n",
      "\n",
      "==================================================\n",
      "Result 5:\n",
      "\n",
      "Text: loại phương_tiện : tổ_chức \n",
      " mức phạt : phạt tiền từ 6.000.000 đồng đến 10.000.000 đồng \n",
      " nội_dung vi_phạm : ( tổ_chức ) thực_hiện_hành_vi không chấp_hành yêu_cầu kiểm_tra , kiểm_soát của người thi_hành công_vụ về bảo_đảm trật_tự , an_toàn giao_thông đường_bộ , trừ các hành_vi vi_phạm_quy_định\n",
      "\n",
      "Metadata: {'category': 'Tổ chức', 'fine_amount': 'Phạt tiền từ 6.000.000 đồng đến 10.000.000 đồng', 'violation_type': 'khác', 'original_text': 'Loại phương tiện: Tổ chức\\nMức phạt: Phạt tiền từ 6.000.000 đồng đến 10.000.000 đồng\\nNội dung vi phạm: (Tổ chức) Thực hiện hành vi không chấp hành yêu cầu kiểm tra, kiểm soát của người thi hành công vụ về bảo đảm trật tự, an toàn giao thông đường bộ, trừ các hành vi vi phạm quy định'}\n",
      "\n",
      "Score: 0.6705946922302246\n",
      "\n",
      "==================================================\n",
      "Result 6:\n",
      "\n",
      "Text: loại phương_tiện : cá_nhân \n",
      " mức phạt : phạt tiền từ 30.000.000 đồng đến 32.000.000 đồng \n",
      " nội_dung vi_phạm : ( cá_nhân ) không khai_báo , khai_báo gian_dối hoặc cung_cấp thông_tin , tài_liệu không đúng sự_thật để trốn_tránh trách_nhiệm khi bị phát_hiện vi_phạm_pháp_luật về trật_tự , an_toàn giao_thông đường_bộ .\n",
      "\n",
      "Metadata: {'category': 'Cá nhân', 'fine_amount': 'Phạt tiền từ 30.000.000 đồng đến 32.000.000 đồng', 'violation_type': 'khác', 'original_text': 'Loại phương tiện: Cá nhân\\nMức phạt: Phạt tiền từ 30.000.000 đồng đến 32.000.000 đồng\\nNội dung vi phạm: (Cá nhân) Không khai báo, khai báo gian dối hoặc cung cấp thông tin, tài liệu không đúng sự thật để trốn tránh trách nhiệm khi bị phát hiện vi phạm pháp luật về trật tự, an toàn giao thông đường bộ.'}\n",
      "\n",
      "Score: 0.593848705291748\n",
      "\n",
      "==================================================\n",
      "Result 7:\n",
      "\n",
      "Text: loại phương_tiện : cá_nhân \n",
      " mức phạt : phạt tiền từ 2.000.000 đồng đến 3.000.000 đồng \n",
      " nội_dung vi_phạm : ( cá_nhân ) cố_ý thay_đổi , xóa dấu_vết hiện_trường vụ tai_nạn giao_thông , trừ các hành_vi vi_phạm_quy_định\n",
      "\n",
      "Metadata: {'category': 'Cá nhân', 'fine_amount': 'Phạt tiền từ 2.000.000 đồng đến 3.000.000 đồng', 'violation_type': 'khác', 'original_text': 'Loại phương tiện: Cá nhân\\nMức phạt: Phạt tiền từ 2.000.000 đồng đến 3.000.000 đồng\\nNội dung vi phạm: (Cá nhân) Cố ý thay đổi, xóa dấu vết hiện trường vụ tai nạn giao thông, trừ các hành vi vi phạm quy định'}\n",
      "\n",
      "Score: 0.5613807439804077\n",
      "\n",
      "==================================================\n",
      "Result 8:\n",
      "\n",
      "Text: loại phương_tiện : người đi bộ \n",
      " mức phạt : phạt tiền từ 150.000 đồng đến 250.000 đồng \n",
      " nội_dung vi_phạm : ( người đi bộ ) không đi đúng phần đường quy_định ; vượt qua dải_phân_cách ; đi qua đường không đúng nơi quy_định ; đi qua đường không có tín_hiệu bằng tay theo quy_định ;\n",
      "\n",
      "Metadata: {'category': 'Người đi bộ', 'fine_amount': 'Phạt tiền từ 150.000 đồng đến 250.000 đồng', 'violation_type': 'khác', 'original_text': 'Loại phương tiện: Người đi bộ\\nMức phạt: Phạt tiền từ 150.000 đồng đến 250.000 đồng\\nNội dung vi phạm: (Người đi bộ) Không đi đúng phần đường quy định; vượt qua dải phân cách; đi qua đường không đúng nơi quy định; đi qua đường không có tín hiệu bằng tay theo quy định;'}\n",
      "\n",
      "Score: 0.5506964921951294\n",
      "\n",
      "==================================================\n",
      "Result 9:\n",
      "\n",
      "Text: loại phương_tiện : cá_nhân \n",
      " mức phạt : phạt tiền từ 35.000.000 đồng đến 37.000.000 đồng \n",
      " nội_dung vi_phạm : ( cá_nhân ) xúc_phạm , đe_dọa , cản_trở , chống_đối người thi_hành công_vụ về bảo_đảm trật_tự , an_toàn giao_thông đường_bộ ;\n",
      "\n",
      "Metadata: {'category': 'Cá nhân', 'fine_amount': 'Phạt tiền từ 35.000.000 đồng đến 37.000.000 đồng', 'violation_type': 'khác', 'original_text': 'Loại phương tiện: Cá nhân\\nMức phạt: Phạt tiền từ 35.000.000 đồng đến 37.000.000 đồng\\nNội dung vi phạm: (Cá nhân) Xúc phạm, đe dọa, cản trở, chống đối người thi hành công vụ về bảo đảm trật tự, an toàn giao thông đường bộ;'}\n",
      "\n",
      "Score: 0.5127149224281311\n",
      "\n",
      "==================================================\n",
      "Result 10:\n",
      "\n",
      "Text: loại phương_tiện : tổ_chức \n",
      " mức phạt : phạt tiền từ 60.000.000 đồng đến 64.000.000 đồng \n",
      " nội_dung vi_phạm : ( tổ_chức ) không khai_báo , khai_báo gian_dối hoặc cung_cấp thông_tin , tài_liệu không đúng sự_thật để trốn_tránh trách_nhiệm khi bị phát_hiện vi_phạm_pháp_luật về trật_tự , an_toàn giao_thông đường_bộ .\n",
      "\n",
      "Metadata: {'category': 'Tổ chức', 'fine_amount': 'Phạt tiền từ 60.000.000 đồng đến 64.000.000 đồng', 'violation_type': 'khác', 'original_text': 'Loại phương tiện: Tổ chức\\nMức phạt: Phạt tiền từ 60.000.000 đồng đến 64.000.000 đồng\\nNội dung vi phạm: (Tổ chức) Không khai báo, khai báo gian dối hoặc cung cấp thông tin, tài liệu không đúng sự thật để trốn tránh trách nhiệm khi bị phát hiện vi phạm pháp luật về trật tự, an toàn giao thông đường bộ.'}\n",
      "\n",
      "Score: 0.5072529315948486\n",
      "\n",
      "==================================================\n"
     ]
    }
   ],
   "source": [
    "question = \"Luật giao thông quy định như thế nào về tổng số điểm của giấy phép lái xe và quy định về việc cộng điểm?\"\n",
    "retrieved_docs = retriever.retrieve(question)\n",
    "\n",
    "for i, node in enumerate(retrieved_docs):\n",
    "    print(f\"Result {i+1}:\\n\")\n",
    "    print(f\"Text: {node.text}\\n\")\n",
    "    print(f\"Metadata: {node.metadata}\\n\")\n",
    "    print(f\"Score: {node.score}\\n\")\n",
    "    print(\"=\"*50)"
   ]
  },
  {
   "cell_type": "code",
   "execution_count": 7,
   "metadata": {},
   "outputs": [],
   "source": [
    "client.collections.delete_all()"
   ]
  }
 ],
 "metadata": {
  "kernelspec": {
   "display_name": "venv",
   "language": "python",
   "name": "python3"
  },
  "language_info": {
   "codemirror_mode": {
    "name": "ipython",
    "version": 3
   },
   "file_extension": ".py",
   "mimetype": "text/x-python",
   "name": "python",
   "nbconvert_exporter": "python",
   "pygments_lexer": "ipython3",
   "version": "3.11.7"
  }
 },
 "nbformat": 4,
 "nbformat_minor": 2
}

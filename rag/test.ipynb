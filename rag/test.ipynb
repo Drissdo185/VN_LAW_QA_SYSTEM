{
 "cells": [
  {
   "cell_type": "code",
   "execution_count": null,
   "metadata": {},
   "outputs": [],
   "source": [
    "from prompt import (\n",
    "    VIOLATION_QUERY_FORMAT,\n",
    "    GENERAL_INFORMATION_QUERY_FORMAT,\n",
    "    DECISION_VIOLATION,\n",
    "    DECISION_GENERAL,\n",
    "    ANSWER\n",
    ")\n",
    "from q_process import QuestionProcess"
   ]
  },
  {
   "cell_type": "code",
   "execution_count": null,
   "metadata": {},
   "outputs": [],
   "source": [
    "processor = QuestionProcess()"
   ]
  },
  {
   "cell_type": "code",
   "execution_count": null,
   "metadata": {},
   "outputs": [],
   "source": [
    "question = \"Nếu không đội mũ bảo hiểm thì sẽ bị phạt bao nhiêu tiền\""
   ]
  },
  {
   "cell_type": "code",
   "execution_count": null,
   "metadata": {},
   "outputs": [],
   "source": [
    "processed_question = processor.process_question(question)\n",
    "processed_question"
   ]
  },
  {
   "cell_type": "code",
   "execution_count": null,
   "metadata": {},
   "outputs": [],
   "source": [
    "promt = VIOLATION_QUERY_FORMAT.format(\n",
    "    processed_question = processed_question[\"processed_question\"]\n",
    ")"
   ]
  },
  {
   "cell_type": "code",
   "execution_count": null,
   "metadata": {},
   "outputs": [],
   "source": [
    "import openai\n",
    "\n",
    "\n",
    "response = openai.ChatCompletion.create(\n",
    "    model=\"gpt-4o-mini\",  \n",
    "    messages=[\n",
    "        {\"role\": \"system\", \"content\": \"You are a helpful assistant that provides information about traffic violations.\"},\n",
    "        {\"role\": \"user\", \"content\": promt}\n",
    "    ],\n",
    "    temperature=0.2,\n",
    "    max_tokens=128\n",
    ")\n",
    "\n",
    "# Extract and print the response\n",
    "answer = response.choices[0].message.content\n",
    "print(answer)"
   ]
  },
  {
   "cell_type": "code",
   "execution_count": null,
   "metadata": {},
   "outputs": [],
   "source": [
    "import json\n",
    "import re\n",
    "json_pattern = r'```json\\n(.*?)```'\n",
    "match = re.search(json_pattern, answer, re.DOTALL)\n",
    "if match:\n",
    "    json_str = match.group(1)\n",
    "    print(\"\\nMatch found! Extracted JSON string:\")\n",
    "    print(json_str)\n",
    "    \n",
    "    try:\n",
    "        json_data = json.loads(json_str)\n",
    "        print(\"\\nSuccessfully parsed JSON data:\")\n",
    "        print(json_data)\n",
    "        print(f\"\\nFormatted query: {json_data.get('formatted_query', 'Not found')}\")\n",
    "    except json.JSONDecodeError as e:\n",
    "        print(f\"\\nJSON parsing error: {e}\")\n",
    "else:\n",
    "    print(\"\\nNo match found with the pattern!\")\n",
    "    print(\"Looking at the raw response in detail:\")\n",
    "    print(repr(answer))  # This shows escape characters\n",
    "    \n",
    "    # Let's try alternative patterns\n",
    "    alternative_patterns = [\n",
    "        r'{.*}',  # Simple JSON without code blocks\n",
    "        r'```\\n(.*)\\n```',  # Code blocks but no language specified\n",
    "        r'```json\\s+(.*)\\s+```',  # Different spacing\n",
    "        r'```(.*?)```'  # Any code block\n",
    "    ]\n",
    "    \n",
    "    for pattern in alternative_patterns:\n",
    "        alt_match = re.search(pattern, answer, re.DOTALL)\n",
    "        if alt_match:\n",
    "            print(f\"\\nAlternative pattern matched: {pattern}\")\n",
    "            alt_json_str = alt_match.group(1)\n",
    "            print(\"Extracted content:\")\n",
    "            print(alt_json_str)\n",
    "            try:\n",
    "                # Try to parse it as JSON \n",
    "                json.loads(alt_json_str)\n",
    "                print(\"This could be parsed as valid JSON\")\n",
    "            except:\n",
    "                print(\"This is not valid JSON\")"
   ]
  },
  {
   "cell_type": "code",
   "execution_count": 1,
   "metadata": {},
   "outputs": [],
   "source": [
    "a = \"a7d9z66h33n121mm\""
   ]
  },
  {
   "cell_type": "code",
   "execution_count": 2,
   "metadata": {},
   "outputs": [],
   "source": [
    "list_num =[]\n",
    "for i in a:\n",
    "    if i.isdigit():\n",
    "        list_num.append(i)"
   ]
  },
  {
   "cell_type": "code",
   "execution_count": 3,
   "metadata": {},
   "outputs": [
    {
     "data": {
      "text/plain": [
       "['7', '9', '6', '6', '3', '3', '1', '2', '1']"
      ]
     },
     "execution_count": 3,
     "metadata": {},
     "output_type": "execute_result"
    }
   ],
   "source": [
    "list_num"
   ]
  },
  {
   "cell_type": "code",
   "execution_count": null,
   "metadata": {},
   "outputs": [
    {
     "data": {
      "text/plain": [
       "'9'"
      ]
     },
     "execution_count": 7,
     "metadata": {},
     "output_type": "execute_result"
    }
   ],
   "source": [
    "list_num.sort()\n",
    "list_num[-1]"
   ]
  },
  {
   "cell_type": "code",
   "execution_count": null,
   "metadata": {},
   "outputs": [],
   "source": []
  }
 ],
 "metadata": {
  "kernelspec": {
   "display_name": "venv",
   "language": "python",
   "name": "python3"
  },
  "language_info": {
   "codemirror_mode": {
    "name": "ipython",
    "version": 3
   },
   "file_extension": ".py",
   "mimetype": "text/x-python",
   "name": "python",
   "nbconvert_exporter": "python",
   "pygments_lexer": "ipython3",
   "version": "3.11.11"
  }
 },
 "nbformat": 4,
 "nbformat_minor": 2
}
